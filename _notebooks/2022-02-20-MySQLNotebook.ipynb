{
 "cells": [
  {
   "cell_type": "markdown",
   "metadata": {
    "azdata_cell_guid": "0148d0f5-5b90-45a8-9930-d43e00b73818"
   },
   "source": [
    "# **Notion Path:**  \n",
    "\n",
    "[https://www.notion.so/sumendar/https-learn-365datascience-com-courses-preview-sql-b85ebae1438f4784bfec143983a42800](https://www.notion.so/sumendar/https-learn-365datascience-com-courses-preview-sql-b85ebae1438f4784bfec143983a42800)"
   ]
  },
  {
   "cell_type": "markdown",
   "metadata": {
    "azdata_cell_guid": "41e413f4-6355-4c36-9055-59c2df40888f",
    "language": ""
   },
   "source": [
    "# **365datascience.com login details:**\n",
    "\n",
    "**[https://learn.365datascience.com/courses/preview/sql/](https://learn.365datascience.com/courses/preview/sql/)**  \n",
    "**[dsc52562612@gmail.com](mailto:dsc52562612@gmail.com)**  \n",
    "**Pa\\_\\_\\_rd1**\\*"
   ]
  },
  {
   "cell_type": "markdown",
   "metadata": {
    "azdata_cell_guid": "11a391da-e4f9-4cb3-bf96-2c200cb9304a"
   },
   "source": [
    "# **Files Located at Google Drive:**  \n",
    "\n",
    "https://drive.google.com/drive/folders/1ecWhPSM4AAVZTmr\\_prUBqs07BocBuoeE?usp=share\\_link"
   ]
  },
  {
   "cell_type": "markdown",
   "metadata": {
    "azdata_cell_guid": "65cd9f99-097d-4065-b475-173e79db6657"
   },
   "source": [
    "# **Resources:**  \n",
    "+ https://www.educba.com/data-science/data-science-tutorials/mysql-tutorial/  \n",
    "+ https://www.w3schools.com/mysql/default.asp  "
   ]
  },
  {
   "cell_type": "code",
   "execution_count": 3,
   "metadata": {
    "azdata_cell_guid": "d7a2a362-7b1d-4504-ad82-72f0022ec6ad",
    "language": "sql"
   },
   "outputs": [
    {
     "data": {
      "text/html": [
       "Commands completed successfully"
      ]
     },
     "metadata": {},
     "output_type": "display_data"
    },
    {
     "data": {
      "text/html": [
       "Commands completed successfully"
      ]
     },
     "metadata": {},
     "output_type": "display_data"
    },
    {
     "data": {
      "text/html": [
       "Total execution time: 00:00:00.011"
      ]
     },
     "metadata": {},
     "output_type": "display_data"
    }
   ],
   "source": [
    "-- LECTURE: Creating a Database - Part I\n",
    "\n",
    "CREATE DATABASE IF NOT EXISTS Sales;\n",
    "\n",
    "CREATE SCHEMA IF NOT EXISTS Sales;"
   ]
  },
  {
   "cell_type": "code",
   "execution_count": 2,
   "metadata": {
    "azdata_cell_guid": "5375a6ba-3f02-47dd-94de-fb9b8e58dd5c",
    "language": "sql"
   },
   "outputs": [
    {
     "data": {
      "text/html": [
       "Commands completed successfully"
      ]
     },
     "metadata": {},
     "output_type": "display_data"
    },
    {
     "data": {
      "text/html": [
       "Total execution time: 00:00:00.002"
      ]
     },
     "metadata": {},
     "output_type": "display_data"
    }
   ],
   "source": [
    "USE Sales;"
   ]
  },
  {
   "cell_type": "code",
   "execution_count": null,
   "metadata": {
    "azdata_cell_guid": "886a7d82-178d-4de3-b189-f8dba454b63c",
    "language": "sql"
   },
   "outputs": [],
   "source": [
    "USE world;\n",
    "SELECT * from city;\n",
    "# select"
   ]
  },
  {
   "cell_type": "code",
   "execution_count": null,
   "metadata": {},
   "outputs": [],
   "source": []
  }
 ],
 "metadata": {
  "hide_input": false,
  "kernelspec": {
   "display_name": "PySpark",
   "language": "",
   "name": "pysparkkernel"
  },
  "language_info": {
   "name": "sql",
   "version": ""
  },
  "latex_envs": {
   "LaTeX_envs_menu_present": true,
   "autoclose": false,
   "autocomplete": true,
   "bibliofile": "biblio.bib",
   "cite_by": "apalike",
   "current_citInitial": 1,
   "eqLabelWithNumbers": true,
   "eqNumInitial": 1,
   "hotkeys": {
    "equation": "Ctrl-E",
    "itemize": "Ctrl-I"
   },
   "labels_anchors": false,
   "latex_user_defs": false,
   "report_style_numbering": false,
   "user_envs_cfg": false
  },
  "toc": {
   "base_numbering": 1,
   "nav_menu": {},
   "number_sections": true,
   "sideBar": true,
   "skip_h1_title": false,
   "title_cell": "Table of Contents",
   "title_sidebar": "Contents",
   "toc_cell": false,
   "toc_position": {},
   "toc_section_display": true,
   "toc_window_display": false
  },
  "varInspector": {
   "cols": {
    "lenName": 16,
    "lenType": 16,
    "lenVar": 40
   },
   "kernels_config": {
    "python": {
     "delete_cmd_postfix": "",
     "delete_cmd_prefix": "del ",
     "library": "var_list.py",
     "varRefreshCmd": "print(var_dic_list())"
    },
    "r": {
     "delete_cmd_postfix": ") ",
     "delete_cmd_prefix": "rm(",
     "library": "var_list.r",
     "varRefreshCmd": "cat(var_dic_list()) "
    }
   },
   "types_to_exclude": [
    "module",
    "function",
    "builtin_function_or_method",
    "instance",
    "_Feature"
   ],
   "window_display": false
  }
 },
 "nbformat": 4,
 "nbformat_minor": 2
}
