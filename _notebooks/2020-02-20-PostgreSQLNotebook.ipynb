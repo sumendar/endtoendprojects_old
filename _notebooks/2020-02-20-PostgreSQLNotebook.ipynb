{
 "cells": [
  {
   "cell_type": "markdown",
   "metadata": {},
   "source": [
    "# PostgreSQL Azure Data Studio Notebook\n",
    "> A tutorial of PostgreSQL.\n",
    "- toc: true \n",
    "- badges: true\n",
    "- comments: true\n",
    "- categories: [R]\n"
   ]
  },
  {
   "cell_type": "markdown",
   "metadata": {
    "azdata_cell_guid": "30891deb-356e-4742-8d99-d5e6a3d984e3",
    "language": ""
   },
   "source": [
    "**Access PostgreSQL databases using the Azure Data Studio extension:**  \n",
    "[https://www.sqlshack.com/access-postgresql-databases-using-the-azure-data-studio-extension/](https://www.sqlshack.com/access-postgresql-databases-using-the-azure-data-studio-extension/)  \n",
    "\n",
    "[https://azure.microsoft.com/en-in/blog/azure-data-studio-an-open-source-gui-editor-for-postgres/](https://azure.microsoft.com/en-in/blog/azure-data-studio-an-open-source-gui-editor-for-postgres/)"
   ]
  },
  {
   "cell_type": "markdown",
   "metadata": {
    "azdata_cell_guid": "f57c79cc-2f62-4d6c-9e93-9993896f2726",
    "language": ""
   },
   "source": [
    "*When you get a connection to* `PostgreSQL` *it is always to a particular database. To access a different database, you must get a new connection.*  \n",
    "https://stackoverflow.com/questions/10335561/use-database-name-command-in-postgresql  "
   ]
  },
  {
   "cell_type": "code",
   "execution_count": 2,
   "metadata": {
    "azdata_cell_guid": "db330fd2-fb19-4b89-8dac-19211fa499f4",
    "language": "sql"
   },
   "outputs": [
    {
     "data": {
      "text/html": [
       "(4 row(s) affected)"
      ]
     },
     "metadata": {},
     "output_type": "display_data"
    },
    {
     "data": {
      "text/html": [
       "Total execution time: 00:00:00.005"
      ]
     },
     "metadata": {},
     "output_type": "display_data"
    },
    {
     "data": {
      "application/vnd.dataresource+json": {
       "data": [
        {
         "0": "postgres"
        },
        {
         "0": "tutorialdb"
        },
        {
         "0": "template1"
        },
        {
         "0": "template0"
        }
       ],
       "schema": {
        "fields": [
         {
          "name": "datname"
         }
        ]
       }
      },
      "text/html": [
       "<table><tr><th>datname</th></tr><tr><td>postgres</td></tr><tr><td>tutorialdb</td></tr><tr><td>template1</td></tr><tr><td>template0</td></tr></table>"
      ]
     },
     "execution_count": 2,
     "metadata": {},
     "output_type": "execute_result"
    }
   ],
   "source": [
    "Select datname from pg_database;"
   ]
  },
  {
   "cell_type": "code",
   "execution_count": 3,
   "metadata": {
    "azdata_cell_guid": "6eb82e4b-b525-4f3d-8328-15829936f623",
    "language": "sql"
   },
   "outputs": [
    {
     "data": {
      "text/html": [
       "(4 row(s) affected)"
      ]
     },
     "metadata": {},
     "output_type": "display_data"
    },
    {
     "data": {
      "text/html": [
       "Total execution time: 00:00:00.010"
      ]
     },
     "metadata": {},
     "output_type": "display_data"
    },
    {
     "data": {
      "application/vnd.dataresource+json": {
       "data": [
        {
         "0": "1",
         "1": "Orlando",
         "2": "Australia",
         "3": "NULL"
        },
        {
         "0": "2",
         "1": "Keith",
         "2": "India",
         "3": "keith0@adventure-works.com"
        },
        {
         "0": "3",
         "1": "Donna",
         "2": "Germany",
         "3": "donna0@adventure-works.com"
        },
        {
         "0": "4",
         "1": "Janet",
         "2": "United States",
         "3": "janet1@adventure-works.com"
        }
       ],
       "schema": {
        "fields": [
         {
          "name": "customer_id"
         },
         {
          "name": "name"
         },
         {
          "name": "location"
         },
         {
          "name": "email"
         }
        ]
       }
      },
      "text/html": [
       "<table><tr><th>customer_id</th><th>name</th><th>location</th><th>email</th></tr><tr><td>1</td><td>Orlando</td><td>Australia</td><td>NULL</td></tr><tr><td>2</td><td>Keith</td><td>India</td><td>keith0@adventure-works.com</td></tr><tr><td>3</td><td>Donna</td><td>Germany</td><td>donna0@adventure-works.com</td></tr><tr><td>4</td><td>Janet</td><td>United States</td><td>janet1@adventure-works.com</td></tr></table>"
      ]
     },
     "execution_count": 3,
     "metadata": {},
     "output_type": "execute_result"
    }
   ],
   "source": [
    "-- Select rows from table 'customers'\n",
    "SELECT * FROM customers;"
   ]
  },
  {
   "cell_type": "code",
   "execution_count": 4,
   "metadata": {
    "azdata_cell_guid": "08e07c39-907c-4f6f-93f6-62fe70f4c8b7",
    "language": "sql"
   },
   "outputs": [
    {
     "data": {
      "text/html": [
       "(4 row(s) affected)"
      ]
     },
     "metadata": {},
     "output_type": "display_data"
    },
    {
     "data": {
      "text/html": [
       "Total execution time: 00:00:00.003"
      ]
     },
     "metadata": {},
     "output_type": "display_data"
    },
    {
     "data": {
      "application/vnd.dataresource+json": {
       "data": [
        {
         "0": "Orlando",
         "1": "Australia"
        },
        {
         "0": "Keith",
         "1": "India"
        },
        {
         "0": "Donna",
         "1": "Germany"
        },
        {
         "0": "Janet",
         "1": "United States"
        }
       ],
       "schema": {
        "fields": [
         {
          "name": "name"
         },
         {
          "name": "location"
         }
        ]
       }
      },
      "text/html": [
       "<table><tr><th>name</th><th>location</th></tr><tr><td>Orlando</td><td>Australia</td></tr><tr><td>Keith</td><td>India</td></tr><tr><td>Donna</td><td>Germany</td></tr><tr><td>Janet</td><td>United States</td></tr></table>"
      ]
     },
     "execution_count": 4,
     "metadata": {},
     "output_type": "execute_result"
    }
   ],
   "source": [
    "SELECT NAME, LOCATION FROM customers;"
   ]
  },
  {
   "cell_type": "code",
   "execution_count": 5,
   "metadata": {
    "azdata_cell_guid": "d22e5898-8127-4b09-9625-4759dc26a00b",
    "language": "sql"
   },
   "outputs": [
    {
     "data": {
      "text/html": [
       "(1 row(s) affected)"
      ]
     },
     "metadata": {},
     "output_type": "display_data"
    },
    {
     "data": {
      "text/html": [
       "Total execution time: 00:00:00.014"
      ]
     },
     "metadata": {},
     "output_type": "display_data"
    },
    {
     "data": {
      "application/vnd.dataresource+json": {
       "data": [
        {
         "0": "4"
        }
       ],
       "schema": {
        "fields": [
         {
          "name": "count"
         }
        ]
       }
      },
      "text/html": [
       "<table><tr><th>count</th></tr><tr><td>4</td></tr></table>"
      ]
     },
     "execution_count": 5,
     "metadata": {},
     "output_type": "execute_result"
    }
   ],
   "source": [
    "SELECT COUNT(*) FROM customers;"
   ]
  }
 ],
 "metadata": {
  "hide_input": false,
  "kernelspec": {
   "display_name": "Python 3 (ipykernel)",
   "language": "python",
   "name": "python3"
  },
  "language_info": {
   "codemirror_mode": {
    "name": "ipython",
    "version": 3
   },
   "file_extension": ".py",
   "mimetype": "text/x-python",
   "name": "python",
   "nbconvert_exporter": "python",
   "pygments_lexer": "ipython3",
   "version": "3.8.8"
  },
  "latex_envs": {
   "LaTeX_envs_menu_present": true,
   "autoclose": false,
   "autocomplete": true,
   "bibliofile": "biblio.bib",
   "cite_by": "apalike",
   "current_citInitial": 1,
   "eqLabelWithNumbers": true,
   "eqNumInitial": 1,
   "hotkeys": {
    "equation": "Ctrl-E",
    "itemize": "Ctrl-I"
   },
   "labels_anchors": false,
   "latex_user_defs": false,
   "report_style_numbering": false,
   "user_envs_cfg": false
  },
  "toc": {
   "base_numbering": 1,
   "nav_menu": {},
   "number_sections": true,
   "sideBar": true,
   "skip_h1_title": false,
   "title_cell": "Table of Contents",
   "title_sidebar": "Contents",
   "toc_cell": false,
   "toc_position": {},
   "toc_section_display": true,
   "toc_window_display": false
  },
  "varInspector": {
   "cols": {
    "lenName": 16,
    "lenType": 16,
    "lenVar": 40
   },
   "kernels_config": {
    "python": {
     "delete_cmd_postfix": "",
     "delete_cmd_prefix": "del ",
     "library": "var_list.py",
     "varRefreshCmd": "print(var_dic_list())"
    },
    "r": {
     "delete_cmd_postfix": ") ",
     "delete_cmd_prefix": "rm(",
     "library": "var_list.r",
     "varRefreshCmd": "cat(var_dic_list()) "
    }
   },
   "types_to_exclude": [
    "module",
    "function",
    "builtin_function_or_method",
    "instance",
    "_Feature"
   ],
   "window_display": false
  }
 },
 "nbformat": 4,
 "nbformat_minor": 2
}
