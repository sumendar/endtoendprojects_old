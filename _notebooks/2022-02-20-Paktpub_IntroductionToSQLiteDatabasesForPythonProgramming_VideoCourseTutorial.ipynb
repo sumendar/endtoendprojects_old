{
 "cells": [
  {
   "cell_type": "code",
   "execution_count": null,
   "id": "f9aef9d5",
   "metadata": {},
   "outputs": [],
   "source": [
    "## Using SQLite With Python"
   ]
  },
  {
   "cell_type": "markdown",
   "id": "f1b4917f",
   "metadata": {},
   "source": [
    "<iframe src=\"https://assets.pinterest.com/ext/embed.html?id=420523683962989537\" height=\"445\" width=\"345\" frameborder=\"0\" scrolling=\"no\" ></iframe>"
   ]
  },
  {
   "cell_type": "markdown",
   "id": "da8da0d7",
   "metadata": {},
   "source": [
    "**Link:**  \n",
    "https://subscription.packtpub.com/video/application-development/9781838982867/116872/116877/query-and-fetchall"
   ]
  },
  {
   "cell_type": "code",
   "execution_count": 11,
   "id": "ec3d35f6",
   "metadata": {},
   "outputs": [],
   "source": [
    "    import sqlite3"
   ]
  },
  {
   "cell_type": "markdown",
   "id": "0b1c7bf2",
   "metadata": {},
   "source": [
    "## Using SQLite With Python"
   ]
  },
  {
   "cell_type": "markdown",
   "id": "9e43aa6a",
   "metadata": {},
   "source": [
    "### Create SQLite Connection"
   ]
  },
  {
   "cell_type": "code",
   "execution_count": 12,
   "id": "9dfe4763",
   "metadata": {},
   "outputs": [],
   "source": [
    "#%%sql\n",
    "#conn = sqlite3.connect(\n",
    "#    \":memory:\"\n",
    "#)  #store database inmemory temporary without perminent(placed inmemory like Ram  it will delete )"
   ]
  },
  {
   "cell_type": "code",
   "execution_count": 13,
   "id": "c5ab8092",
   "metadata": {},
   "outputs": [],
   "source": [
    "conn = sqlite3.connect(\"customer.db\")"
   ]
  },
  {
   "cell_type": "markdown",
   "id": "6ac290d9",
   "metadata": {},
   "source": [
    "### Create A Database Table  \n",
    "**`SQLite is Case Sensitive`  \n",
    "(*Lowercase shoule be in lower and Uppercase should be in uppercase*)**"
   ]
  },
  {
   "cell_type": "code",
   "execution_count": 14,
   "id": "1ba00006",
   "metadata": {},
   "outputs": [],
   "source": [
    "c = conn.cursor() # cursor to pointout "
   ]
  },
  {
   "cell_type": "code",
   "execution_count": null,
   "id": "ea9d4cc6",
   "metadata": {},
   "outputs": [],
   "source": [
    "# create a table\n",
    "c.execute(\"\"\"CREATE TABLE customers (\n",
    "                first_name DATATYPE,\n",
    "                last_name DATATYPE,\n",
    "                email DATATYPE)\n",
    "                \"\"\")"
   ]
  },
  {
   "cell_type": "code",
   "execution_count": 18,
   "id": "b43bce7f",
   "metadata": {},
   "outputs": [
    {
     "data": {
      "text/plain": [
       "<sqlite3.Cursor at 0x13cc6b19650>"
      ]
     },
     "execution_count": 18,
     "metadata": {},
     "output_type": "execute_result"
    }
   ],
   "source": [
    "c.execute(\"DROP TABLE customers\")"
   ]
  },
  {
   "cell_type": "code",
   "execution_count": 19,
   "id": "86a075d3",
   "metadata": {},
   "outputs": [
    {
     "data": {
      "text/plain": [
       "<sqlite3.Cursor at 0x13cc6b19650>"
      ]
     },
     "execution_count": 19,
     "metadata": {},
     "output_type": "execute_result"
    }
   ],
   "source": [
    "# create a table\n",
    "c.execute(\"\"\"CREATE TABLE customers (\n",
    "                first_name text,\n",
    "                last_name text,\n",
    "                email text)\n",
    "                \"\"\")"
   ]
  },
  {
   "cell_type": "markdown",
   "id": "c6450973",
   "metadata": {},
   "source": [
    "###  Commit the Connection"
   ]
  },
  {
   "cell_type": "code",
   "execution_count": 20,
   "id": "a2da2c68",
   "metadata": {},
   "outputs": [],
   "source": [
    "conn.commit() # commit the execution"
   ]
  },
  {
   "cell_type": "markdown",
   "id": "9e5d0dcf",
   "metadata": {},
   "source": [
    "### Close the Connection"
   ]
  },
  {
   "cell_type": "code",
   "execution_count": 21,
   "id": "9d06408a",
   "metadata": {},
   "outputs": [],
   "source": [
    "conn.close() # close the connection"
   ]
  },
  {
   "cell_type": "markdown",
   "id": "8d0d982f",
   "metadata": {},
   "source": [
    "### ReConnect with the database we want and execute the queries  \n",
    "`Closed coonnection will not execute,   so we have to  connect again and create the cursor for execution`"
   ]
  },
  {
   "cell_type": "code",
   "execution_count": 25,
   "id": "5e16f8e8",
   "metadata": {},
   "outputs": [],
   "source": [
    "conn = sqlite3.connect(\"customer.db\")"
   ]
  },
  {
   "cell_type": "code",
   "execution_count": 26,
   "id": "cf7b0aee",
   "metadata": {},
   "outputs": [],
   "source": [
    "c = conn.cursor() # cursor to pointout "
   ]
  },
  {
   "cell_type": "code",
   "execution_count": 27,
   "id": "eb3955a0",
   "metadata": {},
   "outputs": [
    {
     "data": {
      "text/plain": [
       "<sqlite3.Cursor at 0x13cc6b2a880>"
      ]
     },
     "execution_count": 27,
     "metadata": {},
     "output_type": "execute_result"
    }
   ],
   "source": [
    "c.execute(\"INSERT INTO customers VALUES('John', 'Eler', 'john@codemy.com')\")"
   ]
  },
  {
   "cell_type": "code",
   "execution_count": 41,
   "id": "07723b36",
   "metadata": {},
   "outputs": [
    {
     "name": "stdout",
     "output_type": "stream",
     "text": [
      "('John', 'Eler', 'john@codemy.com')\n"
     ]
    }
   ],
   "source": [
    "c.execute(\"SELECT * FROM customers\")\n",
    "# this would be run with the above line so get the output (indivisual this line run will not get output)\n",
    "print(c.fetchone())"
   ]
  }
 ],
 "metadata": {
  "hide_input": false,
  "jupytext": {
   "formats": "ipynb,md:myst"
  },
  "kernelspec": {
   "display_name": "Python 3 (ipykernel)",
   "language": "python",
   "name": "python3"
  },
  "language_info": {
   "codemirror_mode": {
    "name": "ipython",
    "version": 3
   },
   "file_extension": ".py",
   "mimetype": "text/x-python",
   "name": "python",
   "nbconvert_exporter": "python",
   "pygments_lexer": "ipython3",
   "version": "3.9.13"
  },
  "latex_envs": {
   "LaTeX_envs_menu_present": true,
   "autoclose": false,
   "autocomplete": true,
   "bibliofile": "biblio.bib",
   "cite_by": "apalike",
   "current_citInitial": 1,
   "eqLabelWithNumbers": true,
   "eqNumInitial": 1,
   "hotkeys": {
    "equation": "Ctrl-E",
    "itemize": "Ctrl-I"
   },
   "labels_anchors": false,
   "latex_user_defs": false,
   "report_style_numbering": false,
   "user_envs_cfg": false
  },
  "toc": {
   "base_numbering": 1,
   "nav_menu": {},
   "number_sections": true,
   "sideBar": true,
   "skip_h1_title": false,
   "title_cell": "Table of Contents",
   "title_sidebar": "Contents",
   "toc_cell": false,
   "toc_position": {},
   "toc_section_display": true,
   "toc_window_display": true
  },
  "varInspector": {
   "cols": {
    "lenName": 16,
    "lenType": 16,
    "lenVar": 40
   },
   "kernels_config": {
    "python": {
     "delete_cmd_postfix": "",
     "delete_cmd_prefix": "del ",
     "library": "var_list.py",
     "varRefreshCmd": "print(var_dic_list())"
    },
    "r": {
     "delete_cmd_postfix": ") ",
     "delete_cmd_prefix": "rm(",
     "library": "var_list.r",
     "varRefreshCmd": "cat(var_dic_list()) "
    }
   },
   "types_to_exclude": [
    "module",
    "function",
    "builtin_function_or_method",
    "instance",
    "_Feature"
   ],
   "window_display": false
  }
 },
 "nbformat": 4,
 "nbformat_minor": 5
}
