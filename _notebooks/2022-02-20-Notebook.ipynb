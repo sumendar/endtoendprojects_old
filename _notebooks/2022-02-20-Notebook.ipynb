{
 "cells": [
  {
   "cell_type": "markdown",
   "id": "8b575b6a",
   "metadata": {},
   "source": [
    "# Foundational Principles of R Programming\n",
    "> A tutorial of Basic R programming.\n",
    "\n",
    "- toc: true \n",
    "- badges: true\n",
    "- comments: true\n",
    "- categories: [R]\n",
    "- image: imgs/YQfqXlY.png"
   ]
  },
  {
   "cell_type": "markdown",
   "id": "1e6929c4",
   "metadata": {},
   "source": [
    "**Default Notebook Extensions For Better Presentation:**   ![Imgur](https://i.imgur.com/qJ0xmMJ.jpg)  "
   ]
  },
  {
   "cell_type": "markdown",
   "id": "72b48439",
   "metadata": {},
   "source": [
    "##\tData Types"
   ]
  },
  {
   "cell_type": "markdown",
   "id": "0e991b06",
   "metadata": {},
   "source": [
    "###\tNumeric (integer and double)"
   ]
  },
  {
   "cell_type": "code",
   "execution_count": 1,
   "id": "ada4b1f8",
   "metadata": {
    "cell_style": "center",
    "scrolled": false,
    "vscode": {
     "languageId": "r"
    }
   },
   "outputs": [
    {
     "name": "stdout",
     "output_type": "stream",
     "text": [
      "[1] \"numeric\"\n",
      "[1] \"double\"\n",
      "[1] \"numeric\"\n",
      "[1] \"numeric\"\n",
      "[1] \"numeric\"\n",
      "[1] \"integer\"\n"
     ]
    }
   ],
   "source": [
    "# integer and double (real)\n",
    "# (e.g, 9, 7.2, pi)\n",
    "i1 = 10\n",
    "i2= 2.34\n",
    "i3  = 5/2\n",
    "i4 = -90\n",
    "i5 = 5L          # Here, L tells R to store the value as an integer,\n",
    "print(class(i1))\n",
    "print(typeof(i1))\n",
    "print(class(i2))\n",
    "print(class(i3))\n",
    "print(class(i4))\n",
    "print(class(i5))\n"
   ]
  },
  {
   "cell_type": "code",
   "execution_count": 3,
   "id": "330e0737",
   "metadata": {
    "cell_style": "center",
    "deletable": false,
    "run_control": {
     "marked": false
    },
    "vscode": {
     "languageId": "r"
    }
   },
   "outputs": [
    {
     "name": "stdout",
     "output_type": "stream",
     "text": [
      "[1] \"double\"\n",
      "[1] \"double\"\n",
      "[1] \"double\"\n",
      "[1] \"double\"\n",
      "[1] \"integer\"\n"
     ]
    }
   ],
   "source": [
    "print(typeof(i1))\n",
    "print(typeof(i2))\n",
    "print(typeof(i3))\n",
    "print(typeof(i4))\n",
    "print(typeof(i5))"
   ]
  },
  {
   "cell_type": "markdown",
   "id": "a2865674",
   "metadata": {},
   "source": [
    "###\tcomplex"
   ]
  },
  {
   "cell_type": "code",
   "execution_count": 1,
   "id": "83e295b8",
   "metadata": {
    "vscode": {
     "languageId": "r"
    }
   },
   "outputs": [
    {
     "name": "stdout",
     "output_type": "stream",
     "text": [
      "[1] \"complex\"\n"
     ]
    }
   ],
   "source": [
    "i5 = 2+7i\n",
    "print(class(i5))"
   ]
  },
  {
   "cell_type": "markdown",
   "id": "d476c660",
   "metadata": {},
   "source": [
    "###\tcharacter and factor"
   ]
  },
  {
   "cell_type": "code",
   "execution_count": 4,
   "id": "e1254360",
   "metadata": {
    "vscode": {
     "languageId": "r"
    }
   },
   "outputs": [
    {
     "name": "stdout",
     "output_type": "stream",
     "text": [
      "[1] \"character\"\n",
      "[1] \"character\"\n",
      "[1] \"character\"\n",
      "[1] \"character\"\n"
     ]
    }
   ],
   "source": [
    "c1 = \"c\"\n",
    "c2 = \"data\"\n",
    "c3 = 'R-Programming'\n",
    "print(class(c1))\n",
    "print(class(c2))\n",
    "print(class(c3))\n",
    "v1 <- c(\"data\",\"science\",\"R-Programming\")\n",
    "print(class(v1))"
   ]
  },
  {
   "cell_type": "markdown",
   "id": "4d587b09",
   "metadata": {},
   "source": [
    "Factors\n",
    "Factor object encodes a vector of unique elements (levels) from the given data vector."
   ]
  },
  {
   "cell_type": "code",
   "execution_count": 1,
   "id": "a98fc239",
   "metadata": {
    "vscode": {
     "languageId": "r"
    }
   },
   "outputs": [
    {
     "name": "stdout",
     "output_type": "stream",
     "text": [
      "[1] \"character\"\n",
      "[1] \"data\"          \"science\"       \"R-Programming\"\n",
      "[1] data          science       R-Programming\n",
      "Levels: data R-Programming science\n",
      "[1] medium High   low   \n",
      "Levels: High low medium\n",
      "[1] medium high   low   \n",
      "Levels: high < low < medium\n",
      "[1] medium high   low   \n",
      "Levels: low < medium < high\n"
     ]
    }
   ],
   "source": [
    "v1 <- c(\"data\",\"science\",\"R-Programming\")\n",
    "f1 =factor(v1)\n",
    "print(class(v1))\n",
    "print(v1)\n",
    "print(f1)\n",
    "v2 <- c(\"medium\",\"High\",\"low\")\n",
    "f2 =factor(v2)\n",
    "print(f2)\n",
    "v3 <- c(\"medium\",\"high\",\"low\")\n",
    "f3 =factor(v3, ordered = TRUE)\n",
    "print(f3)\n",
    "v4 <- c(\"medium\",\"high\",\"low\")\n",
    "f4 =factor(v4, ordered = TRUE, levels = c(\"low\", \"medium\", \"high\"))\n",
    "print(f4)"
   ]
  },
  {
   "cell_type": "markdown",
   "id": "a3f24fa6",
   "metadata": {},
   "source": [
    "###\tlogical"
   ]
  },
  {
   "cell_type": "code",
   "execution_count": 6,
   "id": "aa8c8e72",
   "metadata": {
    "vscode": {
     "languageId": "r"
    }
   },
   "outputs": [
    {
     "name": "stdout",
     "output_type": "stream",
     "text": [
      "[1] \"logical\"\n",
      "[1] \"logical\"\n"
     ]
    }
   ],
   "source": [
    "l1 = TRUE\n",
    "l2 = FALSE\n",
    "print(class(l1))\n",
    "print(class(l2))"
   ]
  },
  {
   "cell_type": "markdown",
   "id": "ab50e7ec",
   "metadata": {},
   "source": [
    "###\tdate and time"
   ]
  },
  {
   "cell_type": "code",
   "execution_count": 7,
   "id": "f4d42821",
   "metadata": {
    "vscode": {
     "languageId": "r"
    }
   },
   "outputs": [
    {
     "name": "stdout",
     "output_type": "stream",
     "text": [
      "[1] \"2021-6-16\"\n",
      "[1] \"2021-06-16\"\n",
      "[1] \"character\"\n",
      "[1] \"Date\"\n"
     ]
    }
   ],
   "source": [
    "c1 <- '2021-6-16'\n",
    "d1 <- as.Date('2021-6-16')\n",
    "print(c1)\n",
    "print(d1)\n",
    "print(class(c1))\n",
    "print(class(d1))"
   ]
  },
  {
   "cell_type": "markdown",
   "id": "a9efb526",
   "metadata": {},
   "source": [
    "![](imgs/screenshot_20211119_194218.jpg)"
   ]
  },
  {
   "cell_type": "code",
   "execution_count": 8,
   "id": "266eeaef",
   "metadata": {
    "vscode": {
     "languageId": "r"
    }
   },
   "outputs": [
    {
     "data": {
      "text/html": [
       "<time datetime=\"2001-01-15\">2001-01-15</time>"
      ],
      "text/latex": [
       "2001-01-15"
      ],
      "text/markdown": [
       "2001-01-15"
      ],
      "text/plain": [
       "[1] \"2001-01-15\""
      ]
     },
     "metadata": {},
     "output_type": "display_data"
    },
    {
     "data": {
      "text/html": [
       "<time datetime=\"2001-04-26\">2001-04-26</time>"
      ],
      "text/latex": [
       "2001-04-26"
      ],
      "text/markdown": [
       "2001-04-26"
      ],
      "text/plain": [
       "[1] \"2001-04-26\""
      ]
     },
     "metadata": {},
     "output_type": "display_data"
    },
    {
     "data": {
      "text/html": [
       "<time datetime=\"2001-06-22\">2001-06-22</time>"
      ],
      "text/latex": [
       "2001-06-22"
      ],
      "text/markdown": [
       "2001-06-22"
      ],
      "text/plain": [
       "[1] \"2001-06-22\""
      ]
     },
     "metadata": {},
     "output_type": "display_data"
    }
   ],
   "source": [
    "as.Date('1/15/2001',format='%m/%d/%Y')\n",
    "# \"2001-01-15\"\n",
    "as.Date('April 26, 2001',format='%B %d, %Y')\n",
    "# \"2001-04-26\"\n",
    "as.Date('22JUN01',format='%d%b%y')   # %y is system-specific; use with caution\n",
    "# \"2001-06-22\""
   ]
  },
  {
   "cell_type": "markdown",
   "id": "f31a47a3",
   "metadata": {},
   "source": [
    "`as.POSIXct: Date-time Conversion-`"
   ]
  },
  {
   "cell_type": "code",
   "execution_count": 15,
   "id": "84a0a182",
   "metadata": {
    "scrolled": true,
    "vscode": {
     "languageId": "r"
    }
   },
   "outputs": [
    {
     "data": {
      "text/html": [
       "<time datetime=\"2021-12-05\">2021-12-05</time>"
      ],
      "text/latex": [
       "2021-12-05"
      ],
      "text/markdown": [
       "2021-12-05"
      ],
      "text/plain": [
       "[1] \"2021-12-05\""
      ]
     },
     "metadata": {},
     "output_type": "display_data"
    }
   ],
   "source": [
    "# To get current date\n",
    "Sys.Date()"
   ]
  },
  {
   "cell_type": "code",
   "execution_count": 16,
   "id": "2cac5db6",
   "metadata": {
    "vscode": {
     "languageId": "r"
    }
   },
   "outputs": [
    {
     "data": {
      "text/plain": [
       "[1] \"2021-12-05 09:09:58 IST\""
      ]
     },
     "metadata": {},
     "output_type": "display_data"
    }
   ],
   "source": [
    "# To get current date and time method \n",
    "Sys.time()"
   ]
  },
  {
   "cell_type": "markdown",
   "id": "8df80528",
   "metadata": {},
   "source": [
    "###\tRaw\n",
    "        "
   ]
  },
  {
   "cell_type": "code",
   "execution_count": 11,
   "id": "9baa9870",
   "metadata": {
    "vscode": {
     "languageId": "r"
    }
   },
   "outputs": [
    {
     "name": "stdout",
     "output_type": "stream",
     "text": [
      " [1] 52 20 70 72 6f 67 72 61 6d 6d 69 6e 67\n"
     ]
    }
   ],
   "source": [
    "#Raw Data type  \n",
    "raw<- charToRaw(\"R programming\")  \n",
    "print(raw)  "
   ]
  },
  {
   "cell_type": "markdown",
   "id": "439575ab",
   "metadata": {},
   "source": [
    "Raw is a very unusual data type. For instance, you could transform a character object or a integer numeric value to a raw object with the `charToRaw` and `intToBits` functions, respectively."
   ]
  },
  {
   "cell_type": "code",
   "execution_count": 12,
   "id": "37a54742",
   "metadata": {
    "vscode": {
     "languageId": "r"
    }
   },
   "outputs": [
    {
     "name": "stdout",
     "output_type": "stream",
     "text": [
      " [1] 64 61 74 61 20 73 63 69 65 6e 63 65\n"
     ]
    },
    {
     "data": {
      "text/html": [
       "'raw'"
      ],
      "text/latex": [
       "'raw'"
      ],
      "text/markdown": [
       "'raw'"
      ],
      "text/plain": [
       "[1] \"raw\""
      ]
     },
     "metadata": {},
     "output_type": "display_data"
    },
    {
     "name": "stdout",
     "output_type": "stream",
     "text": [
      "[1] TRUE\n",
      " [1] 00 01 01 00 00 00 00 00 00 00 00 00 00 00 00 00 00 00 00 00 00 00 00 00 00\n",
      "[26] 00 00 00 00 00 00 00\n"
     ]
    },
    {
     "data": {
      "text/html": [
       "'raw'"
      ],
      "text/latex": [
       "'raw'"
      ],
      "text/markdown": [
       "'raw'"
      ],
      "text/plain": [
       "[1] \"raw\""
      ]
     },
     "metadata": {},
     "output_type": "display_data"
    }
   ],
   "source": [
    "a <- charToRaw(\"data science\")\n",
    "print(a) # [1] 64 61 74 61 20 73 63 69 65 6e 63 65\n",
    "class(a) # \"raw\"\n",
    "print(is.vector(a))\n",
    "b <- intToBits(6)\n",
    "print(b)\n",
    "class(b) # \"raw\""
   ]
  },
  {
   "cell_type": "code",
   "execution_count": 13,
   "id": "8efa2e38",
   "metadata": {
    "scrolled": false,
    "vscode": {
     "languageId": "r"
    }
   },
   "outputs": [
    {
     "data": {
      "text/html": [
       "<ol class=list-inline>\n",
       "\t<li>'d'</li>\n",
       "\t<li>'a'</li>\n",
       "\t<li>'t'</li>\n",
       "\t<li>'a'</li>\n",
       "\t<li>' '</li>\n",
       "\t<li>'s'</li>\n",
       "\t<li>'c'</li>\n",
       "\t<li>'i'</li>\n",
       "\t<li>'e'</li>\n",
       "\t<li>'n'</li>\n",
       "\t<li>'c'</li>\n",
       "\t<li>'e'</li>\n",
       "</ol>\n"
      ],
      "text/latex": [
       "\\begin{enumerate*}\n",
       "\\item 'd'\n",
       "\\item 'a'\n",
       "\\item 't'\n",
       "\\item 'a'\n",
       "\\item ' '\n",
       "\\item 's'\n",
       "\\item 'c'\n",
       "\\item 'i'\n",
       "\\item 'e'\n",
       "\\item 'n'\n",
       "\\item 'c'\n",
       "\\item 'e'\n",
       "\\end{enumerate*}\n"
      ],
      "text/markdown": [
       "1. 'd'\n",
       "2. 'a'\n",
       "3. 't'\n",
       "4. 'a'\n",
       "5. ' '\n",
       "6. 's'\n",
       "7. 'c'\n",
       "8. 'i'\n",
       "9. 'e'\n",
       "10. 'n'\n",
       "11. 'c'\n",
       "12. 'e'\n",
       "\n",
       "\n"
      ],
      "text/plain": [
       " [1] \"d\" \"a\" \"t\" \"a\" \" \" \"s\" \"c\" \"i\" \"e\" \"n\" \"c\" \"e\""
      ]
     },
     "metadata": {},
     "output_type": "display_data"
    }
   ],
   "source": [
    "rawToChar(a, multiple = TRUE)"
   ]
  },
  {
   "cell_type": "markdown",
   "id": "da2ec534",
   "metadata": {},
   "source": [
    "**Objects:**  \n",
    "In every computer language variables provide a means of accessing the data stored in memory. R does not provide direct access to the computer’s memory but rather provides a number of specialized data structures we will refer to as objects. These objects are referred to through symbols or variables\n",
    "> Everything in R language is an Object, Objects are further categorized into above mentioned list"
   ]
  },
  {
   "cell_type": "markdown",
   "id": "d2e5b662",
   "metadata": {},
   "source": [
    "<img src=\"imgs/VXYtqs9A1.jpg\" alt=\"drawing\" width=\"550\"/>"
   ]
  },
  {
   "cell_type": "markdown",
   "id": "e8ae6ffa",
   "metadata": {},
   "source": [
    "In this chapter we provide preliminary descriptions extraction and operations of the various data structures provided in R"
   ]
  },
  {
   "cell_type": "markdown",
   "id": "a63b6599",
   "metadata": {},
   "source": [
    "##\tData Structures"
   ]
  },
  {
   "cell_type": "markdown",
   "id": "234fa0bc",
   "metadata": {},
   "source": [
    "###\tvectors"
   ]
  },
  {
   "cell_type": "code",
   "execution_count": null,
   "id": "5de264a4",
   "metadata": {
    "vscode": {
     "languageId": "r"
    }
   },
   "outputs": [],
   "source": [
    "Atomic vectors are one of the basic types of objects in R programming. Atomic vectors can store homogeneous data types such as character, doubles, integers, raw, logical, and complex. A single element variable is also said to be vector."
   ]
  },
  {
   "cell_type": "markdown",
   "id": "3c2903f6",
   "metadata": {},
   "source": [
    "To create a vector we use `c()` function each value/element seperated with comma  \n",
    "Eg: \n",
    "1. `x <- c(2,7,1,7,1,6,80,0,1)`\n",
    "2. `z <- c(\"Alec\", \"Dan\", \"Rob\", \"Rich\")`  \n",
    "3. `y <- c(TRUE, TRUE, FALSE, FALSE)`  "
   ]
  },
  {
   "cell_type": "code",
   "execution_count": 2,
   "id": "eb4223ed",
   "metadata": {
    "vscode": {
     "languageId": "r"
    }
   },
   "outputs": [],
   "source": [
    "x <- c(2,7,1,7,1,6,80,0,1)\n",
    "y <- c(TRUE, TRUE, FALSE, FALSE)\n",
    "z <- c(\"Alec\", \"Dan\", \"Rob\", \"Rich\")"
   ]
  },
  {
   "cell_type": "code",
   "execution_count": 5,
   "id": "d465828e",
   "metadata": {
    "vscode": {
     "languageId": "r"
    }
   },
   "outputs": [
    {
     "name": "stdout",
     "output_type": "stream",
     "text": [
      "[1] \"numeric\"\n",
      "[1] \"logical\"\n",
      "[1] \"character\"\n"
     ]
    }
   ],
   "source": [
    "# To know the each class of a vector we could use the class function\n",
    "print(class(x)) # numeric vector\n",
    "print(class(y)) # logical vector\n",
    "print(class(z)) # character vector"
   ]
  },
  {
   "cell_type": "markdown",
   "id": "09e2516b",
   "metadata": {},
   "source": [
    "**Indexing**"
   ]
  },
  {
   "cell_type": "code",
   "execution_count": null,
   "id": "73c67e56",
   "metadata": {
    "vscode": {
     "languageId": "r"
    }
   },
   "outputs": [],
   "source": [
    "Positive"
   ]
  },
  {
   "cell_type": "code",
   "execution_count": 21,
   "id": "549c0b94",
   "metadata": {
    "vscode": {
     "languageId": "r"
    }
   },
   "outputs": [
    {
     "name": "stdout",
     "output_type": "stream",
     "text": [
      "[1]  2  7  1  7  1  6 80  0  1\n",
      "[1] 2\n",
      "[1] 7\n",
      "[1]  2  7  1  7  1  6 80  0  1\n",
      "[1] 2 7 1 7 1\n",
      "[1]  1  7  1  6 80  0\n"
     ]
    }
   ],
   "source": [
    "# to get each individual element, each index starts with 1 and goes till its length\n",
    "print(x) #entire vector\n",
    "print(x[1])\n",
    "print(x[2])\n",
    "# to get range of elements\n",
    "print(x) #entire vector\n",
    "print(x[1:5])\n",
    "print(x[3:8])"
   ]
  },
  {
   "cell_type": "code",
   "execution_count": null,
   "id": "ea8fcbe0",
   "metadata": {
    "vscode": {
     "languageId": "r"
    }
   },
   "outputs": [],
   "source": [
    "Negative"
   ]
  },
  {
   "cell_type": "code",
   "execution_count": 20,
   "id": "815a5b40",
   "metadata": {
    "vscode": {
     "languageId": "r"
    }
   },
   "outputs": [
    {
     "name": "stdout",
     "output_type": "stream",
     "text": [
      "[1]  2  7  1  7  1  6 80  0  1\n",
      "[1]  7  1  7  1  6 80  0  1\n",
      "[1]  2  7  1  1  6 80  0  1\n"
     ]
    }
   ],
   "source": [
    "print(x) #entire vector\n",
    "print(x[-1]) #ignore/exclude first element\n",
    "print(x[-4]) #ignore/exclude fourth value"
   ]
  },
  {
   "cell_type": "markdown",
   "id": "69e6e191",
   "metadata": {},
   "source": [
    "###\tmatrices"
   ]
  },
  {
   "cell_type": "code",
   "execution_count": null,
   "id": "1a9c62f9",
   "metadata": {
    "vscode": {
     "languageId": "r"
    }
   },
   "outputs": [],
   "source": [
    "Matrices\n",
    "To store values as 2-Dimensional array, matrices are used in R. Data, number of rows and columns are defined in the matrix() function."
   ]
  },
  {
   "cell_type": "markdown",
   "id": "3985d707",
   "metadata": {},
   "source": [
    "To create a matrix we use `matrix()` function with nrow and ncol arguements  \n",
    "Eg: \n",
    "1. `m1 <- matrix(c(2,7,1,7,1,6,80,0,1),nrow=2,ncol=4)`  "
   ]
  },
  {
   "cell_type": "code",
   "execution_count": 23,
   "id": "2d2ff818",
   "metadata": {
    "vscode": {
     "languageId": "r"
    }
   },
   "outputs": [
    {
     "name": "stdout",
     "output_type": "stream",
     "text": [
      "     [,1] [,2] [,3]\n",
      "[1,]    2    7   80\n",
      "[2,]    7    1    0\n",
      "[3,]    1    6    1\n"
     ]
    }
   ],
   "source": [
    "m1 <- matrix(c(2,7,1,7,1,6,80,0,1),nrow=3,ncol=3)\n",
    "print(m1)"
   ]
  },
  {
   "cell_type": "markdown",
   "id": "45aea132",
   "metadata": {},
   "source": [
    "**Indexing**"
   ]
  },
  {
   "cell_type": "code",
   "execution_count": 33,
   "id": "249df574",
   "metadata": {
    "vscode": {
     "languageId": "r"
    }
   },
   "outputs": [
    {
     "name": "stdout",
     "output_type": "stream",
     "text": [
      "[1] 2\n",
      "[1] 0\n",
      "[1] 1\n",
      "[1] 7 1 0\n",
      "[1] 80  0  1\n",
      "     [,1]\n",
      "[1,]   80\n",
      "[2,]    0\n",
      "[3,]    1\n"
     ]
    }
   ],
   "source": [
    "print(m1[1,1]) #first row first column element\n",
    "print(m1[2,3]) #second row third column element\n",
    "print(m1[3,3]) #third row third column value\n",
    "print(m1[2,]) #entire second row\n",
    "print(m1[,3]) #entire second row\n",
    "print(m1[,3,drop=FALSE]) #entire second row as vertical display"
   ]
  },
  {
   "cell_type": "code",
   "execution_count": 40,
   "id": "145c23d2",
   "metadata": {
    "vscode": {
     "languageId": "r"
    }
   },
   "outputs": [
    {
     "name": "stdout",
     "output_type": "stream",
     "text": [
      "     [,1]     [,2]       \n",
      "[1,] \"apple\"  \"orange\"   \n",
      "[2,] \"banana\" \"mango\"    \n",
      "[3,] \"cherry\" \"pineapple\"\n"
     ]
    }
   ],
   "source": [
    "thismatrix <- matrix(c(\"apple\", \"banana\", \"cherry\", \"orange\", \"mango\", \"pineapple\"), nrow = 3, ncol =2)\n",
    "print(thismatrix)\n",
    "#Remove the first row and the first column"
   ]
  },
  {
   "cell_type": "code",
   "execution_count": 41,
   "id": "5b7a27f5",
   "metadata": {
    "vscode": {
     "languageId": "r"
    }
   },
   "outputs": [
    {
     "name": "stdout",
     "output_type": "stream",
     "text": [
      "[1] \"mango\"     \"pineapple\"\n"
     ]
    }
   ],
   "source": [
    "thismatrix <- thismatrix[-c(1), -c(1)]\n",
    "\n",
    "print(thismatrix)"
   ]
  },
  {
   "cell_type": "markdown",
   "id": "143dff1d",
   "metadata": {},
   "source": [
    "**create a matrix using `cbind` and `rbind`**"
   ]
  },
  {
   "cell_type": "code",
   "execution_count": 42,
   "id": "f0867f01",
   "metadata": {
    "vscode": {
     "languageId": "r"
    }
   },
   "outputs": [
    {
     "data": {
      "text/html": [
       "'matrix'"
      ],
      "text/latex": [
       "'matrix'"
      ],
      "text/markdown": [
       "'matrix'"
      ],
      "text/plain": [
       "[1] \"matrix\""
      ]
     },
     "metadata": {},
     "output_type": "display_data"
    },
    {
     "name": "stdout",
     "output_type": "stream",
     "text": [
      "     Index Age Salary\n",
      "[1,]     1  30    500\n",
      "[2,]     2  45    600\n",
      "[3,]     3  34    550\n"
     ]
    }
   ],
   "source": [
    "# 3 column matrix with column dimnames\n",
    "m <- cbind(Index = c(1:3), Age = c(30, 45, 34), Salary = c(500, 600, 550)) \n",
    "class(m)\n",
    "print(m)"
   ]
  },
  {
   "cell_type": "markdown",
   "id": "c5f60365",
   "metadata": {
    "heading_collapsed": true
   },
   "source": [
    "###\tarrays"
   ]
  },
  {
   "cell_type": "code",
   "execution_count": null,
   "id": "6e366964",
   "metadata": {
    "hidden": true,
    "vscode": {
     "languageId": "r"
    }
   },
   "outputs": [],
   "source": [
    "Arrays\n",
    "array() function is used to create n-dimensional array. This function takes dim attribute as an argument and creates required length of each dimension as specified in the attribute."
   ]
  },
  {
   "cell_type": "code",
   "execution_count": 45,
   "id": "69d7bc01",
   "metadata": {
    "hidden": true,
    "scrolled": false,
    "vscode": {
     "languageId": "r"
    }
   },
   "outputs": [
    {
     "name": "stdout",
     "output_type": "stream",
     "text": [
      "[1] \"array\"\n",
      ", , 1\n",
      "\n",
      "     [,1] [,2] [,3]\n",
      "[1,]    1    4    7\n",
      "[2,]    2    5    8\n",
      "[3,]    3    6    9\n",
      "\n",
      ", , 2\n",
      "\n",
      "     [,1] [,2] [,3]\n",
      "[1,]   10   13   16\n",
      "[2,]   11   14   17\n",
      "[3,]   12   15   18\n",
      "\n",
      ", , 3\n",
      "\n",
      "     [,1] [,2] [,3]\n",
      "[1,]   19   22   25\n",
      "[2,]   20   23   26\n",
      "[3,]   21   24   27\n",
      "\n"
     ]
    }
   ],
   "source": [
    "a <- array(data = 1:27, dim=c(3,3,3))\n",
    "print(class(a))\n",
    "print(a)"
   ]
  },
  {
   "cell_type": "markdown",
   "id": "d57d3dfc",
   "metadata": {
    "hidden": true
   },
   "source": [
    "**Indexing**"
   ]
  },
  {
   "cell_type": "code",
   "execution_count": 49,
   "id": "6f795862",
   "metadata": {
    "hidden": true,
    "vscode": {
     "languageId": "r"
    }
   },
   "outputs": [
    {
     "name": "stdout",
     "output_type": "stream",
     "text": [
      "[1] 17\n"
     ]
    }
   ],
   "source": [
    "print(a[2,3,2]) # extract single element"
   ]
  },
  {
   "cell_type": "code",
   "execution_count": 51,
   "id": "89220c2e",
   "metadata": {
    "hidden": true,
    "vscode": {
     "languageId": "r"
    }
   },
   "outputs": [
    {
     "name": "stdout",
     "output_type": "stream",
     "text": [
      "     [,1] [,2] [,3]\n",
      "[1,]   10   13   16\n",
      "[2,]   11   14   17\n",
      "[3,]   12   15   18\n"
     ]
    }
   ],
   "source": [
    "print(a[,,2]) # A two-dimensional array is the same thing as a matrix."
   ]
  },
  {
   "cell_type": "code",
   "execution_count": 53,
   "id": "7d0be3a0",
   "metadata": {
    "hidden": true,
    "scrolled": true,
    "vscode": {
     "languageId": "r"
    }
   },
   "outputs": [
    {
     "name": "stdout",
     "output_type": "stream",
     "text": [
      "[1] 10 13 16\n"
     ]
    }
   ],
   "source": [
    "print(a[1,,2]) # extract one row"
   ]
  },
  {
   "cell_type": "code",
   "execution_count": 57,
   "id": "c5363987",
   "metadata": {
    "hidden": true,
    "run_control": {
     "marked": false
    },
    "vscode": {
     "languageId": "r"
    }
   },
   "outputs": [
    {
     "name": "stdout",
     "output_type": "stream",
     "text": [
      ", , 1\n",
      "\n",
      "     [,1]\n",
      "[1,]   16\n",
      "[2,]   17\n",
      "[3,]   18\n",
      "\n"
     ]
    }
   ],
   "source": [
    "print(a[, 3, 2, drop = FALSE])  # extract one column"
   ]
  },
  {
   "cell_type": "markdown",
   "id": "05f31363",
   "metadata": {
    "heading_collapsed": true
   },
   "source": [
    "###\tdata frames"
   ]
  },
  {
   "cell_type": "code",
   "execution_count": null,
   "id": "cb8ba29b",
   "metadata": {
    "hidden": true,
    "vscode": {
     "languageId": "r"
    }
   },
   "outputs": [],
   "source": [
    "Data Frames\n",
    "Data frames are 2-dimensional tabular data object in R programming. Data frames consists of multiple columns and each column represents a vector. Columns in data frame can have different modes of data unlike matrices."
   ]
  },
  {
   "cell_type": "code",
   "execution_count": 58,
   "id": "ea3d3322",
   "metadata": {
    "hidden": true,
    "vscode": {
     "languageId": "r"
    }
   },
   "outputs": [
    {
     "data": {
      "text/html": [
       "<table>\n",
       "<thead><tr><th scope=col>Name</th><th scope=col>age</th><th scope=col>height</th></tr></thead>\n",
       "<tbody>\n",
       "\t<tr><td>Ramesh</td><td>23    </td><td>4.6   </td></tr>\n",
       "\t<tr><td>Tarun </td><td>54    </td><td>5.4   </td></tr>\n",
       "\t<tr><td>Shekar</td><td>32    </td><td>6.2   </td></tr>\n",
       "</tbody>\n",
       "</table>\n"
      ],
      "text/latex": [
       "\\begin{tabular}{r|lll}\n",
       " Name & age & height\\\\\n",
       "\\hline\n",
       "\t Ramesh & 23     & 4.6   \\\\\n",
       "\t Tarun  & 54     & 5.4   \\\\\n",
       "\t Shekar & 32     & 6.2   \\\\\n",
       "\\end{tabular}\n"
      ],
      "text/markdown": [
       "\n",
       "| Name | age | height |\n",
       "|---|---|---|\n",
       "| Ramesh | 23     | 4.6    |\n",
       "| Tarun  | 54     | 5.4    |\n",
       "| Shekar | 32     | 6.2    |\n",
       "\n"
      ],
      "text/plain": [
       "  Name   age height\n",
       "1 Ramesh 23  4.6   \n",
       "2 Tarun  54  5.4   \n",
       "3 Shekar 32  6.2   "
      ]
     },
     "metadata": {},
     "output_type": "display_data"
    }
   ],
   "source": [
    "Name <- c(\"Ramesh\", \"Tarun\", \"Shekar\")\n",
    "age <- c(23, 54, 32)\n",
    "height <- c(4.6,5.4,6.2)\n",
    "df <- data.frame(Name, age, height)\n",
    "df"
   ]
  },
  {
   "cell_type": "code",
   "execution_count": 59,
   "id": "f69bbd65",
   "metadata": {
    "hidden": true,
    "scrolled": true,
    "vscode": {
     "languageId": "r"
    }
   },
   "outputs": [
    {
     "name": "stdout",
     "output_type": "stream",
     "text": [
      "  x y\n",
      "1 1 a\n",
      "2 2 b\n",
      "3 3 c\n"
     ]
    }
   ],
   "source": [
    "df <- data.frame(x = 1:3, y = c(\"a\", \"b\", \"c\"))\n",
    "print(df)"
   ]
  },
  {
   "cell_type": "markdown",
   "id": "bdef3c5c",
   "metadata": {
    "hidden": true
   },
   "source": [
    "**Create dataframe using `cbind` and `rbind` methods**"
   ]
  },
  {
   "cell_type": "code",
   "execution_count": 62,
   "id": "52197628",
   "metadata": {
    "hidden": true,
    "scrolled": true,
    "vscode": {
     "languageId": "r"
    }
   },
   "outputs": [
    {
     "name": "stdout",
     "output_type": "stream",
     "text": [
      "[1] \"data.frame\"\n",
      "  1 a  b\n",
      "1 1 1  1\n",
      "2 1 2  4\n",
      "3 1 3  9\n",
      "4 1 4 16\n",
      "5 1 5 25\n"
     ]
    },
    {
     "data": {
      "text/html": [
       "<table>\n",
       "<thead><tr><th scope=col>a</th><th scope=col>b</th></tr></thead>\n",
       "<tbody>\n",
       "\t<tr><td>1 </td><td> 1</td></tr>\n",
       "\t<tr><td>2 </td><td> 4</td></tr>\n",
       "\t<tr><td>3 </td><td> 9</td></tr>\n",
       "\t<tr><td>4 </td><td>16</td></tr>\n",
       "\t<tr><td>5 </td><td>25</td></tr>\n",
       "</tbody>\n",
       "</table>\n"
      ],
      "text/latex": [
       "\\begin{tabular}{r|ll}\n",
       " a & b\\\\\n",
       "\\hline\n",
       "\t 1  &  1\\\\\n",
       "\t 2  &  4\\\\\n",
       "\t 3  &  9\\\\\n",
       "\t 4  & 16\\\\\n",
       "\t 5  & 25\\\\\n",
       "\\end{tabular}\n"
      ],
      "text/markdown": [
       "\n",
       "| a | b |\n",
       "|---|---|\n",
       "| 1  |  1 |\n",
       "| 2  |  4 |\n",
       "| 3  |  9 |\n",
       "| 4  | 16 |\n",
       "| 5  | 25 |\n",
       "\n"
      ],
      "text/plain": [
       "  a b \n",
       "1 1  1\n",
       "2 2  4\n",
       "3 3  9\n",
       "4 4 16\n",
       "5 5 25"
      ]
     },
     "metadata": {},
     "output_type": "display_data"
    },
    {
     "name": "stdout",
     "output_type": "stream",
     "text": [
      "  a  b\n",
      "1 1  1\n",
      "2 2  4\n",
      "3 3  9\n",
      "4 4 16\n",
      "5 5 25\n",
      "6 2  3\n",
      "7 5  6\n"
     ]
    }
   ],
   "source": [
    "# Using cbind\n",
    "df1 <- cbind(1, df)\n",
    "print(class(df1))\n",
    "print(df1)\n",
    "# Using rbind\n",
    "df <- data.frame(a = c(1:5), b = (1:5)^2)\n",
    "df\n",
    "df2 = rbind(df, c(2, 3), c(5, 6))\n",
    "print(df2)"
   ]
  },
  {
   "cell_type": "markdown",
   "id": "45dd9b08",
   "metadata": {
    "hidden": true
   },
   "source": [
    "**Indexing and Extracting Elements:**"
   ]
  },
  {
   "cell_type": "code",
   "execution_count": 63,
   "id": "24abc98c",
   "metadata": {
    "hidden": true,
    "scrolled": true,
    "vscode": {
     "languageId": "r"
    }
   },
   "outputs": [
    {
     "data": {
      "text/html": [
       "<table>\n",
       "<thead><tr><th scope=col>Name</th><th scope=col>age</th><th scope=col>height</th></tr></thead>\n",
       "<tbody>\n",
       "\t<tr><td>Ramesh</td><td>23    </td><td>4.6   </td></tr>\n",
       "\t<tr><td>Tarun </td><td>54    </td><td>5.4   </td></tr>\n",
       "\t<tr><td>Shekar</td><td>32    </td><td>6.2   </td></tr>\n",
       "</tbody>\n",
       "</table>\n"
      ],
      "text/latex": [
       "\\begin{tabular}{r|lll}\n",
       " Name & age & height\\\\\n",
       "\\hline\n",
       "\t Ramesh & 23     & 4.6   \\\\\n",
       "\t Tarun  & 54     & 5.4   \\\\\n",
       "\t Shekar & 32     & 6.2   \\\\\n",
       "\\end{tabular}\n"
      ],
      "text/markdown": [
       "\n",
       "| Name | age | height |\n",
       "|---|---|---|\n",
       "| Ramesh | 23     | 4.6    |\n",
       "| Tarun  | 54     | 5.4    |\n",
       "| Shekar | 32     | 6.2    |\n",
       "\n"
      ],
      "text/plain": [
       "  Name   age height\n",
       "1 Ramesh 23  4.6   \n",
       "2 Tarun  54  5.4   \n",
       "3 Shekar 32  6.2   "
      ]
     },
     "metadata": {},
     "output_type": "display_data"
    }
   ],
   "source": [
    "Name <- c(\"Ramesh\", \"Tarun\", \"Shekar\")\n",
    "age <- c(23, 54, 32)\n",
    "height <- c(4.6,5.4,6.2)\n",
    "df <- data.frame(Name, age, height)\n",
    "df"
   ]
  },
  {
   "cell_type": "code",
   "execution_count": 73,
   "id": "ca262762",
   "metadata": {
    "hidden": true,
    "vscode": {
     "languageId": "r"
    }
   },
   "outputs": [
    {
     "data": {
      "text/html": [
       "Ramesh\n",
       "<details>\n",
       "\t<summary style=display:list-item;cursor:pointer>\n",
       "\t\t<strong>Levels</strong>:\n",
       "\t</summary>\n",
       "\t<ol class=list-inline>\n",
       "\t\t<li>'Ramesh'</li>\n",
       "\t\t<li>'Shekar'</li>\n",
       "\t\t<li>'Tarun'</li>\n",
       "\t</ol>\n",
       "</details>"
      ],
      "text/latex": [
       "Ramesh\n",
       "\\emph{Levels}: \\begin{enumerate*}\n",
       "\\item 'Ramesh'\n",
       "\\item 'Shekar'\n",
       "\\item 'Tarun'\n",
       "\\end{enumerate*}\n"
      ],
      "text/markdown": [
       "Ramesh\n",
       "**Levels**: 1. 'Ramesh'\n",
       "2. 'Shekar'\n",
       "3. 'Tarun'\n",
       "\n",
       "\n"
      ],
      "text/plain": [
       "[1] Ramesh\n",
       "Levels: Ramesh Shekar Tarun"
      ]
     },
     "metadata": {},
     "output_type": "display_data"
    }
   ],
   "source": [
    "df[1,1]"
   ]
  },
  {
   "cell_type": "code",
   "execution_count": 69,
   "id": "ff6e7693",
   "metadata": {
    "hidden": true,
    "scrolled": true,
    "vscode": {
     "languageId": "r"
    }
   },
   "outputs": [
    {
     "name": "stdout",
     "output_type": "stream",
     "text": [
      "[1] Ramesh Tarun  Shekar\n",
      "Levels: Ramesh Shekar Tarun\n"
     ]
    }
   ],
   "source": [
    "print(df$Name)"
   ]
  },
  {
   "cell_type": "code",
   "execution_count": 76,
   "id": "25aa2dfd",
   "metadata": {
    "hidden": true,
    "vscode": {
     "languageId": "r"
    }
   },
   "outputs": [
    {
     "name": "stdout",
     "output_type": "stream",
     "text": [
      "[1] Ramesh Tarun  Shekar\n",
      "Levels: Ramesh Shekar Tarun\n"
     ]
    }
   ],
   "source": [
    "print(df[,'Name'])"
   ]
  },
  {
   "cell_type": "code",
   "execution_count": 74,
   "id": "ae45d47d",
   "metadata": {
    "hidden": true,
    "vscode": {
     "languageId": "r"
    }
   },
   "outputs": [
    {
     "name": "stdout",
     "output_type": "stream",
     "text": [
      "    Name age\n",
      "1 Ramesh  23\n",
      "2  Tarun  54\n",
      "3 Shekar  32\n"
     ]
    }
   ],
   "source": [
    "print(df[,c('Name','age')])"
   ]
  },
  {
   "cell_type": "markdown",
   "id": "0d0e78ef",
   "metadata": {
    "hidden": true
   },
   "source": [
    "**Create a dataframe using `expand.grid()` method**"
   ]
  },
  {
   "cell_type": "code",
   "execution_count": 75,
   "id": "2e026112",
   "metadata": {
    "hidden": true,
    "vscode": {
     "languageId": "r"
    }
   },
   "outputs": [
    {
     "name": "stdout",
     "output_type": "stream",
     "text": [
      "[1] \"data.frame\"\n",
      "  pants shirt\n",
      "1  blue white\n",
      "2 black white\n",
      "3  blue  grey\n",
      "4 black  grey\n",
      "5  blue plaid\n",
      "6 black plaid\n"
     ]
    }
   ],
   "source": [
    "eg <- expand.grid(pants = c(\"blue\", \"black\"), shirt = c(\"white\", \"grey\", \"plaid\"))\n",
    "print(class(eg))\n",
    "print(eg)"
   ]
  },
  {
   "cell_type": "markdown",
   "id": "02de927c",
   "metadata": {
    "heading_collapsed": true
   },
   "source": [
    "###\tlists"
   ]
  },
  {
   "cell_type": "code",
   "execution_count": null,
   "id": "59543715",
   "metadata": {
    "hidden": true,
    "vscode": {
     "languageId": "r"
    }
   },
   "outputs": [],
   "source": [
    "Lists\n",
    "List is another type of object in R programming. List can contain heterogeneous data types such as vectors or another lists."
   ]
  },
  {
   "cell_type": "markdown",
   "id": "dc8480d1",
   "metadata": {
    "hidden": true
   },
   "source": [
    "* List is a special vector. Each element can be a different class.\n",
    "* lists act as containers\n",
    "* Unlike atomic vectors, its contents are not restricted to a single type\n",
    "* a list can be anything, and two elements within a list can be of different types!\n",
    "* Lists are sometimes called recursive vectors, because a list can contain other lists\n",
    "  \n",
    "**Create a ists using list function**      \n",
    "`x <- list(1, \"a\", TRUE, 1+4i)`   "
   ]
  },
  {
   "cell_type": "code",
   "execution_count": 19,
   "id": "1294d55a",
   "metadata": {
    "hidden": true,
    "scrolled": false,
    "vscode": {
     "languageId": "r"
    }
   },
   "outputs": [
    {
     "name": "stdout",
     "output_type": "stream",
     "text": [
      "[[1]]\n",
      "[1] 1\n",
      "\n",
      "[[2]]\n",
      "[1] \"a\"\n",
      "\n",
      "[[3]]\n",
      "[1] TRUE\n",
      "\n",
      "[[4]]\n",
      "[1] 1+4i\n",
      "\n"
     ]
    }
   ],
   "source": [
    "lst1 <- list(1, \"a\", TRUE, 1+4i)\n",
    "print(lst1)"
   ]
  },
  {
   "cell_type": "markdown",
   "id": "1661fe98",
   "metadata": {
    "hidden": true
   },
   "source": [
    "**Indexing**"
   ]
  },
  {
   "cell_type": "code",
   "execution_count": 23,
   "id": "0bb7a94d",
   "metadata": {
    "hidden": true,
    "vscode": {
     "languageId": "r"
    }
   },
   "outputs": [
    {
     "name": "stdout",
     "output_type": "stream",
     "text": [
      "[[1]]\n",
      "[1] 1\n",
      "\n"
     ]
    }
   ],
   "source": [
    "print(lst1[1])"
   ]
  },
  {
   "cell_type": "code",
   "execution_count": 27,
   "id": "7def72e6",
   "metadata": {
    "hidden": true,
    "vscode": {
     "languageId": "r"
    }
   },
   "outputs": [
    {
     "data": {
      "text/html": [
       "'list'"
      ],
      "text/latex": [
       "'list'"
      ],
      "text/markdown": [
       "'list'"
      ],
      "text/plain": [
       "[1] \"list\""
      ]
     },
     "metadata": {},
     "output_type": "display_data"
    }
   ],
   "source": [
    "class(lst1[1])"
   ]
  },
  {
   "cell_type": "code",
   "execution_count": 25,
   "id": "a1f58fcd",
   "metadata": {
    "hidden": true,
    "scrolled": true,
    "vscode": {
     "languageId": "r"
    }
   },
   "outputs": [
    {
     "ename": "ERROR",
     "evalue": "Error in lst1[1] * 2: non-numeric argument to binary operator\n",
     "output_type": "error",
     "traceback": [
      "Error in lst1[1] * 2: non-numeric argument to binary operator\nTraceback:\n"
     ]
    }
   ],
   "source": [
    "print(lst1[1]*2) # we will get error because its not a number, but its still a list "
   ]
  },
  {
   "cell_type": "code",
   "execution_count": 28,
   "id": "8668c887",
   "metadata": {
    "hidden": true,
    "vscode": {
     "languageId": "r"
    }
   },
   "outputs": [
    {
     "data": {
      "text/html": [
       "'numeric'"
      ],
      "text/latex": [
       "'numeric'"
      ],
      "text/markdown": [
       "'numeric'"
      ],
      "text/plain": [
       "[1] \"numeric\""
      ]
     },
     "metadata": {},
     "output_type": "display_data"
    }
   ],
   "source": [
    "class(lst1[[1]])"
   ]
  },
  {
   "cell_type": "code",
   "execution_count": 29,
   "id": "7d09fa1e",
   "metadata": {
    "hidden": true,
    "scrolled": true,
    "vscode": {
     "languageId": "r"
    }
   },
   "outputs": [
    {
     "name": "stdout",
     "output_type": "stream",
     "text": [
      "[1] 1\n"
     ]
    }
   ],
   "source": [
    "print(lst1[[1]])"
   ]
  },
  {
   "cell_type": "code",
   "execution_count": 30,
   "id": "7a59df0c",
   "metadata": {
    "hidden": true,
    "vscode": {
     "languageId": "r"
    }
   },
   "outputs": [
    {
     "data": {
      "text/html": [
       "2"
      ],
      "text/latex": [
       "2"
      ],
      "text/markdown": [
       "2"
      ],
      "text/plain": [
       "[1] 2"
      ]
     },
     "metadata": {},
     "output_type": "display_data"
    }
   ],
   "source": [
    "lst1[[1]]*2"
   ]
  },
  {
   "cell_type": "code",
   "execution_count": 31,
   "id": "6e3db705",
   "metadata": {
    "hidden": true,
    "vscode": {
     "languageId": "r"
    }
   },
   "outputs": [
    {
     "name": "stdout",
     "output_type": "stream",
     "text": [
      "[1] \"apple\"     \"banana\"    \"cherry\"    \"orange\"    \"mango\"     \"pineapple\"\n",
      "     [,1]     [,2]       \n",
      "[1,] \"apple\"  \"orange\"   \n",
      "[2,] \"banana\" \"mango\"    \n",
      "[3,] \"cherry\" \"pineapple\"\n",
      ", , 1\n",
      "\n",
      "     [,1]     [,2]    \n",
      "[1,] \"apple\"  \"cherry\"\n",
      "[2,] \"banana\" \"orange\"\n",
      "\n",
      ", , 2\n",
      "\n",
      "     [,1]        [,2]    \n",
      "[1,] \"mango\"     \"apple\" \n",
      "[2,] \"pineapple\" \"banana\"\n",
      "\n",
      "    Name age height\n",
      "1 Ramesh  23    4.6\n",
      "2  Tarun  54    5.4\n",
      "3 Shekar  32    6.2\n"
     ]
    }
   ],
   "source": [
    "#creating vector\n",
    "v <- c(\"apple\", \"banana\", \"cherry\", \"orange\", \"mango\", \"pineapple\")\n",
    "print(v)\n",
    "#creating matrix\n",
    "m <- matrix(c(\"apple\", \"banana\", \"cherry\", \"orange\", \"mango\", \"pineapple\"), nrow = 3, ncol =2)\n",
    "print(m)\n",
    "#creating array\n",
    "a <- array(c(\"apple\", \"banana\", \"cherry\", \"orange\", \"mango\", \"pineapple\"), dim = c(2,2,2))\n",
    "print(a)\n",
    "#creating dataframe\n",
    "Name <- c(\"Ramesh\", \"Tarun\", \"Shekar\")\n",
    "age <- c(23, 54, 32)\n",
    "height <- c(4.6,5.4,6.2)\n",
    "df <- data.frame(Name, age, height)\n",
    "print(df)"
   ]
  },
  {
   "cell_type": "code",
   "execution_count": 5,
   "id": "f82c09b3",
   "metadata": {
    "hidden": true,
    "scrolled": false,
    "vscode": {
     "languageId": "r"
    }
   },
   "outputs": [
    {
     "name": "stdout",
     "output_type": "stream",
     "text": [
      "[1] \"list\"\n",
      "[[1]]\n",
      "[1] \"apple\"     \"banana\"    \"cherry\"    \"orange\"    \"mango\"     \"pineapple\"\n",
      "\n",
      "[[2]]\n",
      "     [,1]     [,2]       \n",
      "[1,] \"apple\"  \"orange\"   \n",
      "[2,] \"banana\" \"mango\"    \n",
      "[3,] \"cherry\" \"pineapple\"\n",
      "\n",
      "[[3]]\n",
      ", , 1\n",
      "\n",
      "     [,1]     [,2]    \n",
      "[1,] \"apple\"  \"cherry\"\n",
      "[2,] \"banana\" \"orange\"\n",
      "\n",
      ", , 2\n",
      "\n",
      "     [,1]        [,2]    \n",
      "[1,] \"mango\"     \"apple\" \n",
      "[2,] \"pineapple\" \"banana\"\n",
      "\n",
      "\n",
      "[[4]]\n",
      "    Name age height\n",
      "1 Ramesh  23    4.6\n",
      "2  Tarun  54    5.4\n",
      "3 Shekar  32    6.2\n",
      "\n",
      "[[5]]\n",
      "[[5]][[1]]\n",
      "[1] 1\n",
      "\n",
      "[[5]][[2]]\n",
      "[1] \"a\"\n",
      "\n",
      "[[5]][[3]]\n",
      "[1] TRUE\n",
      "\n",
      "[[5]][[4]]\n",
      "[1] 1+4i\n",
      "\n",
      "\n"
     ]
    }
   ],
   "source": [
    "lst2 <- list(v,m,a,df, lst1)\n",
    "print(class(lst2))\n",
    "print(lst2)"
   ]
  },
  {
   "cell_type": "code",
   "execution_count": 33,
   "id": "cef66c4c",
   "metadata": {
    "hidden": true,
    "scrolled": true,
    "vscode": {
     "languageId": "r"
    }
   },
   "outputs": [
    {
     "data": {
      "text/html": [
       "<ol class=list-inline>\n",
       "\t<li>'apple'</li>\n",
       "\t<li>'banana'</li>\n",
       "\t<li>'cherry'</li>\n",
       "\t<li>'orange'</li>\n",
       "\t<li>'mango'</li>\n",
       "\t<li>'pineapple'</li>\n",
       "</ol>\n"
      ],
      "text/latex": [
       "\\begin{enumerate*}\n",
       "\\item 'apple'\n",
       "\\item 'banana'\n",
       "\\item 'cherry'\n",
       "\\item 'orange'\n",
       "\\item 'mango'\n",
       "\\item 'pineapple'\n",
       "\\end{enumerate*}\n"
      ],
      "text/markdown": [
       "1. 'apple'\n",
       "2. 'banana'\n",
       "3. 'cherry'\n",
       "4. 'orange'\n",
       "5. 'mango'\n",
       "6. 'pineapple'\n",
       "\n",
       "\n"
      ],
      "text/plain": [
       "[1] \"apple\"     \"banana\"    \"cherry\"    \"orange\"    \"mango\"     \"pineapple\""
      ]
     },
     "metadata": {},
     "output_type": "display_data"
    }
   ],
   "source": [
    "lst2[[1]] # a vector stored in a lis"
   ]
  },
  {
   "cell_type": "code",
   "execution_count": 34,
   "id": "e5f3c5b6",
   "metadata": {
    "hidden": true,
    "vscode": {
     "languageId": "r"
    }
   },
   "outputs": [
    {
     "data": {
      "text/html": [
       "'banana'"
      ],
      "text/latex": [
       "'banana'"
      ],
      "text/markdown": [
       "'banana'"
      ],
      "text/plain": [
       "[1] \"banana\""
      ]
     },
     "metadata": {},
     "output_type": "display_data"
    }
   ],
   "source": [
    "lst2[[1]][2]"
   ]
  },
  {
   "cell_type": "code",
   "execution_count": 35,
   "id": "b2fb503f",
   "metadata": {
    "hidden": true,
    "scrolled": true,
    "vscode": {
     "languageId": "r"
    }
   },
   "outputs": [
    {
     "data": {
      "text/html": [
       "<table>\n",
       "<tbody>\n",
       "\t<tr><td>apple    </td><td>orange   </td></tr>\n",
       "\t<tr><td>banana   </td><td>mango    </td></tr>\n",
       "\t<tr><td>cherry   </td><td>pineapple</td></tr>\n",
       "</tbody>\n",
       "</table>\n"
      ],
      "text/latex": [
       "\\begin{tabular}{ll}\n",
       "\t apple     & orange   \\\\\n",
       "\t banana    & mango    \\\\\n",
       "\t cherry    & pineapple\\\\\n",
       "\\end{tabular}\n"
      ],
      "text/markdown": [
       "\n",
       "| apple     | orange    |\n",
       "| banana    | mango     |\n",
       "| cherry    | pineapple |\n",
       "\n"
      ],
      "text/plain": [
       "     [,1]   [,2]     \n",
       "[1,] apple  orange   \n",
       "[2,] banana mango    \n",
       "[3,] cherry pineapple"
      ]
     },
     "metadata": {},
     "output_type": "display_data"
    }
   ],
   "source": [
    "lst2[[2]] # a matrix stored in a list"
   ]
  },
  {
   "cell_type": "code",
   "execution_count": 36,
   "id": "d25907b7",
   "metadata": {
    "hidden": true,
    "vscode": {
     "languageId": "r"
    }
   },
   "outputs": [
    {
     "data": {
      "text/html": [
       "'mango'"
      ],
      "text/latex": [
       "'mango'"
      ],
      "text/markdown": [
       "'mango'"
      ],
      "text/plain": [
       "[1] \"mango\""
      ]
     },
     "metadata": {},
     "output_type": "display_data"
    }
   ],
   "source": [
    "lst2[[2]][2,2]"
   ]
  },
  {
   "cell_type": "code",
   "execution_count": 38,
   "id": "4a85860e",
   "metadata": {
    "hidden": true,
    "scrolled": true,
    "vscode": {
     "languageId": "r"
    }
   },
   "outputs": [
    {
     "name": "stdout",
     "output_type": "stream",
     "text": [
      ", , 1\n",
      "\n",
      "     [,1]     [,2]    \n",
      "[1,] \"apple\"  \"cherry\"\n",
      "[2,] \"banana\" \"orange\"\n",
      "\n",
      ", , 2\n",
      "\n",
      "     [,1]        [,2]    \n",
      "[1,] \"mango\"     \"apple\" \n",
      "[2,] \"pineapple\" \"banana\"\n",
      "\n"
     ]
    }
   ],
   "source": [
    "print(lst2[[3]])"
   ]
  },
  {
   "cell_type": "code",
   "execution_count": 39,
   "id": "d58b48b6",
   "metadata": {
    "hidden": true,
    "vscode": {
     "languageId": "r"
    }
   },
   "outputs": [
    {
     "name": "stdout",
     "output_type": "stream",
     "text": [
      "     [,1]        [,2]    \n",
      "[1,] \"mango\"     \"apple\" \n",
      "[2,] \"pineapple\" \"banana\"\n"
     ]
    }
   ],
   "source": [
    "print(lst2[[3]][,,2])"
   ]
  },
  {
   "cell_type": "code",
   "execution_count": 40,
   "id": "73d498ca",
   "metadata": {
    "hidden": true,
    "vscode": {
     "languageId": "r"
    }
   },
   "outputs": [
    {
     "name": "stdout",
     "output_type": "stream",
     "text": [
      "[1] \"pineapple\"\n"
     ]
    }
   ],
   "source": [
    "print(lst2[[3]][2,1,2])"
   ]
  },
  {
   "cell_type": "code",
   "execution_count": 41,
   "id": "76e664fe",
   "metadata": {
    "hidden": true,
    "scrolled": true,
    "vscode": {
     "languageId": "r"
    }
   },
   "outputs": [
    {
     "name": "stdout",
     "output_type": "stream",
     "text": [
      "    Name age height\n",
      "1 Ramesh  23    4.6\n",
      "2  Tarun  54    5.4\n",
      "3 Shekar  32    6.2\n"
     ]
    }
   ],
   "source": [
    "print(lst2[[4]])"
   ]
  },
  {
   "cell_type": "code",
   "execution_count": 42,
   "id": "d86a949f",
   "metadata": {
    "hidden": true,
    "vscode": {
     "languageId": "r"
    }
   },
   "outputs": [
    {
     "name": "stdout",
     "output_type": "stream",
     "text": [
      "[1] Tarun\n",
      "Levels: Ramesh Shekar Tarun\n"
     ]
    }
   ],
   "source": [
    "print(lst2[[4]][2,1])"
   ]
  },
  {
   "cell_type": "code",
   "execution_count": 43,
   "id": "6fbcee54",
   "metadata": {
    "hidden": true,
    "scrolled": true,
    "vscode": {
     "languageId": "r"
    }
   },
   "outputs": [
    {
     "name": "stdout",
     "output_type": "stream",
     "text": [
      "[[1]]\n",
      "[1] 1\n",
      "\n",
      "[[2]]\n",
      "[1] \"a\"\n",
      "\n",
      "[[3]]\n",
      "[1] TRUE\n",
      "\n",
      "[[4]]\n",
      "[1] 1+4i\n",
      "\n"
     ]
    }
   ],
   "source": [
    "print(lst2[[5]])"
   ]
  },
  {
   "cell_type": "code",
   "execution_count": 44,
   "id": "d9ccb9ff",
   "metadata": {
    "hidden": true,
    "vscode": {
     "languageId": "r"
    }
   },
   "outputs": [
    {
     "name": "stdout",
     "output_type": "stream",
     "text": [
      "[1] \"a\"\n"
     ]
    }
   ],
   "source": [
    "print(lst2[[5]][[2]])"
   ]
  },
  {
   "cell_type": "markdown",
   "id": "ac7ca178",
   "metadata": {
    "hidden": true
   },
   "source": [
    "![](imgs/c73sZAd.png)"
   ]
  },
  {
   "cell_type": "markdown",
   "id": "7d53754a",
   "metadata": {
    "hidden": true
   },
   "source": [
    "**Reshaping R Objects**"
   ]
  },
  {
   "cell_type": "code",
   "execution_count": 14,
   "id": "34c01aef",
   "metadata": {
    "hidden": true,
    "vscode": {
     "languageId": "r"
    }
   },
   "outputs": [
    {
     "name": "stdout",
     "output_type": "stream",
     "text": [
      " [1]  1  2  3  4  5  6  7  8  9 10 11 12\n",
      "     [,1] [,2] [,3] [,4] [,5] [,6]\n",
      "[1,]    1    3    5    7    9   11\n",
      "[2,]    2    4    6    8   10   12\n",
      " [1]  1  2  3  4  5  6  7  8  9 10 11 12\n"
     ]
    }
   ],
   "source": [
    "# for vectors and matrices\n",
    "vec <- 1:12 # a vector\n",
    "print(vec)\n",
    "mat <- matrix( vec, nrow=2) # a matrix\n",
    "print(mat)\n",
    "dim(mat) <- NULL\n",
    "print(mat) # back to vector"
   ]
  },
  {
   "cell_type": "code",
   "execution_count": 15,
   "id": "ad115387",
   "metadata": {
    "hidden": true,
    "vscode": {
     "languageId": "r"
    }
   },
   "outputs": [
    {
     "name": "stdout",
     "output_type": "stream",
     "text": [
      "                     mpg cyl  disp  hp drat    wt  qsec vs am gear carb\n",
      "Mazda RX4           21.0   6 160.0 110 3.90 2.620 16.46  0  1    4    4\n",
      "Mazda RX4 Wag       21.0   6 160.0 110 3.90 2.875 17.02  0  1    4    4\n",
      "Datsun 710          22.8   4 108.0  93 3.85 2.320 18.61  1  1    4    1\n",
      "Hornet 4 Drive      21.4   6 258.0 110 3.08 3.215 19.44  1  0    3    1\n",
      "Hornet Sportabout   18.7   8 360.0 175 3.15 3.440 17.02  0  0    3    2\n",
      "Valiant             18.1   6 225.0 105 2.76 3.460 20.22  1  0    3    1\n",
      "Duster 360          14.3   8 360.0 245 3.21 3.570 15.84  0  0    3    4\n",
      "Merc 240D           24.4   4 146.7  62 3.69 3.190 20.00  1  0    4    2\n",
      "Merc 230            22.8   4 140.8  95 3.92 3.150 22.90  1  0    4    2\n",
      "Merc 280            19.2   6 167.6 123 3.92 3.440 18.30  1  0    4    4\n",
      "Merc 280C           17.8   6 167.6 123 3.92 3.440 18.90  1  0    4    4\n",
      "Merc 450SE          16.4   8 275.8 180 3.07 4.070 17.40  0  0    3    3\n",
      "Merc 450SL          17.3   8 275.8 180 3.07 3.730 17.60  0  0    3    3\n",
      "Merc 450SLC         15.2   8 275.8 180 3.07 3.780 18.00  0  0    3    3\n",
      "Cadillac Fleetwood  10.4   8 472.0 205 2.93 5.250 17.98  0  0    3    4\n",
      "Lincoln Continental 10.4   8 460.0 215 3.00 5.424 17.82  0  0    3    4\n",
      "Chrysler Imperial   14.7   8 440.0 230 3.23 5.345 17.42  0  0    3    4\n",
      "Fiat 128            32.4   4  78.7  66 4.08 2.200 19.47  1  1    4    1\n",
      "Honda Civic         30.4   4  75.7  52 4.93 1.615 18.52  1  1    4    2\n",
      "Toyota Corolla      33.9   4  71.1  65 4.22 1.835 19.90  1  1    4    1\n",
      "Toyota Corona       21.5   4 120.1  97 3.70 2.465 20.01  1  0    3    1\n",
      "Dodge Challenger    15.5   8 318.0 150 2.76 3.520 16.87  0  0    3    2\n",
      "AMC Javelin         15.2   8 304.0 150 3.15 3.435 17.30  0  0    3    2\n",
      "Camaro Z28          13.3   8 350.0 245 3.73 3.840 15.41  0  0    3    4\n",
      "Pontiac Firebird    19.2   8 400.0 175 3.08 3.845 17.05  0  0    3    2\n",
      "Fiat X1-9           27.3   4  79.0  66 4.08 1.935 18.90  1  1    4    1\n",
      "Porsche 914-2       26.0   4 120.3  91 4.43 2.140 16.70  0  1    5    2\n",
      "Lotus Europa        30.4   4  95.1 113 3.77 1.513 16.90  1  1    5    2\n",
      "Ford Pantera L      15.8   8 351.0 264 4.22 3.170 14.50  0  1    5    4\n",
      "Ferrari Dino        19.7   6 145.0 175 3.62 2.770 15.50  0  1    5    6\n",
      "Maserati Bora       15.0   8 301.0 335 3.54 3.570 14.60  0  1    5    8\n",
      "Volvo 142E          21.4   4 121.0 109 4.11 2.780 18.60  1  1    4    2\n"
     ]
    }
   ],
   "source": [
    "# for dataframes \n",
    "print(mtcars)\n",
    "ULmtcars <- unlist(mtcars) # produces a vector from the dataframe"
   ]
  },
  {
   "cell_type": "code",
   "execution_count": 16,
   "id": "4b6cfd81",
   "metadata": {
    "hidden": true,
    "vscode": {
     "languageId": "r"
    }
   },
   "outputs": [
    {
     "name": "stdout",
     "output_type": "stream",
     "text": [
      "   mpg1    mpg2    mpg3    mpg4    mpg5    mpg6    mpg7    mpg8    mpg9   mpg10 \n",
      " 21.000  21.000  22.800  21.400  18.700  18.100  14.300  24.400  22.800  19.200 \n",
      "  mpg11   mpg12   mpg13   mpg14   mpg15   mpg16   mpg17   mpg18   mpg19   mpg20 \n",
      " 17.800  16.400  17.300  15.200  10.400  10.400  14.700  32.400  30.400  33.900 \n",
      "  mpg21   mpg22   mpg23   mpg24   mpg25   mpg26   mpg27   mpg28   mpg29   mpg30 \n",
      " 21.500  15.500  15.200  13.300  19.200  27.300  26.000  30.400  15.800  19.700 \n",
      "  mpg31   mpg32    cyl1    cyl2    cyl3    cyl4    cyl5    cyl6    cyl7    cyl8 \n",
      " 15.000  21.400   6.000   6.000   4.000   6.000   8.000   6.000   8.000   4.000 \n",
      "   cyl9   cyl10   cyl11   cyl12   cyl13   cyl14   cyl15   cyl16   cyl17   cyl18 \n",
      "  4.000   6.000   6.000   8.000   8.000   8.000   8.000   8.000   8.000   4.000 \n",
      "  cyl19   cyl20   cyl21   cyl22   cyl23   cyl24   cyl25   cyl26   cyl27   cyl28 \n",
      "  4.000   4.000   4.000   8.000   8.000   8.000   8.000   4.000   4.000   4.000 \n",
      "  cyl29   cyl30   cyl31   cyl32   disp1   disp2   disp3   disp4   disp5   disp6 \n",
      "  8.000   6.000   8.000   4.000 160.000 160.000 108.000 258.000 360.000 225.000 \n",
      "  disp7   disp8   disp9  disp10  disp11  disp12  disp13  disp14  disp15  disp16 \n",
      "360.000 146.700 140.800 167.600 167.600 275.800 275.800 275.800 472.000 460.000 \n",
      " disp17  disp18  disp19  disp20  disp21  disp22  disp23  disp24  disp25  disp26 \n",
      "440.000  78.700  75.700  71.100 120.100 318.000 304.000 350.000 400.000  79.000 \n",
      " disp27  disp28  disp29  disp30  disp31  disp32     hp1     hp2     hp3     hp4 \n",
      "120.300  95.100 351.000 145.000 301.000 121.000 110.000 110.000  93.000 110.000 \n",
      "    hp5     hp6     hp7     hp8     hp9    hp10    hp11    hp12    hp13    hp14 \n",
      "175.000 105.000 245.000  62.000  95.000 123.000 123.000 180.000 180.000 180.000 \n",
      "   hp15    hp16    hp17    hp18    hp19    hp20    hp21    hp22    hp23    hp24 \n",
      "205.000 215.000 230.000  66.000  52.000  65.000  97.000 150.000 150.000 245.000 \n",
      "   hp25    hp26    hp27    hp28    hp29    hp30    hp31    hp32   drat1   drat2 \n",
      "175.000  66.000  91.000 113.000 264.000 175.000 335.000 109.000   3.900   3.900 \n",
      "  drat3   drat4   drat5   drat6   drat7   drat8   drat9  drat10  drat11  drat12 \n",
      "  3.850   3.080   3.150   2.760   3.210   3.690   3.920   3.920   3.920   3.070 \n",
      " drat13  drat14  drat15  drat16  drat17  drat18  drat19  drat20  drat21  drat22 \n",
      "  3.070   3.070   2.930   3.000   3.230   4.080   4.930   4.220   3.700   2.760 \n",
      " drat23  drat24  drat25  drat26  drat27  drat28  drat29  drat30  drat31  drat32 \n",
      "  3.150   3.730   3.080   4.080   4.430   3.770   4.220   3.620   3.540   4.110 \n",
      "    wt1     wt2     wt3     wt4     wt5     wt6     wt7     wt8     wt9    wt10 \n",
      "  2.620   2.875   2.320   3.215   3.440   3.460   3.570   3.190   3.150   3.440 \n",
      "   wt11    wt12    wt13    wt14    wt15    wt16    wt17    wt18    wt19    wt20 \n",
      "  3.440   4.070   3.730   3.780   5.250   5.424   5.345   2.200   1.615   1.835 \n",
      "   wt21    wt22    wt23    wt24    wt25    wt26    wt27    wt28    wt29    wt30 \n",
      "  2.465   3.520   3.435   3.840   3.845   1.935   2.140   1.513   3.170   2.770 \n",
      "   wt31    wt32   qsec1   qsec2   qsec3   qsec4   qsec5   qsec6   qsec7   qsec8 \n",
      "  3.570   2.780  16.460  17.020  18.610  19.440  17.020  20.220  15.840  20.000 \n",
      "  qsec9  qsec10  qsec11  qsec12  qsec13  qsec14  qsec15  qsec16  qsec17  qsec18 \n",
      " 22.900  18.300  18.900  17.400  17.600  18.000  17.980  17.820  17.420  19.470 \n",
      " qsec19  qsec20  qsec21  qsec22  qsec23  qsec24  qsec25  qsec26  qsec27  qsec28 \n",
      " 18.520  19.900  20.010  16.870  17.300  15.410  17.050  18.900  16.700  16.900 \n",
      " qsec29  qsec30  qsec31  qsec32     vs1     vs2     vs3     vs4     vs5     vs6 \n",
      " 14.500  15.500  14.600  18.600   0.000   0.000   1.000   1.000   0.000   1.000 \n",
      "    vs7     vs8     vs9    vs10    vs11    vs12    vs13    vs14    vs15    vs16 \n",
      "  0.000   1.000   1.000   1.000   1.000   0.000   0.000   0.000   0.000   0.000 \n",
      "   vs17    vs18    vs19    vs20    vs21    vs22    vs23    vs24    vs25    vs26 \n",
      "  0.000   1.000   1.000   1.000   1.000   0.000   0.000   0.000   0.000   1.000 \n",
      "   vs27    vs28    vs29    vs30    vs31    vs32     am1     am2     am3     am4 \n",
      "  0.000   1.000   0.000   0.000   0.000   1.000   1.000   1.000   1.000   0.000 \n",
      "    am5     am6     am7     am8     am9    am10    am11    am12    am13    am14 \n",
      "  0.000   0.000   0.000   0.000   0.000   0.000   0.000   0.000   0.000   0.000 \n",
      "   am15    am16    am17    am18    am19    am20    am21    am22    am23    am24 \n",
      "  0.000   0.000   0.000   1.000   1.000   1.000   0.000   0.000   0.000   0.000 \n",
      "   am25    am26    am27    am28    am29    am30    am31    am32   gear1   gear2 \n",
      "  0.000   1.000   1.000   1.000   1.000   1.000   1.000   1.000   4.000   4.000 \n",
      "  gear3   gear4   gear5   gear6   gear7   gear8   gear9  gear10  gear11  gear12 \n",
      "  4.000   3.000   3.000   3.000   3.000   4.000   4.000   4.000   4.000   3.000 \n",
      " gear13  gear14  gear15  gear16  gear17  gear18  gear19  gear20  gear21  gear22 \n",
      "  3.000   3.000   3.000   3.000   3.000   4.000   4.000   4.000   3.000   3.000 \n",
      " gear23  gear24  gear25  gear26  gear27  gear28  gear29  gear30  gear31  gear32 \n",
      "  3.000   3.000   3.000   4.000   5.000   5.000   5.000   5.000   5.000   4.000 \n",
      "  carb1   carb2   carb3   carb4   carb5   carb6   carb7   carb8   carb9  carb10 \n",
      "  4.000   4.000   1.000   1.000   2.000   1.000   4.000   2.000   2.000   4.000 \n",
      " carb11  carb12  carb13  carb14  carb15  carb16  carb17  carb18  carb19  carb20 \n",
      "  4.000   3.000   3.000   3.000   4.000   4.000   4.000   1.000   2.000   1.000 \n",
      " carb21  carb22  carb23  carb24  carb25  carb26  carb27  carb28  carb29  carb30 \n",
      "  1.000   2.000   2.000   4.000   2.000   1.000   2.000   2.000   4.000   6.000 \n",
      " carb31  carb32 \n",
      "  8.000   2.000 \n"
     ]
    }
   ],
   "source": [
    "# the atomic type of a dataframe is a list\n",
    "print(ULmtcars)\n",
    "UCmtcars <- unclass(mtcars) # removes the class attribute, turning the dataframe into a"
   ]
  },
  {
   "cell_type": "code",
   "execution_count": 17,
   "id": "ffeced6e",
   "metadata": {
    "hidden": true,
    "vscode": {
     "languageId": "r"
    }
   },
   "outputs": [
    {
     "data": {
      "text/html": [
       "<table>\n",
       "<thead><tr><th></th><th scope=col>mpg</th><th scope=col>cyl</th><th scope=col>disp</th><th scope=col>hp</th><th scope=col>drat</th><th scope=col>wt</th><th scope=col>qsec</th><th scope=col>vs</th><th scope=col>am</th><th scope=col>gear</th><th scope=col>carb</th></tr></thead>\n",
       "<tbody>\n",
       "\t<tr><th scope=row>Mazda RX4</th><td>21.0 </td><td>6    </td><td>160  </td><td>110  </td><td>3.90 </td><td>2.620</td><td>16.46</td><td>0    </td><td>1    </td><td>4    </td><td>4    </td></tr>\n",
       "\t<tr><th scope=row>Mazda RX4 Wag</th><td>21.0 </td><td>6    </td><td>160  </td><td>110  </td><td>3.90 </td><td>2.875</td><td>17.02</td><td>0    </td><td>1    </td><td>4    </td><td>4    </td></tr>\n",
       "\t<tr><th scope=row>Datsun 710</th><td>22.8 </td><td>4    </td><td>108  </td><td> 93  </td><td>3.85 </td><td>2.320</td><td>18.61</td><td>1    </td><td>1    </td><td>4    </td><td>1    </td></tr>\n",
       "\t<tr><th scope=row>Hornet 4 Drive</th><td>21.4 </td><td>6    </td><td>258  </td><td>110  </td><td>3.08 </td><td>3.215</td><td>19.44</td><td>1    </td><td>0    </td><td>3    </td><td>1    </td></tr>\n",
       "\t<tr><th scope=row>Hornet Sportabout</th><td>18.7 </td><td>8    </td><td>360  </td><td>175  </td><td>3.15 </td><td>3.440</td><td>17.02</td><td>0    </td><td>0    </td><td>3    </td><td>2    </td></tr>\n",
       "\t<tr><th scope=row>Valiant</th><td>18.1 </td><td>6    </td><td>225  </td><td>105  </td><td>2.76 </td><td>3.460</td><td>20.22</td><td>1    </td><td>0    </td><td>3    </td><td>1    </td></tr>\n",
       "</tbody>\n",
       "</table>\n"
      ],
      "text/latex": [
       "\\begin{tabular}{r|lllllllllll}\n",
       "  & mpg & cyl & disp & hp & drat & wt & qsec & vs & am & gear & carb\\\\\n",
       "\\hline\n",
       "\tMazda RX4 & 21.0  & 6     & 160   & 110   & 3.90  & 2.620 & 16.46 & 0     & 1     & 4     & 4    \\\\\n",
       "\tMazda RX4 Wag & 21.0  & 6     & 160   & 110   & 3.90  & 2.875 & 17.02 & 0     & 1     & 4     & 4    \\\\\n",
       "\tDatsun 710 & 22.8  & 4     & 108   &  93   & 3.85  & 2.320 & 18.61 & 1     & 1     & 4     & 1    \\\\\n",
       "\tHornet 4 Drive & 21.4  & 6     & 258   & 110   & 3.08  & 3.215 & 19.44 & 1     & 0     & 3     & 1    \\\\\n",
       "\tHornet Sportabout & 18.7  & 8     & 360   & 175   & 3.15  & 3.440 & 17.02 & 0     & 0     & 3     & 2    \\\\\n",
       "\tValiant & 18.1  & 6     & 225   & 105   & 2.76  & 3.460 & 20.22 & 1     & 0     & 3     & 1    \\\\\n",
       "\\end{tabular}\n"
      ],
      "text/markdown": [
       "\n",
       "| <!--/--> | mpg | cyl | disp | hp | drat | wt | qsec | vs | am | gear | carb |\n",
       "|---|---|---|---|---|---|---|---|---|---|---|---|\n",
       "| Mazda RX4 | 21.0  | 6     | 160   | 110   | 3.90  | 2.620 | 16.46 | 0     | 1     | 4     | 4     |\n",
       "| Mazda RX4 Wag | 21.0  | 6     | 160   | 110   | 3.90  | 2.875 | 17.02 | 0     | 1     | 4     | 4     |\n",
       "| Datsun 710 | 22.8  | 4     | 108   |  93   | 3.85  | 2.320 | 18.61 | 1     | 1     | 4     | 1     |\n",
       "| Hornet 4 Drive | 21.4  | 6     | 258   | 110   | 3.08  | 3.215 | 19.44 | 1     | 0     | 3     | 1     |\n",
       "| Hornet Sportabout | 18.7  | 8     | 360   | 175   | 3.15  | 3.440 | 17.02 | 0     | 0     | 3     | 2     |\n",
       "| Valiant | 18.1  | 6     | 225   | 105   | 2.76  | 3.460 | 20.22 | 1     | 0     | 3     | 1     |\n",
       "\n"
      ],
      "text/plain": [
       "                  mpg  cyl disp hp  drat wt    qsec  vs am gear carb\n",
       "Mazda RX4         21.0 6   160  110 3.90 2.620 16.46 0  1  4    4   \n",
       "Mazda RX4 Wag     21.0 6   160  110 3.90 2.875 17.02 0  1  4    4   \n",
       "Datsun 710        22.8 4   108   93 3.85 2.320 18.61 1  1  4    1   \n",
       "Hornet 4 Drive    21.4 6   258  110 3.08 3.215 19.44 1  0  3    1   \n",
       "Hornet Sportabout 18.7 8   360  175 3.15 3.440 17.02 0  0  3    2   \n",
       "Valiant           18.1 6   225  105 2.76 3.460 20.22 1  0  3    1   "
      ]
     },
     "metadata": {},
     "output_type": "display_data"
    }
   ],
   "source": [
    "head(mtcars)"
   ]
  },
  {
   "cell_type": "code",
   "execution_count": 18,
   "id": "3b497289",
   "metadata": {
    "hidden": true,
    "vscode": {
     "languageId": "r"
    }
   },
   "outputs": [
    {
     "name": "stdout",
     "output_type": "stream",
     "text": [
      "$mpg\n",
      " [1] 21.0 21.0 22.8 21.4 18.7 18.1 14.3 24.4 22.8 19.2 17.8 16.4 17.3 15.2 10.4\n",
      "[16] 10.4 14.7 32.4 30.4 33.9 21.5 15.5 15.2 13.3 19.2 27.3 26.0 30.4 15.8 19.7\n",
      "[31] 15.0 21.4\n",
      "\n",
      "$cyl\n",
      " [1] 6 6 4 6 8 6 8 4 4 6 6 8 8 8 8 8 8 4 4 4 4 8 8 8 8 4 4 4 8 6 8 4\n",
      "\n",
      "$disp\n",
      " [1] 160.0 160.0 108.0 258.0 360.0 225.0 360.0 146.7 140.8 167.6 167.6 275.8\n",
      "[13] 275.8 275.8 472.0 460.0 440.0  78.7  75.7  71.1 120.1 318.0 304.0 350.0\n",
      "[25] 400.0  79.0 120.3  95.1 351.0 145.0 301.0 121.0\n",
      "\n",
      "$hp\n",
      " [1] 110 110  93 110 175 105 245  62  95 123 123 180 180 180 205 215 230  66  52\n",
      "[20]  65  97 150 150 245 175  66  91 113 264 175 335 109\n",
      "\n",
      "$drat\n",
      " [1] 3.90 3.90 3.85 3.08 3.15 2.76 3.21 3.69 3.92 3.92 3.92 3.07 3.07 3.07 2.93\n",
      "[16] 3.00 3.23 4.08 4.93 4.22 3.70 2.76 3.15 3.73 3.08 4.08 4.43 3.77 4.22 3.62\n",
      "[31] 3.54 4.11\n",
      "\n",
      "$wt\n",
      " [1] 2.620 2.875 2.320 3.215 3.440 3.460 3.570 3.190 3.150 3.440 3.440 4.070\n",
      "[13] 3.730 3.780 5.250 5.424 5.345 2.200 1.615 1.835 2.465 3.520 3.435 3.840\n",
      "[25] 3.845 1.935 2.140 1.513 3.170 2.770 3.570 2.780\n",
      "\n",
      "$qsec\n",
      " [1] 16.46 17.02 18.61 19.44 17.02 20.22 15.84 20.00 22.90 18.30 18.90 17.40\n",
      "[13] 17.60 18.00 17.98 17.82 17.42 19.47 18.52 19.90 20.01 16.87 17.30 15.41\n",
      "[25] 17.05 18.90 16.70 16.90 14.50 15.50 14.60 18.60\n",
      "\n",
      "$vs\n",
      " [1] 0 0 1 1 0 1 0 1 1 1 1 0 0 0 0 0 0 1 1 1 1 0 0 0 0 1 0 1 0 0 0 1\n",
      "\n",
      "$am\n",
      " [1] 1 1 1 0 0 0 0 0 0 0 0 0 0 0 0 0 0 1 1 1 0 0 0 0 0 1 1 1 1 1 1 1\n",
      "\n",
      "$gear\n",
      " [1] 4 4 4 3 3 3 3 4 4 4 4 3 3 3 3 3 3 4 4 4 3 3 3 3 3 4 5 5 5 5 5 4\n",
      "\n",
      "$carb\n",
      " [1] 4 4 1 1 2 1 4 2 2 4 4 3 3 3 4 4 4 1 2 1 1 2 2 4 2 1 2 2 4 6 8 2\n",
      "\n",
      "attr(,\"row.names\")\n",
      " [1] \"Mazda RX4\"           \"Mazda RX4 Wag\"       \"Datsun 710\"         \n",
      " [4] \"Hornet 4 Drive\"      \"Hornet Sportabout\"   \"Valiant\"            \n",
      " [7] \"Duster 360\"          \"Merc 240D\"           \"Merc 230\"           \n",
      "[10] \"Merc 280\"            \"Merc 280C\"           \"Merc 450SE\"         \n",
      "[13] \"Merc 450SL\"          \"Merc 450SLC\"         \"Cadillac Fleetwood\" \n",
      "[16] \"Lincoln Continental\" \"Chrysler Imperial\"   \"Fiat 128\"           \n",
      "[19] \"Honda Civic\"         \"Toyota Corolla\"      \"Toyota Corona\"      \n",
      "[22] \"Dodge Challenger\"    \"AMC Javelin\"         \"Camaro Z28\"         \n",
      "[25] \"Pontiac Firebird\"    \"Fiat X1-9\"           \"Porsche 914-2\"      \n",
      "[28] \"Lotus Europa\"        \"Ford Pantera L\"      \"Ferrari Dino\"       \n",
      "[31] \"Maserati Bora\"       \"Volvo 142E\"         \n",
      "$mpg\n",
      " [1] 21.0 21.0 22.8 21.4 18.7 18.1 14.3 24.4 22.8 19.2 17.8 16.4 17.3 15.2 10.4\n",
      "[16] 10.4 14.7 32.4 30.4 33.9 21.5 15.5 15.2 13.3 19.2 27.3 26.0 30.4 15.8 19.7\n",
      "[31] 15.0 21.4\n",
      "\n",
      "$cyl\n",
      " [1] 6 6 4 6 8 6 8 4 4 6 6 8 8 8 8 8 8 4 4 4 4 8 8 8 8 4 4 4 8 6 8 4\n",
      "\n",
      "$disp\n",
      " [1] 160.0 160.0 108.0 258.0 360.0 225.0 360.0 146.7 140.8 167.6 167.6 275.8\n",
      "[13] 275.8 275.8 472.0 460.0 440.0  78.7  75.7  71.1 120.1 318.0 304.0 350.0\n",
      "[25] 400.0  79.0 120.3  95.1 351.0 145.0 301.0 121.0\n",
      "\n",
      "$hp\n",
      " [1] 110 110  93 110 175 105 245  62  95 123 123 180 180 180 205 215 230  66  52\n",
      "[20]  65  97 150 150 245 175  66  91 113 264 175 335 109\n",
      "\n",
      "$drat\n",
      " [1] 3.90 3.90 3.85 3.08 3.15 2.76 3.21 3.69 3.92 3.92 3.92 3.07 3.07 3.07 2.93\n",
      "[16] 3.00 3.23 4.08 4.93 4.22 3.70 2.76 3.15 3.73 3.08 4.08 4.43 3.77 4.22 3.62\n",
      "[31] 3.54 4.11\n",
      "\n",
      "$wt\n",
      " [1] 2.620 2.875 2.320 3.215 3.440 3.460 3.570 3.190 3.150 3.440 3.440 4.070\n",
      "[13] 3.730 3.780 5.250 5.424 5.345 2.200 1.615 1.835 2.465 3.520 3.435 3.840\n",
      "[25] 3.845 1.935 2.140 1.513 3.170 2.770 3.570 2.780\n",
      "\n",
      "$qsec\n",
      " [1] 16.46 17.02 18.61 19.44 17.02 20.22 15.84 20.00 22.90 18.30 18.90 17.40\n",
      "[13] 17.60 18.00 17.98 17.82 17.42 19.47 18.52 19.90 20.01 16.87 17.30 15.41\n",
      "[25] 17.05 18.90 16.70 16.90 14.50 15.50 14.60 18.60\n",
      "\n",
      "$vs\n",
      " [1] 0 0 1 1 0 1 0 1 1 1 1 0 0 0 0 0 0 1 1 1 1 0 0 0 0 1 0 1 0 0 0 1\n",
      "\n",
      "$am\n",
      " [1] 1 1 1 0 0 0 0 0 0 0 0 0 0 0 0 0 0 1 1 1 0 0 0 0 0 1 1 1 1 1 1 1\n",
      "\n",
      "$gear\n",
      " [1] 4 4 4 3 3 3 3 4 4 4 4 3 3 3 3 3 3 4 4 4 3 3 3 3 3 4 5 5 5 5 5 4\n",
      "\n",
      "$carb\n",
      " [1] 4 4 1 1 2 1 4 2 2 4 4 3 3 3 4 4 4 1 2 1 1 2 2 4 2 1 2 2 4 6 8 2\n",
      "\n"
     ]
    }
   ],
   "source": [
    "# series of vectors plus any names attributes, same as setting class(mtcars) <-NULL\n",
    "print(UCmtcars)\n",
    "print(c(mtcars))  # similar to unclass but without the attributes"
   ]
  },
  {
   "cell_type": "markdown",
   "id": "4e632a78",
   "metadata": {
    "heading_collapsed": true
   },
   "source": [
    "##\tOperators "
   ]
  },
  {
   "cell_type": "markdown",
   "id": "594e3b3f-f05a-475d-8c15-303085b0d3d8",
   "metadata": {
    "hidden": true
   },
   "source": [
    "Assignment Operators `(<−  =  <<−  ->  ->>)`  \n",
    "Arithmetic Operators  `(+  -  *  /  %%` (modulo)  `%/%`(integer divide) ` ^`(raised to the power of))  \n",
    "Relational Operators`(>  <  <=  >=  ==  !=  )`         \n",
    "Logical Operators   `(&  |  !  &&  ||)`  \n",
    "Miscellaneous Operators `(:  %in%  %*%)`"
   ]
  },
  {
   "cell_type": "markdown",
   "id": "c19654ad",
   "metadata": {
    "heading_collapsed": true,
    "hidden": true
   },
   "source": [
    "###\tAssignment operators:"
   ]
  },
  {
   "cell_type": "code",
   "execution_count": 6,
   "id": "c867c2c0-65a2-4c6e-8a26-fb92b748f674",
   "metadata": {
    "hidden": true,
    "vscode": {
     "languageId": "r"
    }
   },
   "outputs": [
    {
     "name": "stdout",
     "output_type": "stream",
     "text": [
      "[1] 5.67\n",
      "[1] \"data\"\n",
      "[1] 6+5i\n"
     ]
    }
   ],
   "source": [
    "a <- 5.67\n",
    "print(a)\n",
    "b = 'data'\n",
    "print(b)\n",
    "6+5i -> c\n",
    "print(c)"
   ]
  },
  {
   "cell_type": "code",
   "execution_count": 10,
   "id": "d52bfaf9-11a8-4d71-a78e-e321af8b071f",
   "metadata": {
    "hidden": true,
    "vscode": {
     "languageId": "r"
    }
   },
   "outputs": [
    {
     "name": "stdout",
     "output_type": "stream",
     "text": [
      "[1] 1\n",
      "[1] 2\n"
     ]
    }
   ],
   "source": [
    "make.accumulator<-function(){\n",
    "             a<-0\n",
    "             function(x) {\n",
    "                  a<-a+x\n",
    "                   a\n",
    "            }\n",
    "}\n",
    "f<-make.accumulator()\n",
    "print(f(1))\n",
    "print(f(2))"
   ]
  },
  {
   "cell_type": "code",
   "execution_count": null,
   "id": "4ea0ea82-7cf3-4d09-a659-0097772fdb2c",
   "metadata": {
    "hidden": true,
    "vscode": {
     "languageId": "r"
    }
   },
   "outputs": [],
   "source": [
    "It's the 'superassignment' operator.  It does the assignment in the\n",
    "enclosing environment. That is, starting with the enclosing frame, it\n",
    "works its way up towards the global environment"
   ]
  },
  {
   "cell_type": "code",
   "execution_count": 9,
   "id": "86da9cd9-ba59-4a64-8636-d90a6022c76c",
   "metadata": {
    "hidden": true,
    "vscode": {
     "languageId": "r"
    }
   },
   "outputs": [
    {
     "name": "stdout",
     "output_type": "stream",
     "text": [
      "[1] 1\n",
      "[1] 3\n"
     ]
    }
   ],
   "source": [
    "make.accumulator<-function(){\n",
    "             a<-0\n",
    "             function(x) {\n",
    "                  a<<-a+x\n",
    "                   a\n",
    "            }\n",
    "}\n",
    "f<-make.accumulator()\n",
    "print(f(1))\n",
    "print(f(2))"
   ]
  },
  {
   "cell_type": "markdown",
   "id": "d61614ea",
   "metadata": {
    "heading_collapsed": true,
    "hidden": true
   },
   "source": [
    "###\tArithmetic operators:"
   ]
  },
  {
   "cell_type": "code",
   "execution_count": null,
   "id": "762f87ac-97df-44c7-add7-9702afb8840f",
   "metadata": {
    "hidden": true,
    "vscode": {
     "languageId": "r"
    }
   },
   "outputs": [],
   "source": [
    "Arithmetic Operators\n",
    "\n",
    "Operator    Description       Example\n",
    "-           Subtraction       5 - 1 = 4\n",
    "+           Addition          5 + 1 = 6\n",
    "*           Multiplication    5 * 3 = 15\n",
    "/           Division          10 / 2 = 5\n",
    "^ or **     Exponentiation    2*2*2*2*2 as 2 to the power of 5\n",
    "x%%y        Modulus           5%%2 is 1\n",
    "x%/%y       Integer Division  5%/%2 is 2"
   ]
  },
  {
   "cell_type": "code",
   "execution_count": 26,
   "id": "1f9c0625-44e1-4192-9f1e-acf9423e6c1a",
   "metadata": {
    "hidden": true,
    "vscode": {
     "languageId": "r"
    }
   },
   "outputs": [
    {
     "name": "stdout",
     "output_type": "stream",
     "text": [
      "[1] 6\n",
      "[1] 4\n",
      "[1] 15\n",
      "[1] 32\n",
      "[1] 32\n",
      "[1] 2.5\n",
      "[1] 2\n",
      "[1] 1\n"
     ]
    }
   ],
   "source": [
    "print(5 + 1)\n",
    "print(5 - 1)\n",
    "print(5 * 3)\n",
    "print(2^5)\n",
    "print(2**5)\n",
    "print(5 / 2) \n",
    "print(5%/%2) # Integer Division\n",
    "print(5%%2) # Modulus or reminder"
   ]
  },
  {
   "cell_type": "markdown",
   "id": "c56a2025",
   "metadata": {
    "heading_collapsed": true,
    "hidden": true
   },
   "source": [
    "###\tRelational operators: "
   ]
  },
  {
   "cell_type": "markdown",
   "id": "a5f8327e",
   "metadata": {
    "hidden": true
   },
   "source": [
    "**Description**  \n",
    "*Binary operators which allow the comparison of values in atomic vectors.*"
   ]
  },
  {
   "cell_type": "code",
   "execution_count": null,
   "id": "c860ef2f-c764-4dc4-a806-180ff8881829",
   "metadata": {
    "hidden": true,
    "vscode": {
     "languageId": "r"
    }
   },
   "outputs": [],
   "source": [
    "Operator     Description                 Example\n",
    "<            less than                   5 < 10\n",
    "<=           less than or equal to       <= 5\n",
    ">            greater than                10 > 5\n",
    ">=           greater than or equal to    >= 10\n",
    "==           exactly equal to            == 10\n",
    "!=           not equal to                != 5"
   ]
  },
  {
   "cell_type": "code",
   "execution_count": 19,
   "id": "9bddc316",
   "metadata": {
    "hidden": true,
    "vscode": {
     "languageId": "r"
    }
   },
   "outputs": [
    {
     "name": "stdout",
     "output_type": "stream",
     "text": [
      "[1] FALSE\n",
      "[1] TRUE\n",
      "[1] FALSE\n",
      "[1] TRUE\n",
      "[1] FALSE\n",
      "[1] TRUE\n"
     ]
    }
   ],
   "source": [
    "# Usage\n",
    "x <- 5\n",
    "y <- -3\n",
    "print(x < y)\n",
    "print(x > y)\n",
    "print(x <= y)\n",
    "print(x >= y)\n",
    "print(x == y)\n",
    "print(x != y)"
   ]
  },
  {
   "cell_type": "markdown",
   "id": "dba2e298",
   "metadata": {
    "heading_collapsed": true,
    "hidden": true
   },
   "source": [
    "###\tLogical operators:"
   ]
  },
  {
   "cell_type": "code",
   "execution_count": null,
   "id": "b5dbf008-6f80-4f9c-be8e-d1b51ff47735",
   "metadata": {
    "hidden": true,
    "vscode": {
     "languageId": "r"
    }
   },
   "outputs": [],
   "source": [
    "Operator     Description                 Example\n",
    "!x           not x                       x <- c(5), !x\n",
    "x | y        x or y                      x <- c(5), y <- c(10), x | y\n",
    "x & y        x and y                     x <- c(5), y <- c(10), x & y"
   ]
  },
  {
   "cell_type": "markdown",
   "id": "bec94b92-06d9-4955-8502-802321d3d44b",
   "metadata": {
    "hidden": true
   },
   "source": [
    "**Logical AND (`&&`) and Logical OR (`||`)**"
   ]
  },
  {
   "cell_type": "code",
   "execution_count": 1,
   "id": "cb74f7d9-1d09-4fae-a75d-a55d106f8e18",
   "metadata": {
    "hidden": true,
    "vscode": {
     "languageId": "r"
    }
   },
   "outputs": [
    {
     "name": "stdout",
     "output_type": "stream",
     "text": [
      "[1] TRUE\n"
     ]
    }
   ],
   "source": [
    "# Called Logical AND operator. Takes first element of both the vectors and gives the TRUE only if both are TRUE.\n",
    "v <- c(3,0,TRUE,2+2i)\n",
    "t <- c(1,3,TRUE,2+3i)\n",
    "print(v&&t)"
   ]
  },
  {
   "cell_type": "code",
   "execution_count": 2,
   "id": "ac495128-fa51-4c57-a0af-2fc29aa2db0f",
   "metadata": {
    "hidden": true,
    "vscode": {
     "languageId": "r"
    }
   },
   "outputs": [
    {
     "name": "stdout",
     "output_type": "stream",
     "text": [
      "[1] FALSE\n"
     ]
    }
   ],
   "source": [
    "# Called Logical OR operator. Takes first element of both the vectors and gives the TRUE if one of them is TRUE.\n",
    "v <- c(0,0,TRUE,2+2i)\n",
    "t <- c(0,3,TRUE,2+3i)\n",
    "print(v||t)"
   ]
  },
  {
   "cell_type": "markdown",
   "id": "d5d868da",
   "metadata": {
    "heading_collapsed": true,
    "hidden": true
   },
   "source": [
    "### Miscellaneous operators:"
   ]
  },
  {
   "cell_type": "markdown",
   "id": "09693dc8-5fab-4606-bfb5-41cf850bbe7f",
   "metadata": {
    "hidden": true
   },
   "source": [
    "(`:  %in%  %*%`)"
   ]
  },
  {
   "cell_type": "markdown",
   "id": "87c64ce3-3ad5-41b2-ad95-bc75ddf61367",
   "metadata": {
    "hidden": true
   },
   "source": [
    "**`:` Operator**"
   ]
  },
  {
   "cell_type": "code",
   "execution_count": 37,
   "id": "dca19259-ecd6-4a51-aadd-a19b2a69a529",
   "metadata": {
    "hidden": true,
    "vscode": {
     "languageId": "r"
    }
   },
   "outputs": [
    {
     "name": "stdout",
     "output_type": "stream",
     "text": [
      "[1]  2  3  4  5  6  7  8  9 10\n",
      "[1]  -2  -3  -4  -5  -6  -7  -8  -9 -10\n",
      "[1]  2  3  4  5  6  7  8  9 10\n"
     ]
    }
   ],
   "source": [
    "# Range of values\n",
    "print(2:10)\n",
    "print(-2:-10)\n",
    "print(2:10)"
   ]
  },
  {
   "cell_type": "markdown",
   "id": "6471d744-9a82-471e-9770-60baafd80d19",
   "metadata": {
    "hidden": true
   },
   "source": [
    "**`%in%` Operator**"
   ]
  },
  {
   "cell_type": "code",
   "execution_count": 38,
   "id": "2729f3fe-2f17-47d3-83a0-c1094dbe2f3e",
   "metadata": {
    "hidden": true,
    "vscode": {
     "languageId": "r"
    }
   },
   "outputs": [
    {
     "name": "stdout",
     "output_type": "stream",
     "text": [
      "[1] TRUE\n",
      "[1] FALSE\n"
     ]
    }
   ],
   "source": [
    "# This operator is used to identify if an element belongs to a vector.\n",
    "\n",
    "v1 <- 8\n",
    "v2 <- 12\n",
    "t <- 1:10\n",
    "print(v1 %in% t) \n",
    "print(v2 %in% t)"
   ]
  },
  {
   "cell_type": "markdown",
   "id": "be131426-c03d-4e02-9c3e-3bc14a196a28",
   "metadata": {
    "hidden": true
   },
   "source": [
    "**`%*%` Operator**"
   ]
  },
  {
   "cell_type": "code",
   "execution_count": 39,
   "id": "11ad6aeb-f1a1-4364-abba-ec3a29583f11",
   "metadata": {
    "hidden": true,
    "vscode": {
     "languageId": "r"
    }
   },
   "outputs": [
    {
     "name": "stdout",
     "output_type": "stream",
     "text": [
      "     [,1] [,2] [,3]\n",
      "[1,]    1    4    7\n",
      "[2,]    2    5    8\n",
      "[3,]    3    6    9\n",
      "     [,1] [,2] [,3]\n",
      "[1,]   -1   -4   -7\n",
      "[2,]   -2   -5   -8\n",
      "[3,]   -3   -6   -9\n"
     ]
    }
   ],
   "source": [
    "a <- matrix(1:9, 3, 3)\n",
    "b <- matrix(-1:-9, 3, 3)\n",
    "print(a)\n",
    "print(b)"
   ]
  },
  {
   "cell_type": "code",
   "execution_count": 40,
   "id": "9e4bc75b-9e46-4fdd-923c-25e68f98bcd0",
   "metadata": {
    "hidden": true,
    "vscode": {
     "languageId": "r"
    }
   },
   "outputs": [
    {
     "name": "stdout",
     "output_type": "stream",
     "text": [
      "     [,1] [,2] [,3]\n",
      "[1,]   -1  -16  -49\n",
      "[2,]   -4  -25  -64\n",
      "[3,]   -9  -36  -81\n"
     ]
    }
   ],
   "source": [
    "print(a*b)"
   ]
  },
  {
   "cell_type": "code",
   "execution_count": 41,
   "id": "89348182-2711-4408-a54e-b4050ffe6cfc",
   "metadata": {
    "hidden": true,
    "vscode": {
     "languageId": "r"
    }
   },
   "outputs": [
    {
     "name": "stdout",
     "output_type": "stream",
     "text": [
      "     [,1] [,2] [,3]\n",
      "[1,]  -30  -66 -102\n",
      "[2,]  -36  -81 -126\n",
      "[3,]  -42  -96 -150\n"
     ]
    }
   ],
   "source": [
    "print(a%*%b)"
   ]
  },
  {
   "cell_type": "code",
   "execution_count": 24,
   "id": "c806a443-ad77-4580-8da9-3b342dfe83d2",
   "metadata": {
    "hidden": true,
    "vscode": {
     "languageId": "r"
    }
   },
   "outputs": [
    {
     "name": "stdout",
     "output_type": "stream",
     "text": [
      "[1] -30\n",
      "[1] -66\n"
     ]
    }
   ],
   "source": [
    "print(1*-1 +   4*-2 +    7*-3)\n",
    "print(1*-4 +   4*-5 +    7*-6)"
   ]
  },
  {
   "cell_type": "markdown",
   "id": "242a042c",
   "metadata": {
    "hidden": true
   },
   "source": [
    "**Special values**  \n",
    "`NA, NULL, ±Inf and NaN` "
   ]
  },
  {
   "cell_type": "code",
   "execution_count": null,
   "id": "7605c794",
   "metadata": {
    "hidden": true,
    "vscode": {
     "languageId": "r"
    }
   },
   "outputs": [],
   "source": [
    "# NA\n",
    "# NA Stands for not available\n",
    "# NA is a placeholder for a missing value"
   ]
  },
  {
   "cell_type": "code",
   "execution_count": 20,
   "id": "98cfe8c4",
   "metadata": {
    "hidden": true,
    "scrolled": true,
    "vscode": {
     "languageId": "r"
    }
   },
   "outputs": [
    {
     "name": "stdout",
     "output_type": "stream",
     "text": [
      "[1] NA\n",
      "[1] NA\n",
      "[1] 4\n",
      "[1] 4\n",
      "[1] NA\n",
      "[1] NA\n",
      "[1] TRUE\n"
     ]
    }
   ],
   "source": [
    "print(NA + 2)\n",
    "print(sum(c(NA, 4, 6)))\n",
    "print(median(c(NA, 4, 8, 4), na.rm = TRUE))\n",
    "print(length(c(NA, 2, 3, 4)))\n",
    "print(5 == NA)\n",
    "print(NA == NA)\n",
    "print(TRUE | NA)"
   ]
  },
  {
   "cell_type": "code",
   "execution_count": 21,
   "id": "7f05ed30",
   "metadata": {
    "hidden": true,
    "vscode": {
     "languageId": "r"
    }
   },
   "outputs": [
    {
     "data": {
      "text/html": [
       "<ol class=list-inline>\n",
       "\t<li>FALSE</li>\n",
       "\t<li>TRUE</li>\n",
       "\t<li>FALSE</li>\n",
       "\t<li>FALSE</li>\n",
       "\t<li>FALSE</li>\n",
       "\t<li>FALSE</li>\n",
       "\t<li>FALSE</li>\n",
       "</ol>\n"
      ],
      "text/latex": [
       "\\begin{enumerate*}\n",
       "\\item FALSE\n",
       "\\item TRUE\n",
       "\\item FALSE\n",
       "\\item FALSE\n",
       "\\item FALSE\n",
       "\\item FALSE\n",
       "\\item FALSE\n",
       "\\end{enumerate*}\n"
      ],
      "text/markdown": [
       "1. FALSE\n",
       "2. TRUE\n",
       "3. FALSE\n",
       "4. FALSE\n",
       "5. FALSE\n",
       "6. FALSE\n",
       "7. FALSE\n",
       "\n",
       "\n"
      ],
      "text/plain": [
       "[1] FALSE  TRUE FALSE FALSE FALSE FALSE FALSE"
      ]
     },
     "metadata": {},
     "output_type": "display_data"
    }
   ],
   "source": [
    "# we can check NA\n",
    "x <- c(2,NA,5,4.89,10,TRUE,6/7)\n",
    "is.na(x)"
   ]
  },
  {
   "cell_type": "code",
   "execution_count": null,
   "id": "56090f94",
   "metadata": {
    "hidden": true,
    "vscode": {
     "languageId": "r"
    }
   },
   "outputs": [],
   "source": [
    "NULL\n",
    "* The class of NULL is null and has length 0\n",
    "* Does not take up any space in a vector\n",
    "* The function `is.null()` can be used to detect NULL variables."
   ]
  },
  {
   "cell_type": "code",
   "execution_count": 22,
   "id": "fb1d9bba",
   "metadata": {
    "hidden": true,
    "vscode": {
     "languageId": "r"
    }
   },
   "outputs": [
    {
     "name": "stdout",
     "output_type": "stream",
     "text": [
      "[1] 3\n",
      "[1] 10\n",
      "[1] 5\n"
     ]
    }
   ],
   "source": [
    "print(length(c(3, 4, NULL, 1)))\n",
    "print(sum(c(5, 1, NULL, 4)))\n",
    "\n",
    "x <- NULL\n",
    "print(c(x, 5))"
   ]
  },
  {
   "cell_type": "code",
   "execution_count": null,
   "id": "65bf6d4c",
   "metadata": {
    "hidden": true,
    "vscode": {
     "languageId": "r"
    }
   },
   "outputs": [],
   "source": [
    "\n",
    "Inf\n",
    "* Inf is a valid `numeric` that results from calculations like division of a number by zero.\n",
    "* Since Inf is a numeric, operations between Inf and a finite numeric are well-defined and comparison operators work as expected."
   ]
  },
  {
   "cell_type": "code",
   "execution_count": 23,
   "id": "35687f56",
   "metadata": {
    "hidden": true,
    "vscode": {
     "languageId": "r"
    }
   },
   "outputs": [
    {
     "name": "stdout",
     "output_type": "stream",
     "text": [
      "[1] Inf\n",
      "[1] Inf\n",
      "[1] Inf\n",
      "[1] Inf\n"
     ]
    },
    {
     "data": {
      "text/html": [
       "FALSE"
      ],
      "text/latex": [
       "FALSE"
      ],
      "text/markdown": [
       "FALSE"
      ],
      "text/plain": [
       "[1] FALSE"
      ]
     },
     "metadata": {},
     "output_type": "display_data"
    },
    {
     "name": "stdout",
     "output_type": "stream",
     "text": [
      "[1] TRUE\n"
     ]
    }
   ],
   "source": [
    "print(32/0)\n",
    "print(5 * Inf)\n",
    "print(Inf - 2e+10)\n",
    "print(Inf + Inf)\n",
    "8 < -Inf\n",
    "print(Inf == Inf)"
   ]
  },
  {
   "cell_type": "code",
   "execution_count": null,
   "id": "099c41b2",
   "metadata": {
    "hidden": true,
    "vscode": {
     "languageId": "r"
    }
   },
   "outputs": [],
   "source": [
    "NaN\n",
    "* Stands for not a number. \n",
    "* unknown resulsts, but it is surely not a number\n",
    "* e.g like `0/0, Inf-Inf` and `Inf/Inf` result in NaN\n",
    "*  Computations involving numbers and NaN always result in NaN"
   ]
  },
  {
   "cell_type": "code",
   "execution_count": 24,
   "id": "98e70306",
   "metadata": {
    "hidden": true,
    "vscode": {
     "languageId": "r"
    }
   },
   "outputs": [
    {
     "data": {
      "text/html": [
       "NaN"
      ],
      "text/latex": [
       "NaN"
      ],
      "text/markdown": [
       "NaN"
      ],
      "text/plain": [
       "[1] NaN"
      ]
     },
     "metadata": {},
     "output_type": "display_data"
    },
    {
     "data": {
      "text/html": [
       "NaN"
      ],
      "text/latex": [
       "NaN"
      ],
      "text/markdown": [
       "NaN"
      ],
      "text/plain": [
       "[1] NaN"
      ]
     },
     "metadata": {},
     "output_type": "display_data"
    }
   ],
   "source": [
    "NaN + 1\n",
    "exp(NaN)"
   ]
  },
  {
   "cell_type": "markdown",
   "id": "6b924662",
   "metadata": {
    "hidden": true
   },
   "source": [
    "<font size=\"3\"><sub>Help: <a href=\"https://www.r-bloggers.com/2018/07/r-null-values-null-na-nan-inf/\" target=\"_blank\">https://www.r-bloggers.com/</a></sub></font>"
   ]
  },
  {
   "cell_type": "markdown",
   "id": "a33e1b92",
   "metadata": {
    "hidden": true
   },
   "source": [
    "**Coercion and Testing an Object:**"
   ]
  },
  {
   "cell_type": "code",
   "execution_count": null,
   "id": "611bd597",
   "metadata": {
    "hidden": true,
    "vscode": {
     "languageId": "r"
    }
   },
   "outputs": [],
   "source": [
    "Internal (implicit) coercion\n",
    "External coercion and testing objects"
   ]
  },
  {
   "cell_type": "code",
   "execution_count": null,
   "id": "8839ff35",
   "metadata": {
    "hidden": true,
    "vscode": {
     "languageId": "r"
    }
   },
   "outputs": [],
   "source": [
    "Internal (implicit) coercion:  \n",
    "If the two arguments are atomic vectors of different modes, one is coerced to the type of the other, the (decreasing) order of precedence being character, complex, numeric, integer, logical "
   ]
  },
  {
   "cell_type": "markdown",
   "id": "af41f508",
   "metadata": {
    "hidden": true
   },
   "source": [
    "![](imgs/6uz95Br.jpg)"
   ]
  },
  {
   "cell_type": "markdown",
   "id": "9c0639da",
   "metadata": {
    "hidden": true
   },
   "source": [
    "Guess what the following do without running them first    \n",
    "```{r}\n",
    "xx <- c(1.7, \"a\")\n",
    "xx <- c(TRUE, 2)\n",
    "xx <- c(\"a\", TRUE)\n",
    "This is called implicit coercion.\n",
    "```"
   ]
  },
  {
   "cell_type": "code",
   "execution_count": 25,
   "id": "315c7431",
   "metadata": {
    "hidden": true,
    "scrolled": true,
    "vscode": {
     "languageId": "r"
    }
   },
   "outputs": [
    {
     "name": "stdout",
     "output_type": "stream",
     "text": [
      "[1] 1 0\n",
      "[1] \"numeric\"\n",
      "[1] \"a\" \"1\"\n",
      "[1] \"character\"\n",
      "[1] 1 1\n",
      "[1] \"numeric\"\n",
      "[1] 3.427 1.000\n",
      "[1] \"numeric\"\n"
     ]
    }
   ],
   "source": [
    "print(c(1, FALSE))\n",
    "# numeric 1, 0\n",
    "print(mode(c(1, FALSE)))\n",
    "\n",
    "\n",
    "print(c(\"a\", 1))\n",
    "# character 'a', '1'\n",
    "print(mode(c(\"a\", 1)))\n",
    "\n",
    "print(c(TRUE, 1L))\n",
    "print(mode(c(TRUE, 1L)))\n",
    "# numeric 1, 1\n",
    "print(c(3.427, 1L))\n",
    "print(mode(c(3.427, 1L)))"
   ]
  },
  {
   "cell_type": "markdown",
   "id": "17822f19",
   "metadata": {
    "hidden": true
   },
   "source": [
    "**External coercion and testing objects:**  \n",
    "These following function will be used to test the object and convert to another object with coercing"
   ]
  },
  {
   "cell_type": "markdown",
   "id": "d7fe417b",
   "metadata": {
    "hidden": true
   },
   "source": [
    "![](imgs/hYYdi9O.png)"
   ]
  },
  {
   "cell_type": "markdown",
   "id": "c650c04c",
   "metadata": {
    "hidden": true
   },
   "source": [
    "**while testing the objects**  \n",
    "Use `is.atomic()` to test if an object is either atomic vector or `is.recursive()` || `is.list()` for recursive list.     \n",
    "`is.atomic()` is more suitable for testing if an object is a vector.   \n",
    "`is.list()` tests whether an object is truly a list.  \n",
    "`is.numeric()`, similarly, is TRUE for either integer or double vectors, but not for lists.  \n",
    "<font size=\"3\"><sub>Help: <a href=\"https://bookdown.org/medepi/phds/working-with-vectores-matrices-and-arrays.html\" target=\"_blank\">https://bookdown.org/</a></sub></font>"
   ]
  },
  {
   "cell_type": "markdown",
   "id": "44b0f051",
   "metadata": {
    "heading_collapsed": true
   },
   "source": [
    "##\tControl Structures & Loops   "
   ]
  },
  {
   "cell_type": "markdown",
   "id": "f7bc5316",
   "metadata": {
    "hidden": true
   },
   "source": [
    "(decision making statements)"
   ]
  },
  {
   "cell_type": "markdown",
   "id": "98f5ba08",
   "metadata": {
    "heading_collapsed": true,
    "hidden": true
   },
   "source": [
    "###\tif "
   ]
  },
  {
   "cell_type": "markdown",
   "id": "86e62fa6",
   "metadata": {
    "hidden": true
   },
   "source": [
    "**If Condition**"
   ]
  },
  {
   "cell_type": "code",
   "execution_count": null,
   "id": "7be457bb",
   "metadata": {
    "hidden": true,
    "vscode": {
     "languageId": "r"
    }
   },
   "outputs": [],
   "source": [
    "IF statement associates a condition with a sequence of statements, The sequence of statements is executed only if the condition is true. If the condition is false or null, the IF statement does nothing. In either case, control passes to the next statement**"
   ]
  },
  {
   "cell_type": "code",
   "execution_count": 45,
   "id": "a59633ec",
   "metadata": {
    "hidden": true,
    "vscode": {
     "languageId": "r"
    }
   },
   "outputs": [
    {
     "name": "stdout",
     "output_type": "stream",
     "text": [
      "[1] \"Num1 is less or equal to Num2\"\n"
     ]
    }
   ],
   "source": [
    "num1=10\n",
    "num2=20 \n",
    "if(num1<=num2)\n",
    "{\n",
    "print(\"Num1 is less or equal to Num2\")\n",
    "}"
   ]
  },
  {
   "cell_type": "markdown",
   "id": "2e036a67",
   "metadata": {
    "heading_collapsed": true,
    "hidden": true
   },
   "source": [
    "###\tif else"
   ]
  },
  {
   "cell_type": "code",
   "execution_count": 60,
   "id": "24573a46",
   "metadata": {
    "hidden": true,
    "vscode": {
     "languageId": "r"
    }
   },
   "outputs": [
    {
     "name": "stdout",
     "output_type": "stream",
     "text": [
      "[1] \"x is less than 10\"\n"
     ]
    }
   ],
   "source": [
    "x <- 1:15\n",
    "if (sample(x, 1) <= 10) \n",
    "{\n",
    "    print(\"x is less than 10\")\n",
    "} else \n",
    "{\n",
    "    print(\"x is greater than 10\")\n",
    "}"
   ]
  },
  {
   "cell_type": "markdown",
   "id": "50419b8b",
   "metadata": {
    "hidden": true
   },
   "source": [
    "**Another way of ifelse in R:**"
   ]
  },
  {
   "cell_type": "code",
   "execution_count": 63,
   "id": "c50d5a48",
   "metadata": {
    "hidden": true,
    "vscode": {
     "languageId": "r"
    }
   },
   "outputs": [
    {
     "data": {
      "text/html": [
       "<ol class=list-inline>\n",
       "\t<li>'x less than 10'</li>\n",
       "\t<li>'x less than 10'</li>\n",
       "\t<li>'x less than 10'</li>\n",
       "\t<li>'x less than 10'</li>\n",
       "\t<li>'x less than 10'</li>\n",
       "\t<li>'x less than 10'</li>\n",
       "\t<li>'x less than 10'</li>\n",
       "\t<li>'x less than 10'</li>\n",
       "\t<li>'x less than 10'</li>\n",
       "\t<li>'x less than 10'</li>\n",
       "\t<li>'x greater than 10'</li>\n",
       "\t<li>'x greater than 10'</li>\n",
       "\t<li>'x greater than 10'</li>\n",
       "\t<li>'x greater than 10'</li>\n",
       "\t<li>'x greater than 10'</li>\n",
       "</ol>\n"
      ],
      "text/latex": [
       "\\begin{enumerate*}\n",
       "\\item 'x less than 10'\n",
       "\\item 'x less than 10'\n",
       "\\item 'x less than 10'\n",
       "\\item 'x less than 10'\n",
       "\\item 'x less than 10'\n",
       "\\item 'x less than 10'\n",
       "\\item 'x less than 10'\n",
       "\\item 'x less than 10'\n",
       "\\item 'x less than 10'\n",
       "\\item 'x less than 10'\n",
       "\\item 'x greater than 10'\n",
       "\\item 'x greater than 10'\n",
       "\\item 'x greater than 10'\n",
       "\\item 'x greater than 10'\n",
       "\\item 'x greater than 10'\n",
       "\\end{enumerate*}\n"
      ],
      "text/markdown": [
       "1. 'x less than 10'\n",
       "2. 'x less than 10'\n",
       "3. 'x less than 10'\n",
       "4. 'x less than 10'\n",
       "5. 'x less than 10'\n",
       "6. 'x less than 10'\n",
       "7. 'x less than 10'\n",
       "8. 'x less than 10'\n",
       "9. 'x less than 10'\n",
       "10. 'x less than 10'\n",
       "11. 'x greater than 10'\n",
       "12. 'x greater than 10'\n",
       "13. 'x greater than 10'\n",
       "14. 'x greater than 10'\n",
       "15. 'x greater than 10'\n",
       "\n",
       "\n"
      ],
      "text/plain": [
       " [1] \"x less than 10\"    \"x less than 10\"    \"x less than 10\"   \n",
       " [4] \"x less than 10\"    \"x less than 10\"    \"x less than 10\"   \n",
       " [7] \"x less than 10\"    \"x less than 10\"    \"x less than 10\"   \n",
       "[10] \"x less than 10\"    \"x greater than 10\" \"x greater than 10\"\n",
       "[13] \"x greater than 10\" \"x greater than 10\" \"x greater than 10\""
      ]
     },
     "metadata": {},
     "output_type": "display_data"
    }
   ],
   "source": [
    "x <- 1:15\n",
    "ifelse(x <= 10, \"x less than 10\", \"x greater than 10\")"
   ]
  },
  {
   "cell_type": "markdown",
   "id": "5d32f3f0",
   "metadata": {
    "hidden": true
   },
   "source": [
    "<img src=\"imgs/YQfqXlY.png\" alt=\"drawing\" width=\"600\"/>"
   ]
  },
  {
   "cell_type": "markdown",
   "id": "a3023a78",
   "metadata": {
    "heading_collapsed": true,
    "hidden": true
   },
   "source": [
    "### If else if"
   ]
  },
  {
   "cell_type": "code",
   "execution_count": 64,
   "id": "2f8291b8",
   "metadata": {
    "hidden": true,
    "vscode": {
     "languageId": "r"
    }
   },
   "outputs": [
    {
     "name": "stdout",
     "output_type": "stream",
     "text": [
      "[1] \"truth is found the second time\"\n"
     ]
    }
   ],
   "source": [
    "x <- c(\"what\",\"is\",\"truth\")\n",
    "\n",
    "if(\"Truth\" %in% x) {\n",
    "   print(\"Truth is found the first time\")\n",
    "} else if (\"truth\" %in% x) {\n",
    "   print(\"truth is found the second time\")\n",
    "} else {\n",
    "   print(\"No truth found\")\n",
    "}"
   ]
  },
  {
   "cell_type": "markdown",
   "id": "5bbddc90",
   "metadata": {
    "heading_collapsed": true,
    "hidden": true
   },
   "source": [
    "###\tfor"
   ]
  },
  {
   "cell_type": "markdown",
   "id": "2423aaba",
   "metadata": {
    "hidden": true
   },
   "source": [
    "**For Loop:**  \n",
    "To repeats a statement or group of for a fixed number of times."
   ]
  },
  {
   "cell_type": "code",
   "execution_count": 1,
   "id": "34ee9b85",
   "metadata": {
    "hidden": true,
    "vscode": {
     "languageId": "r"
    }
   },
   "outputs": [
    {
     "name": "stdout",
     "output_type": "stream",
     "text": [
      "[1] \"aaa\"\n",
      "[1] \"bbb\"\n",
      "[1] \"ccc\"\n"
     ]
    }
   ],
   "source": [
    "vector <- c(\"aaa\",\"bbb\",\"ccc\")\n",
    "for(i in vector){   \n",
    "   print(i)   \n",
    "}    "
   ]
  },
  {
   "cell_type": "code",
   "execution_count": 2,
   "id": "4014f274",
   "metadata": {
    "hidden": true,
    "scrolled": true,
    "vscode": {
     "languageId": "r"
    }
   },
   "outputs": [
    {
     "name": "stdout",
     "output_type": "stream",
     "text": [
      "[1] \"The year is 2010\"\n",
      "[1] \"The year is 2011\"\n",
      "[1] \"The year is 2012\"\n",
      "[1] \"The year is 2013\"\n",
      "[1] \"The year is 2014\"\n",
      "[1] \"The year is 2015\"\n"
     ]
    }
   ],
   "source": [
    "for (year in c(2010,2011,2012,2013,2014,2015)){\n",
    "  print(paste(\"The year is\", year))\n",
    "}"
   ]
  },
  {
   "cell_type": "code",
   "execution_count": 3,
   "id": "7b9ccac1",
   "metadata": {
    "hidden": true,
    "vscode": {
     "languageId": "r"
    }
   },
   "outputs": [
    {
     "name": "stdout",
     "output_type": "stream",
     "text": [
      "[1] 3\n",
      "[1] 4\n",
      "[1] 5\n",
      "[1] 6\n"
     ]
    }
   ],
   "source": [
    "for(i in 2:5){\n",
    "    z <- i +1\n",
    "    print(z)\n",
    "}"
   ]
  },
  {
   "cell_type": "code",
   "execution_count": 4,
   "id": "e1c60043",
   "metadata": {
    "hidden": true,
    "vscode": {
     "languageId": "r"
    }
   },
   "outputs": [
    {
     "name": "stdout",
     "output_type": "stream",
     "text": [
      "     [,1] [,2] [,3]\n",
      "[1,]    1    4    7\n",
      "[2,]    2    5    8\n",
      "[3,]    3    6    9\n",
      "[1] 1\n",
      "[1] 4\n",
      "[1] 7\n",
      "[1] 2\n",
      "[1] 5\n",
      "[1] 8\n",
      "[1] 3\n",
      "[1] 6\n",
      "[1] 9\n"
     ]
    }
   ],
   "source": [
    "mymat <- matrix(1:9,3,3)\n",
    "print(mymat)\n",
    "\n",
    "for (i in seq_len(nrow(mymat))){\n",
    "    for (j in seq_len(ncol(mymat))){\n",
    "        print(mymat[i,j])\n",
    "    }\n",
    "}"
   ]
  },
  {
   "cell_type": "markdown",
   "id": "f9770e50",
   "metadata": {
    "heading_collapsed": true,
    "hidden": true
   },
   "source": [
    "### while  "
   ]
  },
  {
   "cell_type": "markdown",
   "id": "b819c37f",
   "metadata": {
    "hidden": true
   },
   "source": [
    "**While Loop:**  \n",
    "Loop until a specific condition is met  "
   ]
  },
  {
   "cell_type": "code",
   "execution_count": 6,
   "id": "25ffea7c",
   "metadata": {
    "hidden": true,
    "vscode": {
     "languageId": "r"
    }
   },
   "outputs": [
    {
     "name": "stdout",
     "output_type": "stream",
     "text": [
      "[1] 1\n",
      "[1] 2\n",
      "[1] 3\n",
      "[1] 4\n",
      "[1] 5\n"
     ]
    }
   ],
   "source": [
    "i <- 1\n",
    "\n",
    "while (i < 6) {\n",
    "   print(i)\n",
    "   i = i+1\n",
    "}"
   ]
  },
  {
   "cell_type": "markdown",
   "id": "bbbfe135",
   "metadata": {
    "heading_collapsed": true,
    "hidden": true
   },
   "source": [
    "###\tbreak"
   ]
  },
  {
   "cell_type": "markdown",
   "id": "55c63a98",
   "metadata": {
    "hidden": true
   },
   "source": [
    "**break Statement:**  \n",
    "break is used inside any loop like `repeat`, `for` or `while` to stop the iterations and flow the control outside of the loop."
   ]
  },
  {
   "cell_type": "code",
   "execution_count": 7,
   "id": "358933fa",
   "metadata": {
    "hidden": true,
    "vscode": {
     "languageId": "r"
    }
   },
   "outputs": [
    {
     "name": "stdout",
     "output_type": "stream",
     "text": [
      "[1] 1\n",
      "[1] 2\n"
     ]
    }
   ],
   "source": [
    "x <- 1:5\n",
    "\n",
    "for (val in x) {\n",
    "    if (val == 3){\n",
    "        break\n",
    "    }\n",
    "    print(val)\n",
    "}"
   ]
  },
  {
   "cell_type": "code",
   "execution_count": 9,
   "id": "e89113aa",
   "metadata": {
    "hidden": true,
    "vscode": {
     "languageId": "r"
    }
   },
   "outputs": [
    {
     "name": "stdout",
     "output_type": "stream",
     "text": [
      "[1] \"1 and so on. \"\n",
      "[1] \"2 and so on. \"\n",
      "[1] \"3 and so on. \"\n",
      "[1] \"4 and so on. \"\n",
      "[1] \"5 and so on. \"\n"
     ]
    }
   ],
   "source": [
    "x <- 1:10\n",
    "for (num in x){\n",
    "    if (num==6) break\n",
    "    mynum <- paste(num, \"and so on. \", sep = \" \")\n",
    "    print(mynum)\n",
    "}"
   ]
  },
  {
   "cell_type": "markdown",
   "id": "1e2a42ad",
   "metadata": {
    "heading_collapsed": true,
    "hidden": true
   },
   "source": [
    "###\trepeat  "
   ]
  },
  {
   "cell_type": "markdown",
   "id": "eda33027",
   "metadata": {
    "hidden": true
   },
   "source": [
    "**Repeat statement:**  \n",
    "Iterate over a block of code multiple number of times."
   ]
  },
  {
   "cell_type": "code",
   "execution_count": 8,
   "id": "6750ea8d",
   "metadata": {
    "hidden": true,
    "vscode": {
     "languageId": "r"
    }
   },
   "outputs": [
    {
     "name": "stdout",
     "output_type": "stream",
     "text": [
      "[1] 1\n",
      "[1] 2\n",
      "[1] 3\n",
      "[1] 4\n",
      "[1] 5\n"
     ]
    }
   ],
   "source": [
    "x <- 1\n",
    "\n",
    "repeat {\n",
    "   print(x)\n",
    "   x = x+1\n",
    "   if (x == 6){\n",
    "       break\n",
    "   }\n",
    "}"
   ]
  },
  {
   "cell_type": "markdown",
   "id": "15f14a7a",
   "metadata": {
    "heading_collapsed": true,
    "hidden": true
   },
   "source": [
    "###\tnext"
   ]
  },
  {
   "cell_type": "markdown",
   "id": "41650f68",
   "metadata": {
    "hidden": true
   },
   "source": [
    "**next Statment:**  \n",
    "* Useful to controls the flow of R loops  \n",
    "* general usage inside the For Loop and While Loop  "
   ]
  },
  {
   "cell_type": "code",
   "execution_count": 10,
   "id": "8991a29c",
   "metadata": {
    "hidden": true,
    "vscode": {
     "languageId": "r"
    }
   },
   "outputs": [
    {
     "name": "stdout",
     "output_type": "stream",
     "text": [
      "[1] 1\n",
      "[1] 2\n",
      "[1] 4\n",
      "[1] 5\n"
     ]
    }
   ],
   "source": [
    "x <- 1:5\n",
    "\n",
    "for (val in x) {\n",
    "    if (val == 3){\n",
    "        next\n",
    "    }\n",
    "    print(val)\n",
    "}"
   ]
  },
  {
   "cell_type": "markdown",
   "id": "7971a9a1",
   "metadata": {
    "heading_collapsed": true,
    "hidden": true
   },
   "source": [
    "###\tswitch "
   ]
  },
  {
   "cell_type": "markdown",
   "id": "e6d76463",
   "metadata": {
    "hidden": true
   },
   "source": [
    "**Switch Statment:**  \n",
    "switch statement allows a variable to be tested for equality against a list of values. Each value is called a **case**  "
   ]
  },
  {
   "cell_type": "code",
   "execution_count": 11,
   "id": "0ff2b34c",
   "metadata": {
    "hidden": true,
    "vscode": {
     "languageId": "r"
    }
   },
   "outputs": [
    {
     "name": "stdout",
     "output_type": "stream",
     "text": [
      "Please enter any ARITHMETIC OPERATOR You wish!: *\n",
      "[1] \"Multiplication of two numbers is:  600\"\n"
     ]
    }
   ],
   "source": [
    "number1 <- 30\n",
    "number2 <- 20\n",
    "operator <- readline(prompt=\"Please enter any ARITHMETIC OPERATOR You wish!: \")\n",
    " \n",
    "switch(operator,\n",
    "       \"+\" = print(paste(\"Addition of two numbers is: \", number1 + number2)),\n",
    "       \"-\" = print(paste(\"Subtraction of two numbers is: \", number1 - number2)),\n",
    "       \"*\" = print(paste(\"Multiplication of two numbers is: \", number1 * number2)),\n",
    "       \"^\" = print(paste(\"Exponent of two numbers is: \", number1 ^ number2)),\n",
    "       \"/\" = print(paste(\"Division of two numbers is: \", number1 / number2)),\n",
    "       \"%/%\" = print(paste(\"Integer Division of two numbers is: \", number1 %/% number2)),\n",
    "       \"%%\" = print(paste(\"Division of two numbers is: \", number1 %% number2))\n",
    ")"
   ]
  },
  {
   "cell_type": "markdown",
   "id": "c3d9df05",
   "metadata": {
    "hidden": true
   },
   "source": [
    "<span style=\"color:red\">**Conclusion**</span>\n",
    "\n",
    "**Loops are not recommended until and unless its really needed, since R has vectorisation feature**"
   ]
  },
  {
   "cell_type": "code",
   "execution_count": null,
   "id": "4608335a",
   "metadata": {
    "hidden": true,
    "vscode": {
     "languageId": "r"
    }
   },
   "outputs": [],
   "source": [
    "Vectorization concept"
   ]
  },
  {
   "cell_type": "code",
   "execution_count": 13,
   "id": "28b1fc48",
   "metadata": {
    "hidden": true,
    "vscode": {
     "languageId": "r"
    }
   },
   "outputs": [
    {
     "name": "stdout",
     "output_type": "stream",
     "text": [
      "[1]  5 10 15 20 25 30 35 45\n",
      "[1]  6  7  8  9 10 11 12 14\n",
      "[1] -4 -3 -2 -1  0  1  2  4\n"
     ]
    }
   ],
   "source": [
    "# let us take a vector \n",
    "vect <- c(1,2,3,4,5,6,7,9)\n",
    "# now we multiply each element of vect with 5\n",
    "print(vect * 5)\n",
    "# now we add each element of vect with 5\n",
    "print(vect + 5)\n",
    "# now we subtract each element of vect with 5\n",
    "print(vect - 5)"
   ]
  },
  {
   "cell_type": "code",
   "execution_count": null,
   "id": "1d5ed878",
   "metadata": {
    "hidden": true,
    "vscode": {
     "languageId": "r"
    }
   },
   "outputs": [],
   "source": [
    " recycling concept"
   ]
  },
  {
   "cell_type": "code",
   "execution_count": 14,
   "id": "273e7c55",
   "metadata": {
    "hidden": true,
    "vscode": {
     "languageId": "r"
    }
   },
   "outputs": [
    {
     "data": {
      "text/html": [
       "<ol class=list-inline>\n",
       "\t<li>2</li>\n",
       "\t<li>4</li>\n",
       "\t<li>6</li>\n",
       "\t<li>8</li>\n",
       "\t<li>10</li>\n",
       "\t<li>7</li>\n",
       "\t<li>9</li>\n",
       "\t<li>11</li>\n",
       "\t<li>13</li>\n",
       "\t<li>15</li>\n",
       "</ol>\n"
      ],
      "text/latex": [
       "\\begin{enumerate*}\n",
       "\\item 2\n",
       "\\item 4\n",
       "\\item 6\n",
       "\\item 8\n",
       "\\item 10\n",
       "\\item 7\n",
       "\\item 9\n",
       "\\item 11\n",
       "\\item 13\n",
       "\\item 15\n",
       "\\end{enumerate*}\n"
      ],
      "text/markdown": [
       "1. 2\n",
       "2. 4\n",
       "3. 6\n",
       "4. 8\n",
       "5. 10\n",
       "6. 7\n",
       "7. 9\n",
       "8. 11\n",
       "9. 13\n",
       "10. 15\n",
       "\n",
       "\n"
      ],
      "text/plain": [
       " [1]  2  4  6  8 10  7  9 11 13 15"
      ]
     },
     "metadata": {},
     "output_type": "display_data"
    }
   ],
   "source": [
    "a <- 1:10\n",
    "b <- 1:5\n",
    "a + b"
   ]
  },
  {
   "cell_type": "code",
   "execution_count": 15,
   "id": "a7a85545",
   "metadata": {
    "hidden": true,
    "vscode": {
     "languageId": "r"
    }
   },
   "outputs": [
    {
     "data": {
      "text/html": [
       "<ol class=list-inline>\n",
       "\t<li>5</li>\n",
       "\t<li>10</li>\n",
       "\t<li>15</li>\n",
       "\t<li>20</li>\n",
       "\t<li>25</li>\n",
       "\t<li>30</li>\n",
       "\t<li>35</li>\n",
       "\t<li>40</li>\n",
       "\t<li>45</li>\n",
       "\t<li>50</li>\n",
       "</ol>\n"
      ],
      "text/latex": [
       "\\begin{enumerate*}\n",
       "\\item 5\n",
       "\\item 10\n",
       "\\item 15\n",
       "\\item 20\n",
       "\\item 25\n",
       "\\item 30\n",
       "\\item 35\n",
       "\\item 40\n",
       "\\item 45\n",
       "\\item 50\n",
       "\\end{enumerate*}\n"
      ],
      "text/markdown": [
       "1. 5\n",
       "2. 10\n",
       "3. 15\n",
       "4. 20\n",
       "5. 25\n",
       "6. 30\n",
       "7. 35\n",
       "8. 40\n",
       "9. 45\n",
       "10. 50\n",
       "\n",
       "\n"
      ],
      "text/plain": [
       " [1]  5 10 15 20 25 30 35 40 45 50"
      ]
     },
     "metadata": {},
     "output_type": "display_data"
    }
   ],
   "source": [
    "a <- 1:10\n",
    "b <- 5\n",
    "a * b # here b  is a vector of length 1 "
   ]
  },
  {
   "cell_type": "markdown",
   "id": "eaed3746",
   "metadata": {
    "heading_collapsed": true
   },
   "source": [
    "##\tFunctions"
   ]
  },
  {
   "cell_type": "markdown",
   "id": "34428583",
   "metadata": {
    "hidden": true
   },
   "source": [
    "**Functions:**  \n",
    "> Functions can be described as ”black boxes” that take an input and print out an output based on the operation logic inside the function\n"
   ]
  },
  {
   "cell_type": "markdown",
   "id": "56aea0e5",
   "metadata": {
    "heading_collapsed": true,
    "hidden": true
   },
   "source": [
    "###\tBuilt-in functions"
   ]
  },
  {
   "cell_type": "markdown",
   "id": "87e7b9ca",
   "metadata": {
    "hidden": true
   },
   "source": [
    "> used by the user to make their work easier. Eg: mean(x), sum(x) ,sqrt(x),toupper(x), etc."
   ]
  },
  {
   "cell_type": "markdown",
   "id": "01ce1afc",
   "metadata": {
    "hidden": true
   },
   "source": [
    "**Some Built-in functions for the Objects**\n",
    "\n",
    "| Function      | Description                                                                                             |\n",
    "|----------------|---------------------------------------------------------------------------------------------------------|\n",
    "| `c()`          | combines values, vectors, and/or lists to create new objects                                            |\n",
    "| `unique()`     | returns a vector containing one element for each unique value in the vector                             |\n",
    "| `duplicated()` | returns a logical vector which tells if elements of a vector are duplicated with regard to previous one |\n",
    "| `rev()`        | reverse the order of element in a vector                                                                |\n",
    "| `sort()`       | sorts the elements in a vector                                                                          |\n",
    "| `append()`     | append or insert elements in a vector.                                                                                                     |\n",
    "| `sum()`        | sum of the elements of a vector                                                                                                      |\n",
    "| `min()`        | minimum value in a vector                                                                                                     |\n",
    "| `max()`        | maximum value in a vector                                                                                                      |\n",
    "| `cumsum`   | cumulative sum       | \n",
    "| `diff`    | x[i+1] - x[i]        | \n",
    "| `prod`     | product              | \n",
    "| `cumprod`  | cumulative product   | \n",
    "| `sample`   | random sample        | \n",
    "| `mean`     | average              | \n",
    "| `median`   | median               | \n",
    "| `var`      | variance | \n",
    "| `sd`       | standard deviation   | \n"
   ]
  },
  {
   "cell_type": "markdown",
   "id": "a72278f1",
   "metadata": {
    "hidden": true
   },
   "source": [
    "| Function           | Description                                                                                                                 |\n",
    "|--------------------|-----------------------------------------------------------------------------------------------------------------------------|\n",
    "| abs(x)             | absolute value (magnitude of numbers regardless of whether or not they are positive, magnitude of -21 > magnitude of 19. That magnitude is called an absolute)                                                                                                              |\n",
    "| sqrt(x)            | square root                                                                                                                 |\n",
    "| floor(x)         | floor(3.975) is 3                                                                                                         |\n",
    "| ceiling(x)         | ceiling(3.475) is 4                                                                                                         |\n",
    "| trunc(x)           | trunc(5.99) is 5                                                                                                            |\n",
    "| round(x, digits=n) | round(3.475, digits=2) is 3.48                                                                                              |\n",
    "| exp(x)             | e^x (calculate the power of e i.e. e^x)                                                                                                                        |\n",
    "| log10(x)           | common logarithm  (base 10)                                                                                                        |\n",
    "| log(x)             | natural logarithm (base e)                                                                                                          |\n",
    "| strsplit(x, split) | Split the elements of character vector x at split.strsplit(\"abc\", \"\") returns 3 element vector \"a\",\"b\",\"c\"                  |\n",
    "| toupper(x)         | Uppercase                                                                                                                   |\n",
    "| tolower(x)         | Lowercase                                                                                                                   |\n"
   ]
  },
  {
   "cell_type": "markdown",
   "id": "cf323964",
   "metadata": {
    "hidden": true
   },
   "source": [
    "**Functions Examples**  \n",
    "```{r}\n",
    "(x <- c(sort(sample(1:20, 9)), NA))\n",
    "(y <- c(sort(sample(3:23, 7)), NA))\n",
    "which.min(x)\n",
    "which.max(x)\n",
    "union(x, y)\n",
    "intersect(x, y)\n",
    "setdiff(x, y)\n",
    "setdiff(y, x)\n",
    "match(x,y)\n",
    "```  "
   ]
  },
  {
   "cell_type": "markdown",
   "id": "0e363623",
   "metadata": {
    "heading_collapsed": true,
    "hidden": true
   },
   "source": [
    "###\tUser defined functions"
   ]
  },
  {
   "cell_type": "markdown",
   "id": "ad8be4ff",
   "metadata": {
    "hidden": true
   },
   "source": [
    "Sets of instructions that you want to use repeatedly, it is a piece of code written to carry out a specified task, these functions are created by the user to meet a specific requirement of the user.    \n",
    "\n",
    "* Function Name \n",
    "* Arguments\n",
    "* Function Body \n",
    "* Return Value "
   ]
  },
  {
   "cell_type": "markdown",
   "id": "b836fab6",
   "metadata": {
    "hidden": true
   },
   "source": [
    "**Objects & Functions**  \n",
    "*To understand in R two slogans are helpful:*  \n",
    "> 1. Everything that exists is an **object**\n",
    "> 2. Everything that happens is a **function** call"
   ]
  },
  {
   "cell_type": "markdown",
   "id": "dc49ebd2",
   "metadata": {
    "hidden": true
   },
   "source": [
    "**syntax**\n",
    "\n",
    "```{r}\n",
    "function_name <–function(arg_1, arg_2, …) \n",
    "{ \n",
    "\n",
    "//Function body \n",
    "\n",
    "}\n",
    "```"
   ]
  },
  {
   "cell_type": "code",
   "execution_count": 17,
   "id": "6df877ea",
   "metadata": {
    "hidden": true,
    "vscode": {
     "languageId": "r"
    }
   },
   "outputs": [],
   "source": [
    "# creating a function that sum of the squares of 2 numbers\n",
    "sum_of_squares <- function(x,y) \n",
    "{\n",
    "x^2 + y^2\n",
    "}"
   ]
  },
  {
   "cell_type": "code",
   "execution_count": 18,
   "id": "04f3f3f4",
   "metadata": {
    "hidden": true,
    "scrolled": true,
    "vscode": {
     "languageId": "r"
    }
   },
   "outputs": [
    {
     "data": {
      "text/html": [
       "25"
      ],
      "text/latex": [
       "25"
      ],
      "text/markdown": [
       "25"
      ],
      "text/plain": [
       "[1] 25"
      ]
     },
     "metadata": {},
     "output_type": "display_data"
    }
   ],
   "source": [
    "sum_of_squares(3,4)"
   ]
  },
  {
   "cell_type": "code",
   "execution_count": 19,
   "id": "6a913191",
   "metadata": {
    "hidden": true,
    "vscode": {
     "languageId": "r"
    }
   },
   "outputs": [],
   "source": [
    "# function to print x raised to the power y\n",
    "pow <- function(x, y) \n",
    "{\n",
    "   result <- x^y\n",
    "   print(paste(x,\"raised to the power\", y, \"is\", result))\n",
    "}"
   ]
  },
  {
   "cell_type": "code",
   "execution_count": 20,
   "id": "48fa3838",
   "metadata": {
    "hidden": true,
    "scrolled": true,
    "vscode": {
     "languageId": "r"
    }
   },
   "outputs": [
    {
     "name": "stdout",
     "output_type": "stream",
     "text": [
      "[1] \"3 raised to the power 5 is 243\"\n"
     ]
    }
   ],
   "source": [
    "pow(3,5)"
   ]
  },
  {
   "cell_type": "markdown",
   "id": "3bf50bfa",
   "metadata": {
    "hidden": true
   },
   "source": [
    "**Default Arguments:**"
   ]
  },
  {
   "cell_type": "code",
   "execution_count": 14,
   "id": "55415353",
   "metadata": {
    "hidden": true,
    "vscode": {
     "languageId": "r"
    }
   },
   "outputs": [
    {
     "name": "stdout",
     "output_type": "stream",
     "text": [
      "[1] 18\n",
      "[1] 45\n"
     ]
    }
   ],
   "source": [
    "# Create a function with arguments.\n",
    "new.function <- function(a = 3, b = 6) {\n",
    "   result <- a * b\n",
    "   print(result)\n",
    "}\n",
    "\n",
    "# Call the function without giving any argument.\n",
    "new.function()\n",
    "\n",
    "# Call the function with giving new values of the argument.\n",
    "new.function(9,5)"
   ]
  },
  {
   "cell_type": "code",
   "execution_count": 15,
   "id": "8693305a",
   "metadata": {
    "hidden": true,
    "scrolled": true,
    "vscode": {
     "languageId": "r"
    }
   },
   "outputs": [
    {
     "data": {
      "text/html": [
       "8"
      ],
      "text/latex": [
       "8"
      ],
      "text/markdown": [
       "8"
      ],
      "text/plain": [
       "[1] 8"
      ]
     },
     "metadata": {},
     "output_type": "display_data"
    },
    {
     "data": {
      "text/html": [
       "4"
      ],
      "text/latex": [
       "4"
      ],
      "text/markdown": [
       "4"
      ],
      "text/plain": [
       "[1] 4"
      ]
     },
     "metadata": {},
     "output_type": "display_data"
    }
   ],
   "source": [
    "# Define the function and specify the exponent, second argument directly\n",
    "# Sets default of exponent to 2 (just square)\n",
    "MyThirdFun <- function(n, y = 2) \n",
    "{\n",
    "  # Compute the power of n to the y\n",
    "  n^y  \n",
    "}\n",
    "\n",
    "# Specify both args\n",
    "MyThirdFun(2,3) \n",
    "\n",
    "# Just specify the first arg\n",
    "MyThirdFun(2)   \n",
    "\n",
    "# Specify no argument: error!\n",
    "# MyThirdFun()"
   ]
  },
  {
   "cell_type": "markdown",
   "id": "a35d842e",
   "metadata": {
    "hidden": true
   },
   "source": [
    "**Named Arguments:**"
   ]
  },
  {
   "cell_type": "code",
   "execution_count": 30,
   "id": "a81877c0",
   "metadata": {
    "hidden": true,
    "vscode": {
     "languageId": "r"
    }
   },
   "outputs": [],
   "source": [
    "pow <- function(x, y) {\n",
    "   # function to print x raised to the power y\n",
    "\n",
    "   result <- x^y\n",
    "   print(paste(x,\"raised to the power\", y, \"is\", result))\n",
    "}"
   ]
  },
  {
   "cell_type": "code",
   "execution_count": 31,
   "id": "2e03948e",
   "metadata": {
    "hidden": true,
    "vscode": {
     "languageId": "r"
    }
   },
   "outputs": [
    {
     "name": "stdout",
     "output_type": "stream",
     "text": [
      "[1] \"8 raised to the power 2 is 64\"\n",
      "[1] \"8 raised to the power 2 is 64\"\n",
      "[1] \"8 raised to the power 2 is 64\"\n"
     ]
    }
   ],
   "source": [
    "# 8 raised to the power 2 is 64\n",
    "pow(8, 2)\n",
    "# 8 raised to the power 2 is 64\n",
    "pow(x = 8, y = 2)\n",
    "# 8 raised to the power 2 is 64\n",
    "pow(y = 2, x = 8)"
   ]
  },
  {
   "cell_type": "markdown",
   "id": "85164c3d",
   "metadata": {
    "hidden": true
   },
   "source": [
    "**partial matching:**"
   ]
  },
  {
   "cell_type": "code",
   "execution_count": 16,
   "id": "2e54182d",
   "metadata": {
    "hidden": true,
    "vscode": {
     "languageId": "r"
    }
   },
   "outputs": [],
   "source": [
    "?round"
   ]
  },
  {
   "cell_type": "code",
   "execution_count": 17,
   "id": "23361d5e",
   "metadata": {
    "hidden": true,
    "vscode": {
     "languageId": "r"
    }
   },
   "outputs": [
    {
     "name": "stdout",
     "output_type": "stream",
     "text": [
      "[1] 9.52\n",
      "[1] 9.52\n",
      "[1] 9.52\n"
     ]
    }
   ],
   "source": [
    "print(round(9.523, d=2))\n",
    "print(round(9.523, di=2))\n",
    "print(round(9.523, dig=2))"
   ]
  },
  {
   "cell_type": "code",
   "execution_count": 22,
   "id": "bcba4a7e",
   "metadata": {
    "hidden": true,
    "vscode": {
     "languageId": "r"
    }
   },
   "outputs": [],
   "source": [
    "testFun <- function(axb, bcd = 1, axdk) {\n",
    " return(axb + axdk)\n",
    " }"
   ]
  },
  {
   "cell_type": "code",
   "execution_count": 25,
   "id": "a5ef8873",
   "metadata": {
    "hidden": true,
    "vscode": {
     "languageId": "r"
    }
   },
   "outputs": [
    {
     "ename": "ERROR",
     "evalue": "Error in testFun(ax = 2, ax = 3): formal argument \"axb\" matched by multiple actual arguments\n",
     "output_type": "error",
     "traceback": [
      "Error in testFun(ax = 2, ax = 3): formal argument \"axb\" matched by multiple actual arguments\nTraceback:\n"
     ]
    }
   ],
   "source": [
    "testFun(ax=2,ax=3)"
   ]
  },
  {
   "cell_type": "code",
   "execution_count": 24,
   "id": "6c043c04",
   "metadata": {
    "hidden": true,
    "scrolled": true,
    "vscode": {
     "languageId": "r"
    }
   },
   "outputs": [
    {
     "data": {
      "text/html": [
       "5"
      ],
      "text/latex": [
       "5"
      ],
      "text/markdown": [
       "5"
      ],
      "text/plain": [
       "[1] 5"
      ]
     },
     "metadata": {},
     "output_type": "display_data"
    }
   ],
   "source": [
    "testFun(axb=2,ax = 3)"
   ]
  },
  {
   "cell_type": "markdown",
   "id": "37c17923",
   "metadata": {
    "hidden": true
   },
   "source": [
    "**Functions in R are first class objects**  \n",
    "   \n",
    "* can be treated as much like any other objects\n",
    "* Can be passed as arguments to othre functions\n",
    "* Can be nested so that you can define a function in another function\n",
    "* Return value is the last expression in the function body\n",
    "\n",
    "**Lazy evaluation**  \n",
    "\n",
    "* Materalize only when necessary\n",
    "* Data is not loaded until its needed\n",
    "* increase spped & saving computaions"
   ]
  },
  {
   "cell_type": "code",
   "execution_count": 12,
   "id": "a492b9bc",
   "metadata": {
    "hidden": true,
    "vscode": {
     "languageId": "r"
    }
   },
   "outputs": [
    {
     "data": {
      "text/html": [
       "4"
      ],
      "text/latex": [
       "4"
      ],
      "text/markdown": [
       "4"
      ],
      "text/plain": [
       "[1] 4"
      ]
     },
     "metadata": {},
     "output_type": "display_data"
    }
   ],
   "source": [
    "fun <- function(a,b){\n",
    "    a^2\n",
    "}\n",
    "fun(2,x/0)"
   ]
  },
  {
   "cell_type": "code",
   "execution_count": 13,
   "id": "b20f73ed",
   "metadata": {
    "hidden": true,
    "vscode": {
     "languageId": "r"
    }
   },
   "outputs": [
    {
     "data": {
      "text/html": [
       "10"
      ],
      "text/latex": [
       "10"
      ],
      "text/markdown": [
       "10"
      ],
      "text/plain": [
       "[1] 10"
      ]
     },
     "metadata": {},
     "output_type": "display_data"
    }
   ],
   "source": [
    "fun <- function(x){\n",
    "    10\n",
    "}\n",
    "fun(\"hello\")"
   ]
  },
  {
   "cell_type": "markdown",
   "id": "8ef1a04f",
   "metadata": {
    "hidden": true
   },
   "source": [
    "**Automatic Returns:**  "
   ]
  },
  {
   "cell_type": "markdown",
   "id": "e64e9fa1",
   "metadata": {
    "hidden": true
   },
   "source": [
    "In R, it is not necessary to include the return statement. R automatically returns whichever variable is on the last line of the body of the function.\n",
    "OR we can explicitly define the return statement."
   ]
  },
  {
   "cell_type": "code",
   "execution_count": 26,
   "id": "1ceae86a",
   "metadata": {
    "hidden": true,
    "vscode": {
     "languageId": "r"
    }
   },
   "outputs": [
    {
     "data": {
      "text/html": [
       "7"
      ],
      "text/latex": [
       "7"
      ],
      "text/markdown": [
       "7"
      ],
      "text/plain": [
       "[1] 7"
      ]
     },
     "metadata": {},
     "output_type": "display_data"
    }
   ],
   "source": [
    "add <- function(x,y=1,z=2){\n",
    "    x+y\n",
    "    x+z\n",
    "}\n",
    "add(5)"
   ]
  },
  {
   "cell_type": "code",
   "execution_count": 27,
   "id": "12ae93ca",
   "metadata": {
    "hidden": true,
    "vscode": {
     "languageId": "r"
    }
   },
   "outputs": [
    {
     "data": {
      "text/html": [
       "6"
      ],
      "text/latex": [
       "6"
      ],
      "text/markdown": [
       "6"
      ],
      "text/plain": [
       "[1] 6"
      ]
     },
     "metadata": {},
     "output_type": "display_data"
    }
   ],
   "source": [
    "add <- function(x,y=1,z=2){\n",
    "    x+y\n",
    "    x+z\n",
    "    return(x+y)\n",
    "}\n",
    "add(5)"
   ]
  },
  {
   "cell_type": "code",
   "execution_count": 28,
   "id": "88024811",
   "metadata": {
    "hidden": true,
    "vscode": {
     "languageId": "r"
    }
   },
   "outputs": [],
   "source": [
    "fahr_to_kelvin <- function(temp) {\n",
    "  kelvin <- ((temp - 32) * (5 / 9)) + 273.15\n",
    "  return(kelvin)\n",
    "}"
   ]
  },
  {
   "cell_type": "code",
   "execution_count": 29,
   "id": "6b54895f",
   "metadata": {
    "hidden": true,
    "scrolled": true,
    "vscode": {
     "languageId": "r"
    }
   },
   "outputs": [
    {
     "data": {
      "text/html": [
       "273.15"
      ],
      "text/latex": [
       "273.15"
      ],
      "text/markdown": [
       "273.15"
      ],
      "text/plain": [
       "[1] 273.15"
      ]
     },
     "metadata": {},
     "output_type": "display_data"
    },
    {
     "data": {
      "text/html": [
       "373.15"
      ],
      "text/latex": [
       "373.15"
      ],
      "text/markdown": [
       "373.15"
      ],
      "text/plain": [
       "[1] 373.15"
      ]
     },
     "metadata": {},
     "output_type": "display_data"
    }
   ],
   "source": [
    "# freezing point of water\n",
    "fahr_to_kelvin(32)\n",
    "# boiling point of water\n",
    "fahr_to_kelvin(212)"
   ]
  },
  {
   "cell_type": "markdown",
   "id": "29dc871c",
   "metadata": {
    "hidden": true
   },
   "source": [
    "**elipses or three dots (...)**"
   ]
  },
  {
   "cell_type": "markdown",
   "id": "7fbc70d9",
   "metadata": {
    "hidden": true
   },
   "source": [
    "* which is especially useful for creating customized versions of existing functions or in providing additional options to end-users.\n",
    "* Pass arguments to another function\n",
    "* These three dots (an ellipsis) act as a placeholder for any extra arguments given to the function\n",
    "* Take any number of named or unnamed arguments"
   ]
  },
  {
   "cell_type": "code",
   "execution_count": 32,
   "id": "ecf58e10",
   "metadata": {
    "hidden": true,
    "vscode": {
     "languageId": "r"
    }
   },
   "outputs": [
    {
     "data": {
      "text/html": [
       "<ol class=list-inline>\n",
       "\t<li>'how'</li>\n",
       "\t<li>'is'</li>\n",
       "\t<li>'your'</li>\n",
       "\t<li>'health'</li>\n",
       "</ol>\n"
      ],
      "text/latex": [
       "\\begin{enumerate*}\n",
       "\\item 'how'\n",
       "\\item 'is'\n",
       "\\item 'your'\n",
       "\\item 'health'\n",
       "\\end{enumerate*}\n"
      ],
      "text/markdown": [
       "1. 'how'\n",
       "2. 'is'\n",
       "3. 'your'\n",
       "4. 'health'\n",
       "\n",
       "\n"
      ],
      "text/plain": [
       "[1] \"how\"    \"is\"     \"your\"   \"health\""
      ]
     },
     "metadata": {},
     "output_type": "display_data"
    }
   ],
   "source": [
    "# example to write the function using three dots \n",
    "\n",
    "printDots <- function(...) {\n",
    "  myDots <- list(...)\n",
    "  paste(myDots)\n",
    "}\n",
    " \n",
    "printDots(\"how\", \"is\", \"your\", \"health\")"
   ]
  },
  {
   "cell_type": "markdown",
   "id": "2376eed3",
   "metadata": {
    "hidden": true
   },
   "source": [
    "**Named AND Anonymous (nameless) functions:**"
   ]
  },
  {
   "cell_type": "code",
   "execution_count": 34,
   "id": "4d0fc958",
   "metadata": {
    "hidden": true,
    "vscode": {
     "languageId": "r"
    }
   },
   "outputs": [
    {
     "data": {
      "text/html": [
       "60"
      ],
      "text/latex": [
       "60"
      ],
      "text/markdown": [
       "60"
      ],
      "text/plain": [
       "[1] 60"
      ]
     },
     "metadata": {},
     "output_type": "display_data"
    }
   ],
   "source": [
    "# named function define\n",
    "named <- function(x) x*10\n",
    "# calling a named function\n",
    "    named(6)"
   ]
  },
  {
   "cell_type": "code",
   "execution_count": 36,
   "id": "a8e50d64",
   "metadata": {
    "hidden": true,
    "vscode": {
     "languageId": "r"
    }
   },
   "outputs": [
    {
     "data": {
      "text/html": [
       "60"
      ],
      "text/latex": [
       "60"
      ],
      "text/markdown": [
       "60"
      ],
      "text/plain": [
       "[1] 60"
      ]
     },
     "metadata": {},
     "output_type": "display_data"
    }
   ],
   "source": [
    "# Anonymous/Nameless\n",
    "(function(x) x*10)(6) #"
   ]
  },
  {
   "cell_type": "markdown",
   "id": "1a3feb3e",
   "metadata": {
    "heading_collapsed": true,
    "hidden": true
   },
   "source": [
    "###\tApply family functions"
   ]
  },
  {
   "cell_type": "code",
   "execution_count": null,
   "id": "1282471f",
   "metadata": {
    "hidden": true,
    "vscode": {
     "languageId": "r"
    }
   },
   "outputs": [],
   "source": [
    "apply family functions pertains to the R base package and is populated with functions to manipulate slices of data from matrices, arrays, lists and dataframes in a repetitive way. These functions allow crossing the data in a number of ways and avoid explicit use of loop constructs."
   ]
  },
  {
   "cell_type": "code",
   "execution_count": 1,
   "id": "28d579de",
   "metadata": {
    "hidden": true,
    "vscode": {
     "languageId": "r"
    }
   },
   "outputs": [
    {
     "data": {
      "text/html": [
       "<table>\n",
       "<thead><tr><th></th><th scope=col>mpg</th><th scope=col>cyl</th><th scope=col>disp</th><th scope=col>hp</th><th scope=col>drat</th><th scope=col>wt</th><th scope=col>qsec</th><th scope=col>vs</th><th scope=col>am</th><th scope=col>gear</th><th scope=col>carb</th></tr></thead>\n",
       "<tbody>\n",
       "\t<tr><th scope=row>Mazda RX4</th><td>21.0 </td><td>6    </td><td>160  </td><td>110  </td><td>3.90 </td><td>2.620</td><td>16.46</td><td>0    </td><td>1    </td><td>4    </td><td>4    </td></tr>\n",
       "\t<tr><th scope=row>Mazda RX4 Wag</th><td>21.0 </td><td>6    </td><td>160  </td><td>110  </td><td>3.90 </td><td>2.875</td><td>17.02</td><td>0    </td><td>1    </td><td>4    </td><td>4    </td></tr>\n",
       "\t<tr><th scope=row>Datsun 710</th><td>22.8 </td><td>4    </td><td>108  </td><td> 93  </td><td>3.85 </td><td>2.320</td><td>18.61</td><td>1    </td><td>1    </td><td>4    </td><td>1    </td></tr>\n",
       "\t<tr><th scope=row>Hornet 4 Drive</th><td>21.4 </td><td>6    </td><td>258  </td><td>110  </td><td>3.08 </td><td>3.215</td><td>19.44</td><td>1    </td><td>0    </td><td>3    </td><td>1    </td></tr>\n",
       "\t<tr><th scope=row>Hornet Sportabout</th><td>18.7 </td><td>8    </td><td>360  </td><td>175  </td><td>3.15 </td><td>3.440</td><td>17.02</td><td>0    </td><td>0    </td><td>3    </td><td>2    </td></tr>\n",
       "\t<tr><th scope=row>Valiant</th><td>18.1 </td><td>6    </td><td>225  </td><td>105  </td><td>2.76 </td><td>3.460</td><td>20.22</td><td>1    </td><td>0    </td><td>3    </td><td>1    </td></tr>\n",
       "</tbody>\n",
       "</table>\n"
      ],
      "text/latex": [
       "\\begin{tabular}{r|lllllllllll}\n",
       "  & mpg & cyl & disp & hp & drat & wt & qsec & vs & am & gear & carb\\\\\n",
       "\\hline\n",
       "\tMazda RX4 & 21.0  & 6     & 160   & 110   & 3.90  & 2.620 & 16.46 & 0     & 1     & 4     & 4    \\\\\n",
       "\tMazda RX4 Wag & 21.0  & 6     & 160   & 110   & 3.90  & 2.875 & 17.02 & 0     & 1     & 4     & 4    \\\\\n",
       "\tDatsun 710 & 22.8  & 4     & 108   &  93   & 3.85  & 2.320 & 18.61 & 1     & 1     & 4     & 1    \\\\\n",
       "\tHornet 4 Drive & 21.4  & 6     & 258   & 110   & 3.08  & 3.215 & 19.44 & 1     & 0     & 3     & 1    \\\\\n",
       "\tHornet Sportabout & 18.7  & 8     & 360   & 175   & 3.15  & 3.440 & 17.02 & 0     & 0     & 3     & 2    \\\\\n",
       "\tValiant & 18.1  & 6     & 225   & 105   & 2.76  & 3.460 & 20.22 & 1     & 0     & 3     & 1    \\\\\n",
       "\\end{tabular}\n"
      ],
      "text/markdown": [
       "\n",
       "| <!--/--> | mpg | cyl | disp | hp | drat | wt | qsec | vs | am | gear | carb |\n",
       "|---|---|---|---|---|---|---|---|---|---|---|---|\n",
       "| Mazda RX4 | 21.0  | 6     | 160   | 110   | 3.90  | 2.620 | 16.46 | 0     | 1     | 4     | 4     |\n",
       "| Mazda RX4 Wag | 21.0  | 6     | 160   | 110   | 3.90  | 2.875 | 17.02 | 0     | 1     | 4     | 4     |\n",
       "| Datsun 710 | 22.8  | 4     | 108   |  93   | 3.85  | 2.320 | 18.61 | 1     | 1     | 4     | 1     |\n",
       "| Hornet 4 Drive | 21.4  | 6     | 258   | 110   | 3.08  | 3.215 | 19.44 | 1     | 0     | 3     | 1     |\n",
       "| Hornet Sportabout | 18.7  | 8     | 360   | 175   | 3.15  | 3.440 | 17.02 | 0     | 0     | 3     | 2     |\n",
       "| Valiant | 18.1  | 6     | 225   | 105   | 2.76  | 3.460 | 20.22 | 1     | 0     | 3     | 1     |\n",
       "\n"
      ],
      "text/plain": [
       "                  mpg  cyl disp hp  drat wt    qsec  vs am gear carb\n",
       "Mazda RX4         21.0 6   160  110 3.90 2.620 16.46 0  1  4    4   \n",
       "Mazda RX4 Wag     21.0 6   160  110 3.90 2.875 17.02 0  1  4    4   \n",
       "Datsun 710        22.8 4   108   93 3.85 2.320 18.61 1  1  4    1   \n",
       "Hornet 4 Drive    21.4 6   258  110 3.08 3.215 19.44 1  0  3    1   \n",
       "Hornet Sportabout 18.7 8   360  175 3.15 3.440 17.02 0  0  3    2   \n",
       "Valiant           18.1 6   225  105 2.76 3.460 20.22 1  0  3    1   "
      ]
     },
     "metadata": {},
     "output_type": "display_data"
    }
   ],
   "source": [
    "#let's take one dataset called mtcars for look at first 5 rows\n",
    "head(mtcars)"
   ]
  },
  {
   "cell_type": "code",
   "execution_count": 3,
   "id": "8363031d",
   "metadata": {
    "hidden": true,
    "vscode": {
     "languageId": "r"
    }
   },
   "outputs": [
    {
     "data": {
      "text/html": [
       "<ol class=list-inline>\n",
       "\t<li>32</li>\n",
       "\t<li>11</li>\n",
       "</ol>\n"
      ],
      "text/latex": [
       "\\begin{enumerate*}\n",
       "\\item 32\n",
       "\\item 11\n",
       "\\end{enumerate*}\n"
      ],
      "text/markdown": [
       "1. 32\n",
       "2. 11\n",
       "\n",
       "\n"
      ],
      "text/plain": [
       "[1] 32 11"
      ]
     },
     "metadata": {},
     "output_type": "display_data"
    }
   ],
   "source": [
    "# It contains 32 rows and 11 columns\n",
    "dim(mtcars)"
   ]
  },
  {
   "cell_type": "code",
   "execution_count": 5,
   "id": "7949246d",
   "metadata": {
    "hidden": true,
    "scrolled": true,
    "vscode": {
     "languageId": "r"
    }
   },
   "outputs": [
    {
     "name": "stdout",
     "output_type": "stream",
     "text": [
      "'data.frame':\t32 obs. of  11 variables:\n",
      " $ mpg : num  21 21 22.8 21.4 18.7 18.1 14.3 24.4 22.8 19.2 ...\n",
      " $ cyl : num  6 6 4 6 8 6 8 4 4 6 ...\n",
      " $ disp: num  160 160 108 258 360 ...\n",
      " $ hp  : num  110 110 93 110 175 105 245 62 95 123 ...\n",
      " $ drat: num  3.9 3.9 3.85 3.08 3.15 2.76 3.21 3.69 3.92 3.92 ...\n",
      " $ wt  : num  2.62 2.88 2.32 3.21 3.44 ...\n",
      " $ qsec: num  16.5 17 18.6 19.4 17 ...\n",
      " $ vs  : num  0 0 1 1 0 1 0 1 1 1 ...\n",
      " $ am  : num  1 1 1 0 0 0 0 0 0 0 ...\n",
      " $ gear: num  4 4 4 3 3 3 3 4 4 4 ...\n",
      " $ carb: num  4 4 1 1 2 1 4 2 2 4 ...\n"
     ]
    }
   ],
   "source": [
    "str(mtcars)"
   ]
  },
  {
   "cell_type": "code",
   "execution_count": 6,
   "id": "2ece9f3c",
   "metadata": {
    "hidden": true,
    "vscode": {
     "languageId": "r"
    }
   },
   "outputs": [
    {
     "data": {
      "text/html": [
       "33.9"
      ],
      "text/latex": [
       "33.9"
      ],
      "text/markdown": [
       "33.9"
      ],
      "text/plain": [
       "[1] 33.9"
      ]
     },
     "metadata": {},
     "output_type": "display_data"
    },
    {
     "data": {
      "text/html": [
       "8"
      ],
      "text/latex": [
       "8"
      ],
      "text/markdown": [
       "8"
      ],
      "text/plain": [
       "[1] 8"
      ]
     },
     "metadata": {},
     "output_type": "display_data"
    },
    {
     "data": {
      "text/html": [
       "472"
      ],
      "text/latex": [
       "472"
      ],
      "text/markdown": [
       "472"
      ],
      "text/plain": [
       "[1] 472"
      ]
     },
     "metadata": {},
     "output_type": "display_data"
    },
    {
     "data": {
      "text/html": [
       "335"
      ],
      "text/latex": [
       "335"
      ],
      "text/markdown": [
       "335"
      ],
      "text/plain": [
       "[1] 335"
      ]
     },
     "metadata": {},
     "output_type": "display_data"
    },
    {
     "data": {
      "text/html": [
       "4.93"
      ],
      "text/latex": [
       "4.93"
      ],
      "text/markdown": [
       "4.93"
      ],
      "text/plain": [
       "[1] 4.93"
      ]
     },
     "metadata": {},
     "output_type": "display_data"
    }
   ],
   "source": [
    "# To findout max of each column\n",
    "# one method\n",
    "max(mtcars[,1])\n",
    "max(mtcars[,2])\n",
    "max(mtcars[,3])\n",
    "max(mtcars[,4])\n",
    "max(mtcars[,5])\n",
    "#...etc"
   ]
  },
  {
   "cell_type": "code",
   "execution_count": 8,
   "id": "78411ef6",
   "metadata": {
    "hidden": true,
    "scrolled": true,
    "vscode": {
     "languageId": "r"
    }
   },
   "outputs": [
    {
     "name": "stdout",
     "output_type": "stream",
     "text": [
      "[1] 33.9\n",
      "[1] 8\n",
      "[1] 472\n",
      "[1] 335\n",
      "[1] 4.93\n",
      "[1] 5.424\n",
      "[1] 22.9\n",
      "[1] 1\n",
      "[1] 1\n",
      "[1] 5\n",
      "[1] 8\n"
     ]
    }
   ],
   "source": [
    "# another method\n",
    "for (i in 1:ncol(mtcars))\n",
    "    {\n",
    "    col <- mtcars[,i]\n",
    "    max <- max(col)\n",
    "    print(max)\n",
    "}"
   ]
  },
  {
   "cell_type": "markdown",
   "id": "8e4ab32b",
   "metadata": {
    "hidden": true
   },
   "source": [
    "\n",
    "* **apply** - apply over the margins of an array (e.g. the rows or columns of a matrix)\n",
    "* **lapply** - apply a function to each element of a list in turn and get a list back.\n",
    "* **sapply** - apply a function to each element of a list and get a simplified object like vector back, rather than a list.\n",
    "* **tapply** - apply a function to subsets of a vector and the subsets are defined by some other vector, usually a factor.\n",
    "* **mapply** - apply a function to the 1st elements of each, and then the 2nd elements of each, etc\n",
    "\n"
   ]
  },
  {
   "cell_type": "markdown",
   "id": "41386a79",
   "metadata": {
    "hidden": true
   },
   "source": [
    "![Imgur](imgs/VS2Brbn.jpg)"
   ]
  },
  {
   "cell_type": "markdown",
   "id": "97feb4ab",
   "metadata": {
    "heading_collapsed": true,
    "hidden": true
   },
   "source": [
    "####\tapply"
   ]
  },
  {
   "cell_type": "markdown",
   "id": "2d0e0b5d",
   "metadata": {
    "hidden": true
   },
   "source": [
    "**apply function:**  \n",
    "* When you want to apply a function to the rows or columns of a matrix (and higherdimensional analogues);"
   ]
  },
  {
   "cell_type": "code",
   "execution_count": 21,
   "id": "8799bdc9",
   "metadata": {
    "hidden": true,
    "vscode": {
     "languageId": "r"
    }
   },
   "outputs": [],
   "source": [
    "?apply #take help "
   ]
  },
  {
   "cell_type": "code",
   "execution_count": 9,
   "id": "63003c4d",
   "metadata": {
    "hidden": true,
    "vscode": {
     "languageId": "r"
    }
   },
   "outputs": [
    {
     "data": {
      "text/html": [
       "<dl class=dl-horizontal>\n",
       "\t<dt>mpg</dt>\n",
       "\t\t<dd>33.9</dd>\n",
       "\t<dt>cyl</dt>\n",
       "\t\t<dd>8</dd>\n",
       "\t<dt>disp</dt>\n",
       "\t\t<dd>472</dd>\n",
       "\t<dt>hp</dt>\n",
       "\t\t<dd>335</dd>\n",
       "\t<dt>drat</dt>\n",
       "\t\t<dd>4.93</dd>\n",
       "\t<dt>wt</dt>\n",
       "\t\t<dd>5.424</dd>\n",
       "\t<dt>qsec</dt>\n",
       "\t\t<dd>22.9</dd>\n",
       "\t<dt>vs</dt>\n",
       "\t\t<dd>1</dd>\n",
       "\t<dt>am</dt>\n",
       "\t\t<dd>1</dd>\n",
       "\t<dt>gear</dt>\n",
       "\t\t<dd>5</dd>\n",
       "\t<dt>carb</dt>\n",
       "\t\t<dd>8</dd>\n",
       "</dl>\n"
      ],
      "text/latex": [
       "\\begin{description*}\n",
       "\\item[mpg] 33.9\n",
       "\\item[cyl] 8\n",
       "\\item[disp] 472\n",
       "\\item[hp] 335\n",
       "\\item[drat] 4.93\n",
       "\\item[wt] 5.424\n",
       "\\item[qsec] 22.9\n",
       "\\item[vs] 1\n",
       "\\item[am] 1\n",
       "\\item[gear] 5\n",
       "\\item[carb] 8\n",
       "\\end{description*}\n"
      ],
      "text/markdown": [
       "mpg\n",
       ":   33.9cyl\n",
       ":   8disp\n",
       ":   472hp\n",
       ":   335drat\n",
       ":   4.93wt\n",
       ":   5.424qsec\n",
       ":   22.9vs\n",
       ":   1am\n",
       ":   1gear\n",
       ":   5carb\n",
       ":   8\n",
       "\n"
      ],
      "text/plain": [
       "    mpg     cyl    disp      hp    drat      wt    qsec      vs      am    gear \n",
       " 33.900   8.000 472.000 335.000   4.930   5.424  22.900   1.000   1.000   5.000 \n",
       "   carb \n",
       "  8.000 "
      ]
     },
     "metadata": {},
     "output_type": "display_data"
    }
   ],
   "source": [
    "# traverse column wise\n",
    "apply(mtcars, 2, max)"
   ]
  },
  {
   "cell_type": "code",
   "execution_count": 10,
   "id": "ad8a5cce",
   "metadata": {
    "hidden": true,
    "vscode": {
     "languageId": "r"
    }
   },
   "outputs": [
    {
     "data": {
      "text/html": [
       "<dl class=dl-horizontal>\n",
       "\t<dt>Mazda RX4</dt>\n",
       "\t\t<dd>160</dd>\n",
       "\t<dt>Mazda RX4 Wag</dt>\n",
       "\t\t<dd>160</dd>\n",
       "\t<dt>Datsun 710</dt>\n",
       "\t\t<dd>108</dd>\n",
       "\t<dt>Hornet 4 Drive</dt>\n",
       "\t\t<dd>258</dd>\n",
       "\t<dt>Hornet Sportabout</dt>\n",
       "\t\t<dd>360</dd>\n",
       "\t<dt>Valiant</dt>\n",
       "\t\t<dd>225</dd>\n",
       "\t<dt>Duster 360</dt>\n",
       "\t\t<dd>360</dd>\n",
       "\t<dt>Merc 240D</dt>\n",
       "\t\t<dd>146.7</dd>\n",
       "\t<dt>Merc 230</dt>\n",
       "\t\t<dd>140.8</dd>\n",
       "\t<dt>Merc 280</dt>\n",
       "\t\t<dd>167.6</dd>\n",
       "\t<dt>Merc 280C</dt>\n",
       "\t\t<dd>167.6</dd>\n",
       "\t<dt>Merc 450SE</dt>\n",
       "\t\t<dd>275.8</dd>\n",
       "\t<dt>Merc 450SL</dt>\n",
       "\t\t<dd>275.8</dd>\n",
       "\t<dt>Merc 450SLC</dt>\n",
       "\t\t<dd>275.8</dd>\n",
       "\t<dt>Cadillac Fleetwood</dt>\n",
       "\t\t<dd>472</dd>\n",
       "\t<dt>Lincoln Continental</dt>\n",
       "\t\t<dd>460</dd>\n",
       "\t<dt>Chrysler Imperial</dt>\n",
       "\t\t<dd>440</dd>\n",
       "\t<dt>Fiat 128</dt>\n",
       "\t\t<dd>78.7</dd>\n",
       "\t<dt>Honda Civic</dt>\n",
       "\t\t<dd>75.7</dd>\n",
       "\t<dt>Toyota Corolla</dt>\n",
       "\t\t<dd>71.1</dd>\n",
       "\t<dt>Toyota Corona</dt>\n",
       "\t\t<dd>120.1</dd>\n",
       "\t<dt>Dodge Challenger</dt>\n",
       "\t\t<dd>318</dd>\n",
       "\t<dt>AMC Javelin</dt>\n",
       "\t\t<dd>304</dd>\n",
       "\t<dt>Camaro Z28</dt>\n",
       "\t\t<dd>350</dd>\n",
       "\t<dt>Pontiac Firebird</dt>\n",
       "\t\t<dd>400</dd>\n",
       "\t<dt>Fiat X1-9</dt>\n",
       "\t\t<dd>79</dd>\n",
       "\t<dt>Porsche 914-2</dt>\n",
       "\t\t<dd>120.3</dd>\n",
       "\t<dt>Lotus Europa</dt>\n",
       "\t\t<dd>113</dd>\n",
       "\t<dt>Ford Pantera L</dt>\n",
       "\t\t<dd>351</dd>\n",
       "\t<dt>Ferrari Dino</dt>\n",
       "\t\t<dd>175</dd>\n",
       "\t<dt>Maserati Bora</dt>\n",
       "\t\t<dd>335</dd>\n",
       "\t<dt>Volvo 142E</dt>\n",
       "\t\t<dd>121</dd>\n",
       "</dl>\n"
      ],
      "text/latex": [
       "\\begin{description*}\n",
       "\\item[Mazda RX4] 160\n",
       "\\item[Mazda RX4 Wag] 160\n",
       "\\item[Datsun 710] 108\n",
       "\\item[Hornet 4 Drive] 258\n",
       "\\item[Hornet Sportabout] 360\n",
       "\\item[Valiant] 225\n",
       "\\item[Duster 360] 360\n",
       "\\item[Merc 240D] 146.7\n",
       "\\item[Merc 230] 140.8\n",
       "\\item[Merc 280] 167.6\n",
       "\\item[Merc 280C] 167.6\n",
       "\\item[Merc 450SE] 275.8\n",
       "\\item[Merc 450SL] 275.8\n",
       "\\item[Merc 450SLC] 275.8\n",
       "\\item[Cadillac Fleetwood] 472\n",
       "\\item[Lincoln Continental] 460\n",
       "\\item[Chrysler Imperial] 440\n",
       "\\item[Fiat 128] 78.7\n",
       "\\item[Honda Civic] 75.7\n",
       "\\item[Toyota Corolla] 71.1\n",
       "\\item[Toyota Corona] 120.1\n",
       "\\item[Dodge Challenger] 318\n",
       "\\item[AMC Javelin] 304\n",
       "\\item[Camaro Z28] 350\n",
       "\\item[Pontiac Firebird] 400\n",
       "\\item[Fiat X1-9] 79\n",
       "\\item[Porsche 914-2] 120.3\n",
       "\\item[Lotus Europa] 113\n",
       "\\item[Ford Pantera L] 351\n",
       "\\item[Ferrari Dino] 175\n",
       "\\item[Maserati Bora] 335\n",
       "\\item[Volvo 142E] 121\n",
       "\\end{description*}\n"
      ],
      "text/markdown": [
       "Mazda RX4\n",
       ":   160Mazda RX4 Wag\n",
       ":   160Datsun 710\n",
       ":   108Hornet 4 Drive\n",
       ":   258Hornet Sportabout\n",
       ":   360Valiant\n",
       ":   225Duster 360\n",
       ":   360Merc 240D\n",
       ":   146.7Merc 230\n",
       ":   140.8Merc 280\n",
       ":   167.6Merc 280C\n",
       ":   167.6Merc 450SE\n",
       ":   275.8Merc 450SL\n",
       ":   275.8Merc 450SLC\n",
       ":   275.8Cadillac Fleetwood\n",
       ":   472Lincoln Continental\n",
       ":   460Chrysler Imperial\n",
       ":   440Fiat 128\n",
       ":   78.7Honda Civic\n",
       ":   75.7Toyota Corolla\n",
       ":   71.1Toyota Corona\n",
       ":   120.1Dodge Challenger\n",
       ":   318AMC Javelin\n",
       ":   304Camaro Z28\n",
       ":   350Pontiac Firebird\n",
       ":   400Fiat X1-9\n",
       ":   79Porsche 914-2\n",
       ":   120.3Lotus Europa\n",
       ":   113Ford Pantera L\n",
       ":   351Ferrari Dino\n",
       ":   175Maserati Bora\n",
       ":   335Volvo 142E\n",
       ":   121\n",
       "\n"
      ],
      "text/plain": [
       "          Mazda RX4       Mazda RX4 Wag          Datsun 710      Hornet 4 Drive \n",
       "              160.0               160.0               108.0               258.0 \n",
       "  Hornet Sportabout             Valiant          Duster 360           Merc 240D \n",
       "              360.0               225.0               360.0               146.7 \n",
       "           Merc 230            Merc 280           Merc 280C          Merc 450SE \n",
       "              140.8               167.6               167.6               275.8 \n",
       "         Merc 450SL         Merc 450SLC  Cadillac Fleetwood Lincoln Continental \n",
       "              275.8               275.8               472.0               460.0 \n",
       "  Chrysler Imperial            Fiat 128         Honda Civic      Toyota Corolla \n",
       "              440.0                78.7                75.7                71.1 \n",
       "      Toyota Corona    Dodge Challenger         AMC Javelin          Camaro Z28 \n",
       "              120.1               318.0               304.0               350.0 \n",
       "   Pontiac Firebird           Fiat X1-9       Porsche 914-2        Lotus Europa \n",
       "              400.0                79.0               120.3               113.0 \n",
       "     Ford Pantera L        Ferrari Dino       Maserati Bora          Volvo 142E \n",
       "              351.0               175.0               335.0               121.0 "
      ]
     },
     "metadata": {},
     "output_type": "display_data"
    }
   ],
   "source": [
    "# traverse row wise\n",
    "apply(mtcars, 1, max)"
   ]
  },
  {
   "cell_type": "markdown",
   "id": "b509034d",
   "metadata": {
    "heading_collapsed": true,
    "hidden": true
   },
   "source": [
    "####\tlapply"
   ]
  },
  {
   "cell_type": "markdown",
   "id": "1bb52621",
   "metadata": {
    "hidden": true
   },
   "source": [
    "* When you want to apply a function to each element of a list/vector in turn and get a list back"
   ]
  },
  {
   "cell_type": "code",
   "execution_count": 4,
   "id": "8f8123f4",
   "metadata": {
    "hidden": true,
    "scrolled": true,
    "vscode": {
     "languageId": "r"
    }
   },
   "outputs": [
    {
     "data": {
      "text/html": [
       "<ol>\n",
       "\t<li>1</li>\n",
       "\t<li>4</li>\n",
       "\t<li>9</li>\n",
       "</ol>\n"
      ],
      "text/latex": [
       "\\begin{enumerate}\n",
       "\\item 1\n",
       "\\item 4\n",
       "\\item 9\n",
       "\\end{enumerate}\n"
      ],
      "text/markdown": [
       "1. 1\n",
       "2. 4\n",
       "3. 9\n",
       "\n",
       "\n"
      ],
      "text/plain": [
       "[[1]]\n",
       "[1] 1\n",
       "\n",
       "[[2]]\n",
       "[1] 4\n",
       "\n",
       "[[3]]\n",
       "[1] 9\n"
      ]
     },
     "metadata": {},
     "output_type": "display_data"
    }
   ],
   "source": [
    "lapply(1:3, function(x) x^2) "
   ]
  },
  {
   "cell_type": "code",
   "execution_count": 21,
   "id": "335d730a",
   "metadata": {
    "hidden": true,
    "scrolled": false,
    "vscode": {
     "languageId": "r"
    }
   },
   "outputs": [
    {
     "data": {
      "text/html": [
       "'list'"
      ],
      "text/latex": [
       "'list'"
      ],
      "text/markdown": [
       "'list'"
      ],
      "text/plain": [
       "[1] \"list\""
      ]
     },
     "metadata": {},
     "output_type": "display_data"
    }
   ],
   "source": [
    "class(lapply(1:3, function(x) x^2) )"
   ]
  },
  {
   "cell_type": "code",
   "execution_count": 12,
   "id": "e7edce39",
   "metadata": {
    "hidden": true,
    "vscode": {
     "languageId": "r"
    }
   },
   "outputs": [],
   "source": [
    "# create another list\n",
    "CAGO.list <- list(Diet1 = c(2,5,4,3,5,3), Diet2 =c(8,5,6,5,7,7), Diet3 =c(3,4,2,5,2,6) , Diet4 = c(2,2,3,2,5,2))"
   ]
  },
  {
   "cell_type": "code",
   "execution_count": 13,
   "id": "56507128",
   "metadata": {
    "hidden": true,
    "scrolled": true,
    "vscode": {
     "languageId": "r"
    }
   },
   "outputs": [
    {
     "data": {
      "text/html": [
       "<dl>\n",
       "\t<dt>$Diet1</dt>\n",
       "\t\t<dd>3.66666666666667</dd>\n",
       "\t<dt>$Diet2</dt>\n",
       "\t\t<dd>6.33333333333333</dd>\n",
       "\t<dt>$Diet3</dt>\n",
       "\t\t<dd>3.66666666666667</dd>\n",
       "\t<dt>$Diet4</dt>\n",
       "\t\t<dd>2.66666666666667</dd>\n",
       "</dl>\n"
      ],
      "text/latex": [
       "\\begin{description}\n",
       "\\item[\\$Diet1] 3.66666666666667\n",
       "\\item[\\$Diet2] 6.33333333333333\n",
       "\\item[\\$Diet3] 3.66666666666667\n",
       "\\item[\\$Diet4] 2.66666666666667\n",
       "\\end{description}\n"
      ],
      "text/markdown": [
       "$Diet1\n",
       ":   3.66666666666667\n",
       "$Diet2\n",
       ":   6.33333333333333\n",
       "$Diet3\n",
       ":   3.66666666666667\n",
       "$Diet4\n",
       ":   2.66666666666667\n",
       "\n",
       "\n"
      ],
      "text/plain": [
       "$Diet1\n",
       "[1] 3.666667\n",
       "\n",
       "$Diet2\n",
       "[1] 6.333333\n",
       "\n",
       "$Diet3\n",
       "[1] 3.666667\n",
       "\n",
       "$Diet4\n",
       "[1] 2.666667\n"
      ]
     },
     "metadata": {},
     "output_type": "display_data"
    }
   ],
   "source": [
    "lapply(CAGO.list, mean)"
   ]
  },
  {
   "cell_type": "markdown",
   "id": "cc040b00",
   "metadata": {
    "hidden": true
   },
   "source": [
    "* convert list to **data frame** and check whether `lapply()` is working for data frames or not"
   ]
  },
  {
   "cell_type": "code",
   "execution_count": 14,
   "id": "10ebaa96",
   "metadata": {
    "hidden": true,
    "vscode": {
     "languageId": "r"
    }
   },
   "outputs": [],
   "source": [
    "CAGO.df <- as.data.frame(CAGO.list)"
   ]
  },
  {
   "cell_type": "code",
   "execution_count": 15,
   "id": "4d31cfa7",
   "metadata": {
    "hidden": true,
    "vscode": {
     "languageId": "r"
    }
   },
   "outputs": [
    {
     "data": {
      "text/html": [
       "<table>\n",
       "<thead><tr><th scope=col>Diet1</th><th scope=col>Diet2</th><th scope=col>Diet3</th><th scope=col>Diet4</th></tr></thead>\n",
       "<tbody>\n",
       "\t<tr><td>2</td><td>8</td><td>3</td><td>2</td></tr>\n",
       "\t<tr><td>5</td><td>5</td><td>4</td><td>2</td></tr>\n",
       "\t<tr><td>4</td><td>6</td><td>2</td><td>3</td></tr>\n",
       "\t<tr><td>3</td><td>5</td><td>5</td><td>2</td></tr>\n",
       "\t<tr><td>5</td><td>7</td><td>2</td><td>5</td></tr>\n",
       "\t<tr><td>3</td><td>7</td><td>6</td><td>2</td></tr>\n",
       "</tbody>\n",
       "</table>\n"
      ],
      "text/latex": [
       "\\begin{tabular}{r|llll}\n",
       " Diet1 & Diet2 & Diet3 & Diet4\\\\\n",
       "\\hline\n",
       "\t 2 & 8 & 3 & 2\\\\\n",
       "\t 5 & 5 & 4 & 2\\\\\n",
       "\t 4 & 6 & 2 & 3\\\\\n",
       "\t 3 & 5 & 5 & 2\\\\\n",
       "\t 5 & 7 & 2 & 5\\\\\n",
       "\t 3 & 7 & 6 & 2\\\\\n",
       "\\end{tabular}\n"
      ],
      "text/markdown": [
       "\n",
       "| Diet1 | Diet2 | Diet3 | Diet4 |\n",
       "|---|---|---|---|\n",
       "| 2 | 8 | 3 | 2 |\n",
       "| 5 | 5 | 4 | 2 |\n",
       "| 4 | 6 | 2 | 3 |\n",
       "| 3 | 5 | 5 | 2 |\n",
       "| 5 | 7 | 2 | 5 |\n",
       "| 3 | 7 | 6 | 2 |\n",
       "\n"
      ],
      "text/plain": [
       "  Diet1 Diet2 Diet3 Diet4\n",
       "1 2     8     3     2    \n",
       "2 5     5     4     2    \n",
       "3 4     6     2     3    \n",
       "4 3     5     5     2    \n",
       "5 5     7     2     5    \n",
       "6 3     7     6     2    "
      ]
     },
     "metadata": {},
     "output_type": "display_data"
    }
   ],
   "source": [
    "CAGO.df"
   ]
  },
  {
   "cell_type": "code",
   "execution_count": 16,
   "id": "0ee56967",
   "metadata": {
    "hidden": true,
    "vscode": {
     "languageId": "r"
    }
   },
   "outputs": [
    {
     "data": {
      "text/html": [
       "<dl>\n",
       "\t<dt>$Diet1</dt>\n",
       "\t\t<dd>3.66666666666667</dd>\n",
       "\t<dt>$Diet2</dt>\n",
       "\t\t<dd>6.33333333333333</dd>\n",
       "\t<dt>$Diet3</dt>\n",
       "\t\t<dd>3.66666666666667</dd>\n",
       "\t<dt>$Diet4</dt>\n",
       "\t\t<dd>2.66666666666667</dd>\n",
       "</dl>\n"
      ],
      "text/latex": [
       "\\begin{description}\n",
       "\\item[\\$Diet1] 3.66666666666667\n",
       "\\item[\\$Diet2] 6.33333333333333\n",
       "\\item[\\$Diet3] 3.66666666666667\n",
       "\\item[\\$Diet4] 2.66666666666667\n",
       "\\end{description}\n"
      ],
      "text/markdown": [
       "$Diet1\n",
       ":   3.66666666666667\n",
       "$Diet2\n",
       ":   6.33333333333333\n",
       "$Diet3\n",
       ":   3.66666666666667\n",
       "$Diet4\n",
       ":   2.66666666666667\n",
       "\n",
       "\n"
      ],
      "text/plain": [
       "$Diet1\n",
       "[1] 3.666667\n",
       "\n",
       "$Diet2\n",
       "[1] 6.333333\n",
       "\n",
       "$Diet3\n",
       "[1] 3.666667\n",
       "\n",
       "$Diet4\n",
       "[1] 2.666667\n"
      ]
     },
     "metadata": {},
     "output_type": "display_data"
    }
   ],
   "source": [
    "lapply(CAGO.df, mean) # without specifying margins it calculate as column wise "
   ]
  },
  {
   "cell_type": "markdown",
   "id": "d53f60e5",
   "metadata": {
    "hidden": true
   },
   "source": [
    "* We can apply on **vector** as well using `lappply()`"
   ]
  },
  {
   "cell_type": "code",
   "execution_count": 18,
   "id": "94b9fe79",
   "metadata": {
    "hidden": true,
    "scrolled": true,
    "vscode": {
     "languageId": "r"
    }
   },
   "outputs": [
    {
     "data": {
      "text/html": [
       "<ol>\n",
       "\t<li>4</li>\n",
       "\t<li>2</li>\n",
       "\t<li>1</li>\n",
       "\t<li>6</li>\n",
       "\t<li>6</li>\n",
       "</ol>\n"
      ],
      "text/latex": [
       "\\begin{enumerate}\n",
       "\\item 4\n",
       "\\item 2\n",
       "\\item 1\n",
       "\\item 6\n",
       "\\item 6\n",
       "\\end{enumerate}\n"
      ],
      "text/markdown": [
       "1. 4\n",
       "2. 2\n",
       "3. 1\n",
       "4. 6\n",
       "5. 6\n",
       "\n",
       "\n"
      ],
      "text/plain": [
       "[[1]]\n",
       "[1] 4\n",
       "\n",
       "[[2]]\n",
       "[1] 2\n",
       "\n",
       "[[3]]\n",
       "[1] 1\n",
       "\n",
       "[[4]]\n",
       "[1] 6\n",
       "\n",
       "[[5]]\n",
       "[1] 6\n"
      ]
     },
     "metadata": {},
     "output_type": "display_data"
    }
   ],
   "source": [
    "Random <- c(\"This\", \"Is\", \"a\", \"Random\", \"Vector\")\n",
    "lapply(Random,nchar) #To get number of character for each vector element from above object"
   ]
  },
  {
   "cell_type": "code",
   "execution_count": 19,
   "id": "7042e727",
   "metadata": {
    "hidden": true,
    "vscode": {
     "languageId": "r"
    }
   },
   "outputs": [
    {
     "data": {
      "text/html": [
       "<ol>\n",
       "\t<li>'THIS'</li>\n",
       "\t<li>'IS'</li>\n",
       "\t<li>'A'</li>\n",
       "\t<li>'RANDOM'</li>\n",
       "\t<li>'VECTOR'</li>\n",
       "</ol>\n"
      ],
      "text/latex": [
       "\\begin{enumerate}\n",
       "\\item 'THIS'\n",
       "\\item 'IS'\n",
       "\\item 'A'\n",
       "\\item 'RANDOM'\n",
       "\\item 'VECTOR'\n",
       "\\end{enumerate}\n"
      ],
      "text/markdown": [
       "1. 'THIS'\n",
       "2. 'IS'\n",
       "3. 'A'\n",
       "4. 'RANDOM'\n",
       "5. 'VECTOR'\n",
       "\n",
       "\n"
      ],
      "text/plain": [
       "[[1]]\n",
       "[1] \"THIS\"\n",
       "\n",
       "[[2]]\n",
       "[1] \"IS\"\n",
       "\n",
       "[[3]]\n",
       "[1] \"A\"\n",
       "\n",
       "[[4]]\n",
       "[1] \"RANDOM\"\n",
       "\n",
       "[[5]]\n",
       "[1] \"VECTOR\"\n"
      ]
     },
     "metadata": {},
     "output_type": "display_data"
    }
   ],
   "source": [
    "lapply(Random,toupper)"
   ]
  },
  {
   "cell_type": "markdown",
   "id": "1b09c3c9",
   "metadata": {
    "heading_collapsed": true,
    "hidden": true
   },
   "source": [
    "####\tsapply"
   ]
  },
  {
   "cell_type": "markdown",
   "id": "9310ca35",
   "metadata": {
    "hidden": true
   },
   "source": [
    "* When you want to apply a function to each element of a list in turn, but you want a vector back, rather than a list"
   ]
  },
  {
   "cell_type": "code",
   "execution_count": 24,
   "id": "4da66bfc",
   "metadata": {
    "hidden": true,
    "scrolled": false,
    "vscode": {
     "languageId": "r"
    }
   },
   "outputs": [
    {
     "data": {
      "text/html": [
       "<ol class=list-inline>\n",
       "\t<li>1</li>\n",
       "\t<li>4</li>\n",
       "\t<li>9</li>\n",
       "</ol>\n"
      ],
      "text/latex": [
       "\\begin{enumerate*}\n",
       "\\item 1\n",
       "\\item 4\n",
       "\\item 9\n",
       "\\end{enumerate*}\n"
      ],
      "text/markdown": [
       "1. 1\n",
       "2. 4\n",
       "3. 9\n",
       "\n",
       "\n"
      ],
      "text/plain": [
       "[1] 1 4 9"
      ]
     },
     "metadata": {},
     "output_type": "display_data"
    }
   ],
   "source": [
    "sapply(1:3, function(x) x^2) "
   ]
  },
  {
   "cell_type": "code",
   "execution_count": 25,
   "id": "1c782f6c",
   "metadata": {
    "hidden": true,
    "vscode": {
     "languageId": "r"
    }
   },
   "outputs": [
    {
     "data": {
      "text/html": [
       "'numeric'"
      ],
      "text/latex": [
       "'numeric'"
      ],
      "text/markdown": [
       "'numeric'"
      ],
      "text/plain": [
       "[1] \"numeric\""
      ]
     },
     "metadata": {},
     "output_type": "display_data"
    }
   ],
   "source": [
    "class(sapply(1:3, function(x) x^2)) "
   ]
  },
  {
   "cell_type": "markdown",
   "id": "2db39adb",
   "metadata": {
    "hidden": true
   },
   "source": [
    "* apply the `sapply()` function on the `CAGO.list` and `CAGO.df`"
   ]
  },
  {
   "cell_type": "code",
   "execution_count": 26,
   "id": "92d36656",
   "metadata": {
    "hidden": true,
    "scrolled": true,
    "vscode": {
     "languageId": "r"
    }
   },
   "outputs": [
    {
     "name": "stdout",
     "output_type": "stream",
     "text": [
      "   Diet1    Diet2    Diet3    Diet4 \n",
      "3.666667 6.333333 3.666667 2.666667 \n"
     ]
    }
   ],
   "source": [
    "print(sapply(CAGO.list, mean)) # output as a vector"
   ]
  },
  {
   "cell_type": "code",
   "execution_count": 27,
   "id": "ae21bf89",
   "metadata": {
    "hidden": true,
    "vscode": {
     "languageId": "r"
    }
   },
   "outputs": [
    {
     "name": "stdout",
     "output_type": "stream",
     "text": [
      "   Diet1    Diet2    Diet3    Diet4 \n",
      "3.666667 6.333333 3.666667 2.666667 \n"
     ]
    }
   ],
   "source": [
    "print(sapply(CAGO.df, mean)) # output as a vector"
   ]
  },
  {
   "cell_type": "markdown",
   "id": "eba2fc1b",
   "metadata": {
    "heading_collapsed": true,
    "hidden": true
   },
   "source": [
    "####\ttapply"
   ]
  },
  {
   "cell_type": "markdown",
   "id": "7103f0c6",
   "metadata": {
    "hidden": true
   },
   "source": [
    "Applies a function or operation on subset of the vector broken down by a given factor variable.  \n",
    "   \n",
    "To understand clearly lets imagine you have height of 1000 people ( 500 male and 500 females), and you want to know the average height of males and females from this sample data. To deal with this problem you can group height by the gender, height of 500 males, and height of 500 females, and later calculate the average height for males and females.  "
   ]
  },
  {
   "cell_type": "code",
   "execution_count": 28,
   "id": "08f1f8e8",
   "metadata": {
    "hidden": true,
    "scrolled": true,
    "vscode": {
     "languageId": "r"
    }
   },
   "outputs": [
    {
     "data": {
      "text/html": [
       "<dl class=dl-horizontal>\n",
       "\t<dt>4</dt>\n",
       "\t\t<dd>2.28572727272727</dd>\n",
       "\t<dt>6</dt>\n",
       "\t\t<dd>3.11714285714286</dd>\n",
       "\t<dt>8</dt>\n",
       "\t\t<dd>3.99921428571429</dd>\n",
       "</dl>\n"
      ],
      "text/latex": [
       "\\begin{description*}\n",
       "\\item[4] 2.28572727272727\n",
       "\\item[6] 3.11714285714286\n",
       "\\item[8] 3.99921428571429\n",
       "\\end{description*}\n"
      ],
      "text/markdown": [
       "4\n",
       ":   2.285727272727276\n",
       ":   3.117142857142868\n",
       ":   3.99921428571429\n",
       "\n"
      ],
      "text/plain": [
       "       4        6        8 \n",
       "2.285727 3.117143 3.999214 "
      ]
     },
     "metadata": {},
     "output_type": "display_data"
    }
   ],
   "source": [
    "tapply(mtcars$wt,mtcars$cyl,mean)"
   ]
  },
  {
   "cell_type": "code",
   "execution_count": 30,
   "id": "b97a2ae6",
   "metadata": {
    "hidden": true,
    "scrolled": true,
    "vscode": {
     "languageId": "r"
    }
   },
   "outputs": [
    {
     "data": {
      "text/html": [
       "<table>\n",
       "<thead><tr><th scope=col>Sepal.Length</th><th scope=col>Sepal.Width</th><th scope=col>Petal.Length</th><th scope=col>Petal.Width</th><th scope=col>Species</th></tr></thead>\n",
       "<tbody>\n",
       "\t<tr><td>5.1   </td><td>3.5   </td><td>1.4   </td><td>0.2   </td><td>setosa</td></tr>\n",
       "\t<tr><td>4.9   </td><td>3.0   </td><td>1.4   </td><td>0.2   </td><td>setosa</td></tr>\n",
       "\t<tr><td>4.7   </td><td>3.2   </td><td>1.3   </td><td>0.2   </td><td>setosa</td></tr>\n",
       "\t<tr><td>4.6   </td><td>3.1   </td><td>1.5   </td><td>0.2   </td><td>setosa</td></tr>\n",
       "\t<tr><td>5.0   </td><td>3.6   </td><td>1.4   </td><td>0.2   </td><td>setosa</td></tr>\n",
       "\t<tr><td>5.4   </td><td>3.9   </td><td>1.7   </td><td>0.4   </td><td>setosa</td></tr>\n",
       "</tbody>\n",
       "</table>\n"
      ],
      "text/latex": [
       "\\begin{tabular}{r|lllll}\n",
       " Sepal.Length & Sepal.Width & Petal.Length & Petal.Width & Species\\\\\n",
       "\\hline\n",
       "\t 5.1    & 3.5    & 1.4    & 0.2    & setosa\\\\\n",
       "\t 4.9    & 3.0    & 1.4    & 0.2    & setosa\\\\\n",
       "\t 4.7    & 3.2    & 1.3    & 0.2    & setosa\\\\\n",
       "\t 4.6    & 3.1    & 1.5    & 0.2    & setosa\\\\\n",
       "\t 5.0    & 3.6    & 1.4    & 0.2    & setosa\\\\\n",
       "\t 5.4    & 3.9    & 1.7    & 0.4    & setosa\\\\\n",
       "\\end{tabular}\n"
      ],
      "text/markdown": [
       "\n",
       "| Sepal.Length | Sepal.Width | Petal.Length | Petal.Width | Species |\n",
       "|---|---|---|---|---|\n",
       "| 5.1    | 3.5    | 1.4    | 0.2    | setosa |\n",
       "| 4.9    | 3.0    | 1.4    | 0.2    | setosa |\n",
       "| 4.7    | 3.2    | 1.3    | 0.2    | setosa |\n",
       "| 4.6    | 3.1    | 1.5    | 0.2    | setosa |\n",
       "| 5.0    | 3.6    | 1.4    | 0.2    | setosa |\n",
       "| 5.4    | 3.9    | 1.7    | 0.4    | setosa |\n",
       "\n"
      ],
      "text/plain": [
       "  Sepal.Length Sepal.Width Petal.Length Petal.Width Species\n",
       "1 5.1          3.5         1.4          0.2         setosa \n",
       "2 4.9          3.0         1.4          0.2         setosa \n",
       "3 4.7          3.2         1.3          0.2         setosa \n",
       "4 4.6          3.1         1.5          0.2         setosa \n",
       "5 5.0          3.6         1.4          0.2         setosa \n",
       "6 5.4          3.9         1.7          0.4         setosa "
      ]
     },
     "metadata": {},
     "output_type": "display_data"
    }
   ],
   "source": [
    "head(iris)"
   ]
  },
  {
   "cell_type": "code",
   "execution_count": 29,
   "id": "2ba5f3cf",
   "metadata": {
    "hidden": true,
    "vscode": {
     "languageId": "r"
    }
   },
   "outputs": [
    {
     "data": {
      "text/html": [
       "<dl class=dl-horizontal>\n",
       "\t<dt>setosa</dt>\n",
       "\t\t<dd>5.006</dd>\n",
       "\t<dt>versicolor</dt>\n",
       "\t\t<dd>5.936</dd>\n",
       "\t<dt>virginica</dt>\n",
       "\t\t<dd>6.588</dd>\n",
       "</dl>\n"
      ],
      "text/latex": [
       "\\begin{description*}\n",
       "\\item[setosa] 5.006\n",
       "\\item[versicolor] 5.936\n",
       "\\item[virginica] 6.588\n",
       "\\end{description*}\n"
      ],
      "text/markdown": [
       "setosa\n",
       ":   5.006versicolor\n",
       ":   5.936virginica\n",
       ":   6.588\n",
       "\n"
      ],
      "text/plain": [
       "    setosa versicolor  virginica \n",
       "     5.006      5.936      6.588 "
      ]
     },
     "metadata": {},
     "output_type": "display_data"
    }
   ],
   "source": [
    "tapply(iris$Sepal.Length,iris$Species,mean)"
   ]
  },
  {
   "cell_type": "markdown",
   "id": "b887e408",
   "metadata": {
    "heading_collapsed": true,
    "hidden": true
   },
   "source": [
    "####\tmapply"
   ]
  },
  {
   "cell_type": "markdown",
   "id": "9d2cd1e6",
   "metadata": {
    "hidden": true
   },
   "source": [
    "Multivariate version of sapply  \n",
    "It applies FUN to the first elements of each (…) argument, the second elements, the third elements, and so on.  \n",
    "Note that the **first argument of mapply() here is the name of a function**  \n",
    "Advisable when you have several data structures (e.g. vectors, lists) and you want to apply a function over elements "
   ]
  },
  {
   "cell_type": "code",
   "execution_count": 7,
   "id": "187ea1a2",
   "metadata": {
    "hidden": true,
    "vscode": {
     "languageId": "r"
    }
   },
   "outputs": [
    {
     "name": "stdout",
     "output_type": "stream",
     "text": [
      " [1]  64  68  72  76  80  84  88  92  96 100\n"
     ]
    }
   ],
   "source": [
    "l1 <- list(a = c(1:10), b = c(11:20))\n",
    "l2 <- list(c = c(21:30), d = c(31:40))\n",
    "# sum the corresponding elements of l1 and l2\n",
    "print(mapply(sum, l1$a, l1$b, l2$c, l2$d))"
   ]
  },
  {
   "cell_type": "code",
   "execution_count": 8,
   "id": "81dad50e",
   "metadata": {
    "hidden": true,
    "vscode": {
     "languageId": "r"
    }
   },
   "outputs": [
    {
     "name": "stdout",
     "output_type": "stream",
     "text": [
      "  a   b \n",
      " 55 155 \n"
     ]
    }
   ],
   "source": [
    "print(mapply(sum, l1))\n",
    "#sum(c(1:10))"
   ]
  },
  {
   "cell_type": "code",
   "execution_count": 9,
   "id": "480e520d",
   "metadata": {
    "hidden": true,
    "vscode": {
     "languageId": "r"
    }
   },
   "outputs": [
    {
     "name": "stdout",
     "output_type": "stream",
     "text": [
      "  a   b \n",
      "310 510 \n"
     ]
    }
   ],
   "source": [
    "print(mapply(sum, l1,l2))\n",
    "#sum(c(1:10),c(21:30))"
   ]
  },
  {
   "cell_type": "code",
   "execution_count": 10,
   "id": "ad732552",
   "metadata": {
    "hidden": true,
    "vscode": {
     "languageId": "r"
    }
   },
   "outputs": [
    {
     "name": "stdout",
     "output_type": "stream",
     "text": [
      " [1] 12 14 16 18 20 22 24 26 28 30\n"
     ]
    }
   ],
   "source": [
    "print(mapply(sum, l1$a, l1$b))"
   ]
  },
  {
   "cell_type": "code",
   "execution_count": 33,
   "id": "3195920c",
   "metadata": {
    "hidden": true,
    "vscode": {
     "languageId": "r"
    }
   },
   "outputs": [
    {
     "name": "stdout",
     "output_type": "stream",
     "text": [
      "     [,1] [,2] [,3] [,4]\n",
      "[1,]    1    2    3    4\n",
      "[2,]    1    2    3    4\n",
      "[3,]    1    2    3    4\n",
      "[4,]    1    2    3    4\n",
      "     [,1] [,2] [,3] [,4]\n",
      "[1,]    1    2    3    4\n",
      "[2,]    1    2    3    4\n",
      "[3,]    1    2    3    4\n",
      "[4,]    1    2    3    4\n"
     ]
    }
   ],
   "source": [
    "# Create a 4x4 matrix\n",
    "Q1 <- matrix(c(rep(1, 4), rep(2, 4), rep(3, 4), rep(4, 4)),4,4)\n",
    "\n",
    "# Print `Q1`\n",
    "print(Q1)\n",
    "\n",
    "# Or use `mapply()`\n",
    "Q2 <- mapply(rep,1:4,4)\n",
    "\n",
    "# Print `Q2`\n",
    "print(Q2)"
   ]
  },
  {
   "cell_type": "code",
   "execution_count": 6,
   "id": "0f1577fd",
   "metadata": {
    "hidden": true,
    "vscode": {
     "languageId": "r"
    }
   },
   "outputs": [
    {
     "data": {
      "text/html": [
       "<ol>\n",
       "\t<li><ol class=list-inline>\n",
       "\t<li>1</li>\n",
       "\t<li>1</li>\n",
       "\t<li>1</li>\n",
       "\t<li>1</li>\n",
       "</ol>\n",
       "</li>\n",
       "\t<li><ol class=list-inline>\n",
       "\t<li>2</li>\n",
       "\t<li>2</li>\n",
       "\t<li>2</li>\n",
       "</ol>\n",
       "</li>\n",
       "\t<li><ol class=list-inline>\n",
       "\t<li>3</li>\n",
       "\t<li>3</li>\n",
       "</ol>\n",
       "</li>\n",
       "\t<li>4</li>\n",
       "</ol>\n"
      ],
      "text/latex": [
       "\\begin{enumerate}\n",
       "\\item \\begin{enumerate*}\n",
       "\\item 1\n",
       "\\item 1\n",
       "\\item 1\n",
       "\\item 1\n",
       "\\end{enumerate*}\n",
       "\n",
       "\\item \\begin{enumerate*}\n",
       "\\item 2\n",
       "\\item 2\n",
       "\\item 2\n",
       "\\end{enumerate*}\n",
       "\n",
       "\\item \\begin{enumerate*}\n",
       "\\item 3\n",
       "\\item 3\n",
       "\\end{enumerate*}\n",
       "\n",
       "\\item 4\n",
       "\\end{enumerate}\n"
      ],
      "text/markdown": [
       "1. 1. 1\n",
       "2. 1\n",
       "3. 1\n",
       "4. 1\n",
       "\n",
       "\n",
       "\n",
       "2. 1. 2\n",
       "2. 2\n",
       "3. 2\n",
       "\n",
       "\n",
       "\n",
       "3. 1. 3\n",
       "2. 3\n",
       "\n",
       "\n",
       "\n",
       "4. 4\n",
       "\n",
       "\n"
      ],
      "text/plain": [
       "[[1]]\n",
       "[1] 1 1 1 1\n",
       "\n",
       "[[2]]\n",
       "[1] 2 2 2\n",
       "\n",
       "[[3]]\n",
       "[1] 3 3\n",
       "\n",
       "[[4]]\n",
       "[1] 4\n"
      ]
     },
     "metadata": {},
     "output_type": "display_data"
    }
   ],
   "source": [
    "mapply(rep, 1:4, 4:1)"
   ]
  },
  {
   "cell_type": "markdown",
   "id": "5367ad80",
   "metadata": {},
   "source": [
    "##\tPackages/Modules/Libraries"
   ]
  },
  {
   "cell_type": "markdown",
   "id": "63ee0376",
   "metadata": {},
   "source": [
    "R has many packages prepared and conitniuosly maintaining and upgrading for the specific purpose of activities  \n",
    "**Eg:**  \n",
    "we can use `stringr` package used for various string related operations  \n",
    "we can use `dplyr` package for data manipulation/cleaning/analysis  \n",
    "we can use `ggplot2` package for data visualization  \n",
    "....etc"
   ]
  },
  {
   "cell_type": "markdown",
   "id": "b846dd16",
   "metadata": {},
   "source": [
    "To install any package we need internet connectivity for the machine and use `install.packages(\"Package_Name\")`  "
   ]
  },
  {
   "cell_type": "markdown",
   "id": "6e959cad",
   "metadata": {},
   "source": [
    "**Eg:**  \n",
    "`install.packages(\"dplyr\")`"
   ]
  },
  {
   "cell_type": "markdown",
   "id": "0fba895f",
   "metadata": {
    "run_control": {
     "marked": false
    }
   },
   "source": [
    "To load the installed package for the current session we should use `library(Package_Name)`"
   ]
  },
  {
   "cell_type": "markdown",
   "id": "ab71bbec",
   "metadata": {},
   "source": [
    "**Eg:**  \n",
    "`library(dplyr)`"
   ]
  },
  {
   "cell_type": "markdown",
   "id": "9bdc2ae7",
   "metadata": {},
   "source": [
    "**List of CRAN Packages By Name:** https://cran.r-project.org/web/packages/available_packages_by_name.html    \n",
    "**Basic commands for managing R packages:** https://stats.idre.ucla.edu/r/faq/how-can-i-manage-r-packages/    "
   ]
  }
 ],
 "metadata": {
  "hide_input": false,
  "kernelspec": {
   "display_name": "R",
   "language": "R",
   "name": "ir"
  },
  "language_info": {
   "codemirror_mode": "r",
   "file_extension": ".r",
   "mimetype": "text/x-r-source",
   "name": "R",
   "pygments_lexer": "r",
   "version": "3.6.1"
  },
  "latex_envs": {
   "LaTeX_envs_menu_present": true,
   "autoclose": false,
   "autocomplete": true,
   "bibliofile": "biblio.bib",
   "cite_by": "apalike",
   "current_citInitial": 1,
   "eqLabelWithNumbers": true,
   "eqNumInitial": 1,
   "hotkeys": {
    "equation": "Ctrl-E",
    "itemize": "Ctrl-I"
   },
   "labels_anchors": false,
   "latex_user_defs": false,
   "report_style_numbering": false,
   "user_envs_cfg": false
  },
  "toc": {
   "base_numbering": 1,
   "nav_menu": {
    "height": "68px",
    "width": "204px"
   },
   "number_sections": true,
   "sideBar": true,
   "skip_h1_title": true,
   "title_cell": "Table of Contents",
   "title_sidebar": "Contents",
   "toc_cell": false,
   "toc_position": {
    "height": "calc(100% - 180px)",
    "left": "10px",
    "top": "150px",
    "width": "237px"
   },
   "toc_section_display": true,
   "toc_window_display": true
  },
  "toc-autonumbering": false,
  "varInspector": {
   "cols": {
    "lenName": 16,
    "lenType": 16,
    "lenVar": 40
   },
   "kernels_config": {
    "python": {
     "delete_cmd_postfix": "",
     "delete_cmd_prefix": "del ",
     "library": "var_list.py",
     "varRefreshCmd": "print(var_dic_list())"
    },
    "r": {
     "delete_cmd_postfix": ") ",
     "delete_cmd_prefix": "rm(",
     "library": "var_list.r",
     "varRefreshCmd": "cat(var_dic_list()) "
    }
   },
   "oldHeight": 455.844,
   "position": {
    "height": "477.844px",
    "left": "770px",
    "right": "20px",
    "top": "123px",
    "width": "521px"
   },
   "types_to_exclude": [
    "module",
    "function",
    "builtin_function_or_method",
    "instance",
    "_Feature"
   ],
   "varInspector_section_display": "block",
   "window_display": false
  }
 },
 "nbformat": 4,
 "nbformat_minor": 5
}
